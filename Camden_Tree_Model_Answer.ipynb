{
  "cells": [
    {
      "cell_type": "markdown",
      "metadata": {
        "id": "view-in-github",
        "colab_type": "text"
      },
      "source": [
        "<a href=\"https://colab.research.google.com/github/stoneboyindc/radian/blob/main/Camden_Tree_Model_Answer.ipynb\" target=\"_parent\"><img src=\"https://colab.research.google.com/assets/colab-badge.svg\" alt=\"Open In Colab\"/></a>"
      ]
    },
    {
      "cell_type": "markdown",
      "id": "38bcec7a-f9ab-48e8-9553-e9ded639a576",
      "metadata": {
        "id": "38bcec7a-f9ab-48e8-9553-e9ded639a576"
      },
      "source": [
        "# Trees in Camden\n",
        "Use this notebook to complete your analysis.\n",
        "Enter code and comments after the TODOs.\n",
        "\n",
        "There are some code cells completed for you.  These are highlighted with a <font style=\"color:crimson;background-color:lemonchiffon\">TODO</font> comment.  You can use these to guide the subsequent tasks.  Other cells require you to read documentation or search for answers.  The markdown comments give you links to some useful documentation and articles.  Read the documentation, look at the examples provided in the documentation and then try to apply them to your data.\n",
        "\n",
        "Remember that you can find information on the pandas functions on the Pandas website https://pandas.pydata.org/pandas-docs/stable/reference/frame.html or directly in the notebook by puttin a ? before or after the function name. for instance: `?df.head()` or `df['Maturity'].value_counts()?`"
      ]
    },
    {
      "cell_type": "markdown",
      "id": "71f2c016-f440-4601-8262-1d814315d1bb",
      "metadata": {
        "id": "71f2c016-f440-4601-8262-1d814315d1bb"
      },
      "source": [
        "## Imports\n",
        "Import the libraries we need to perform the analysis."
      ]
    },
    {
      "cell_type": "code",
      "execution_count": null,
      "id": "26c7393c-3a3f-4224-8c88-10aa58310351",
      "metadata": {
        "id": "26c7393c-3a3f-4224-8c88-10aa58310351"
      },
      "outputs": [],
      "source": [
        "import pandas as pd"
      ]
    },
    {
      "cell_type": "markdown",
      "id": "ddcf618b-a928-498c-b07e-991c7eb09bb7",
      "metadata": {
        "tags": [],
        "toc-hr-collapsed": true,
        "id": "ddcf618b-a928-498c-b07e-991c7eb09bb7"
      },
      "source": [
        "## Task 2: Load Data and Perform Initial Exploration\n",
        "Load the data from the supplied data files.  The files are in different **file formats**, but Pandas can handle this.\n",
        "\n",
        "You should read the data in using the appropriate function:\n",
        "\n",
        "- [pandas.read_excel](https://pandas.pydata.org/pandas-docs/stable/reference/api/pandas.read_excel.html)\n",
        "- [pandas.read_csv](https://pandas.pydata.org/docs/reference/api/pandas.read_csv.html)\n",
        "- [pandas.read_json](https://pandas.pydata.org/pandas-docs/version/0.23.4/generated/pandas.read_json.html)\n",
        "\n",
        "You can then inspect the first few rows of the loaded dataframe:\n",
        "\n",
        "[pandas.DataFrame.head](https://pandas.pydata.org/docs/reference/api/pandas.DataFrame.head.html)\n",
        "\n",
        "You can get the number of rows and columns:\n",
        "\n",
        "[pandas.DataFrame.shape](https://pandas.pydata.org/pandas-docs/stable/reference/api/pandas.DataFrame.shape.html)\n",
        "\n",
        "You can get the list of column names:\n",
        "\n",
        "[pandas.DataFrame.columns](https://pandas.pydata.org/docs/reference/api/pandas.DataFrame.columns.html)\n",
        "\n",
        "And you can list the data types of the columns:\n",
        "\n",
        "[pandas.DataFrames.dtypes](https://pandas.pydata.org/pandas-docs/stable/reference/api/pandas.DataFrame.dtypes.html)\n",
        "\n",
        "I've done the first one (loading `\"camden_trees.xlsx\"`) for you.  Please load `\"camden_trees_environmental.csv\"` and `\"tree_common_names.json\"` and analyse them in the same way.\n"
      ]
    },
    {
      "cell_type": "markdown",
      "id": "be1b77e3-ef79-49da-a896-dafbc51a3e10",
      "metadata": {
        "id": "be1b77e3-ef79-49da-a896-dafbc51a3e10"
      },
      "source": [
        "### 2.1 Trees\n",
        "The file `\"camden_trees.xlsx\"` is an Excel file, so we use the `read_excel()` function."
      ]
    },
    {
      "cell_type": "code",
      "execution_count": null,
      "id": "dcc71d80-c6e5-41fa-bdd2-8a9c1c129cc7",
      "metadata": {
        "id": "dcc71d80-c6e5-41fa-bdd2-8a9c1c129cc7"
      },
      "outputs": [],
      "source": [
        "# Create a Pandas dataframe called trees that contains the contents of the Excel file\n",
        "trees = pd.read_excel(\"camden_trees.xlsx\")"
      ]
    },
    {
      "cell_type": "markdown",
      "id": "13689979-f709-4e37-87bc-e005a9dfd0ea",
      "metadata": {
        "id": "13689979-f709-4e37-87bc-e005a9dfd0ea"
      },
      "source": [
        "We can now inspect the first few rows using `head()`.  By default, `head()` displays the first 5 rows."
      ]
    },
    {
      "cell_type": "code",
      "execution_count": null,
      "id": "34c737a4-0666-450f-8db3-b14fd2c2fec5",
      "metadata": {
        "id": "34c737a4-0666-450f-8db3-b14fd2c2fec5",
        "outputId": "5edf8bda-cba8-4c76-ea29-4abfdeb5bd71"
      },
      "outputs": [
        {
          "data": {
            "text/html": [
              "<div>\n",
              "<style scoped>\n",
              "    .dataframe tbody tr th:only-of-type {\n",
              "        vertical-align: middle;\n",
              "    }\n",
              "\n",
              "    .dataframe tbody tr th {\n",
              "        vertical-align: top;\n",
              "    }\n",
              "\n",
              "    .dataframe thead th {\n",
              "        text-align: right;\n",
              "    }\n",
              "</style>\n",
              "<table border=\"1\" class=\"dataframe\">\n",
              "  <thead>\n",
              "    <tr style=\"text-align: right;\">\n",
              "      <th></th>\n",
              "      <th>Identifier</th>\n",
              "      <th>Number Of Trees</th>\n",
              "      <th>Site Name</th>\n",
              "      <th>Contract Area</th>\n",
              "      <th>Scientific Name</th>\n",
              "      <th>Inspection Date</th>\n",
              "      <th>Inspection Due Date</th>\n",
              "      <th>Height In Metres</th>\n",
              "      <th>Spread In Metres</th>\n",
              "      <th>Diameter In Centimetres At Breast Height</th>\n",
              "      <th>Ward Code</th>\n",
              "      <th>Ward Name</th>\n",
              "      <th>Easting</th>\n",
              "      <th>Northing</th>\n",
              "      <th>Longitude</th>\n",
              "      <th>Latitude</th>\n",
              "      <th>Location</th>\n",
              "    </tr>\n",
              "  </thead>\n",
              "  <tbody>\n",
              "    <tr>\n",
              "      <th>0</th>\n",
              "      <td>00060053</td>\n",
              "      <td>1.0</td>\n",
              "      <td>Russell Nurseries Estate</td>\n",
              "      <td>Housing</td>\n",
              "      <td>Vacant Tree Pit</td>\n",
              "      <td>NaT</td>\n",
              "      <td>NaN</td>\n",
              "      <td>NaN</td>\n",
              "      <td>NaN</td>\n",
              "      <td>NaN</td>\n",
              "      <td>E05000135</td>\n",
              "      <td>Hampstead Town</td>\n",
              "      <td>527305</td>\n",
              "      <td>185240</td>\n",
              "      <td>-0.165240</td>\n",
              "      <td>51.551693</td>\n",
              "      <td>(51.551693, -0.16524)</td>\n",
              "    </tr>\n",
              "    <tr>\n",
              "      <th>1</th>\n",
              "      <td>00057855</td>\n",
              "      <td>1.0</td>\n",
              "      <td>BRECKNOCK JMI (E)</td>\n",
              "      <td>Education</td>\n",
              "      <td>Vacant Tree Pit</td>\n",
              "      <td>2019-07-17</td>\n",
              "      <td>2022/2023</td>\n",
              "      <td>NaN</td>\n",
              "      <td>NaN</td>\n",
              "      <td>NaN</td>\n",
              "      <td>E05000131</td>\n",
              "      <td>Cantelowes</td>\n",
              "      <td>529923</td>\n",
              "      <td>184782</td>\n",
              "      <td>-0.127681</td>\n",
              "      <td>51.546984</td>\n",
              "      <td>(51.546984, -0.127681)</td>\n",
              "    </tr>\n",
              "    <tr>\n",
              "      <th>2</th>\n",
              "      <td>00059953</td>\n",
              "      <td>1.0</td>\n",
              "      <td>Estate 51 Ravenshaw Street</td>\n",
              "      <td>Housing</td>\n",
              "      <td>Ficus carica</td>\n",
              "      <td>NaT</td>\n",
              "      <td>NaN</td>\n",
              "      <td>5.0</td>\n",
              "      <td>4.0</td>\n",
              "      <td>10.0</td>\n",
              "      <td>NaN</td>\n",
              "      <td>NaN</td>\n",
              "      <td>0</td>\n",
              "      <td>0</td>\n",
              "      <td>NaN</td>\n",
              "      <td>NaN</td>\n",
              "      <td>NaN</td>\n",
              "    </tr>\n",
              "    <tr>\n",
              "      <th>3</th>\n",
              "      <td>00059915</td>\n",
              "      <td>1.0</td>\n",
              "      <td>ROSARY RC JMI (E)</td>\n",
              "      <td>Education</td>\n",
              "      <td>Betula jacquemontii</td>\n",
              "      <td>NaT</td>\n",
              "      <td>NaN</td>\n",
              "      <td>4.0</td>\n",
              "      <td>1.0</td>\n",
              "      <td>6.0</td>\n",
              "      <td>E05000135</td>\n",
              "      <td>Hampstead Town</td>\n",
              "      <td>527249</td>\n",
              "      <td>185261</td>\n",
              "      <td>-0.166051</td>\n",
              "      <td>51.551901</td>\n",
              "      <td>(51.551901, -0.166051)</td>\n",
              "    </tr>\n",
              "    <tr>\n",
              "      <th>4</th>\n",
              "      <td>00010762</td>\n",
              "      <td>1.0</td>\n",
              "      <td>Holly Lodge Estate</td>\n",
              "      <td>Housing</td>\n",
              "      <td>Ilex x altaclarensis</td>\n",
              "      <td>2017-06-14</td>\n",
              "      <td>2020/2021</td>\n",
              "      <td>14.0</td>\n",
              "      <td>6.0</td>\n",
              "      <td>26.0</td>\n",
              "      <td>E05000137</td>\n",
              "      <td>Highgate</td>\n",
              "      <td>528414</td>\n",
              "      <td>186770</td>\n",
              "      <td>-0.148704</td>\n",
              "      <td>51.565198</td>\n",
              "      <td>(51.565198, -0.148704)</td>\n",
              "    </tr>\n",
              "  </tbody>\n",
              "</table>\n",
              "</div>"
            ],
            "text/plain": [
              "  Identifier  Number Of Trees                   Site Name Contract Area  \\\n",
              "0   00060053              1.0    Russell Nurseries Estate       Housing   \n",
              "1   00057855              1.0           BRECKNOCK JMI (E)     Education   \n",
              "2   00059953              1.0  Estate 51 Ravenshaw Street       Housing   \n",
              "3   00059915              1.0           ROSARY RC JMI (E)     Education   \n",
              "4   00010762              1.0          Holly Lodge Estate       Housing   \n",
              "\n",
              "        Scientific Name Inspection Date Inspection Due Date  Height In Metres  \\\n",
              "0       Vacant Tree Pit             NaT                 NaN               NaN   \n",
              "1       Vacant Tree Pit      2019-07-17           2022/2023               NaN   \n",
              "2          Ficus carica             NaT                 NaN               5.0   \n",
              "3   Betula jacquemontii             NaT                 NaN               4.0   \n",
              "4  Ilex x altaclarensis      2017-06-14           2020/2021              14.0   \n",
              "\n",
              "   Spread In Metres  Diameter In Centimetres At Breast Height  Ward Code  \\\n",
              "0               NaN                                       NaN  E05000135   \n",
              "1               NaN                                       NaN  E05000131   \n",
              "2               4.0                                      10.0        NaN   \n",
              "3               1.0                                       6.0  E05000135   \n",
              "4               6.0                                      26.0  E05000137   \n",
              "\n",
              "        Ward Name  Easting  Northing  Longitude   Latitude  \\\n",
              "0  Hampstead Town   527305    185240  -0.165240  51.551693   \n",
              "1      Cantelowes   529923    184782  -0.127681  51.546984   \n",
              "2             NaN        0         0        NaN        NaN   \n",
              "3  Hampstead Town   527249    185261  -0.166051  51.551901   \n",
              "4        Highgate   528414    186770  -0.148704  51.565198   \n",
              "\n",
              "                 Location  \n",
              "0   (51.551693, -0.16524)  \n",
              "1  (51.546984, -0.127681)  \n",
              "2                     NaN  \n",
              "3  (51.551901, -0.166051)  \n",
              "4  (51.565198, -0.148704)  "
            ]
          },
          "execution_count": 3,
          "metadata": {},
          "output_type": "execute_result"
        }
      ],
      "source": [
        "# Display the first few rows\n",
        "trees.head()"
      ]
    },
    {
      "cell_type": "markdown",
      "id": "2dc1c27b-7658-41be-92f5-6d1ee07f49c0",
      "metadata": {
        "id": "2dc1c27b-7658-41be-92f5-6d1ee07f49c0"
      },
      "source": [
        "It's good to understand the size of the dataset we are dealing with.  The `shape` property does this for us."
      ]
    },
    {
      "cell_type": "code",
      "execution_count": null,
      "id": "9e7f1cf1-4e79-4cdd-a6b8-0a41c16cb153",
      "metadata": {
        "id": "9e7f1cf1-4e79-4cdd-a6b8-0a41c16cb153",
        "outputId": "226a2a56-0123-48a7-e823-bba455add80b"
      },
      "outputs": [
        {
          "data": {
            "text/plain": [
              "(23444, 17)"
            ]
          },
          "execution_count": 4,
          "metadata": {},
          "output_type": "execute_result"
        }
      ],
      "source": [
        "# Get the number of rows and columns\n",
        "trees.shape"
      ]
    },
    {
      "cell_type": "markdown",
      "id": "d499f569-4200-48e9-b0a5-b84fc72a228a",
      "metadata": {
        "id": "d499f569-4200-48e9-b0a5-b84fc72a228a"
      },
      "source": [
        "If there are lots of columns we can't always see all of them in the `head()` list above.  We can use the `columns` property to get a full list:"
      ]
    },
    {
      "cell_type": "code",
      "execution_count": null,
      "id": "be4badda-f1c9-481c-a274-8251330cbc5a",
      "metadata": {
        "id": "be4badda-f1c9-481c-a274-8251330cbc5a",
        "outputId": "1ebe2a98-ff54-4454-b16a-f532d41e49f0"
      },
      "outputs": [
        {
          "data": {
            "text/plain": [
              "Index(['Identifier', 'Number Of Trees', 'Site Name', 'Contract Area',\n",
              "       'Scientific Name', 'Inspection Date', 'Inspection Due Date',\n",
              "       'Height In Metres', 'Spread In Metres',\n",
              "       'Diameter In Centimetres At Breast Height', 'Ward Code', 'Ward Name',\n",
              "       'Easting', 'Northing', 'Longitude', 'Latitude', 'Location'],\n",
              "      dtype='object')"
            ]
          },
          "execution_count": 5,
          "metadata": {},
          "output_type": "execute_result"
        }
      ],
      "source": [
        "# Get a list of all the columns in the dataframe\n",
        "trees.columns"
      ]
    },
    {
      "cell_type": "markdown",
      "id": "7b184dfb-0498-43c0-afa7-9d4be449863a",
      "metadata": {
        "id": "7b184dfb-0498-43c0-afa7-9d4be449863a"
      },
      "source": [
        "In order to process the data properly, we should understand the data type for each column.  Pandas attempts to work this out for us, but sometimes we need to give it a bit of a hand.  We can use the `dtypes` property to list the data types.  Note that `object` is Pandas way of saying `string`, i.e. a text data type."
      ]
    },
    {
      "cell_type": "code",
      "execution_count": null,
      "id": "f5b603ef-9ce1-4667-a672-5a86fe9daf1a",
      "metadata": {
        "id": "f5b603ef-9ce1-4667-a672-5a86fe9daf1a",
        "outputId": "d634a4c1-a5b2-4594-ec83-588113cf1140"
      },
      "outputs": [
        {
          "data": {
            "text/plain": [
              "Identifier                                          object\n",
              "Number Of Trees                                    float64\n",
              "Site Name                                           object\n",
              "Contract Area                                       object\n",
              "Scientific Name                                     object\n",
              "Inspection Date                             datetime64[ns]\n",
              "Inspection Due Date                                 object\n",
              "Height In Metres                                   float64\n",
              "Spread In Metres                                   float64\n",
              "Diameter In Centimetres At Breast Height           float64\n",
              "Ward Code                                           object\n",
              "Ward Name                                           object\n",
              "Easting                                              int64\n",
              "Northing                                             int64\n",
              "Longitude                                          float64\n",
              "Latitude                                           float64\n",
              "Location                                            object\n",
              "dtype: object"
            ]
          },
          "execution_count": 6,
          "metadata": {},
          "output_type": "execute_result"
        }
      ],
      "source": [
        "# List the data types of each column\n",
        "trees.dtypes"
      ]
    },
    {
      "cell_type": "markdown",
      "id": "722d9b40-5f9c-4362-9b46-b052b2449898",
      "metadata": {
        "id": "722d9b40-5f9c-4362-9b46-b052b2449898"
      },
      "source": [
        "### 2.2 Environmental\n",
        "The file `\"camden_trees_environmental.csv\"` is a csv file.  Use the appropriate function to load it into a Pandas DataFrame."
      ]
    },
    {
      "cell_type": "markdown",
      "id": "287a9dc8-86ae-4d53-b0e4-8778e96aa17d",
      "metadata": {
        "id": "287a9dc8-86ae-4d53-b0e4-8778e96aa17d"
      },
      "source": [
        "<div style=\"background-color:lemonchiffon; border:1px solid; padding:5px; margin:5px; font-weight:bold\"><font color=\"crimson\">\n",
        "TODO: Complete the following code cells\n",
        "    </font></div>"
      ]
    },
    {
      "cell_type": "code",
      "execution_count": null,
      "id": "a12780eb-bcb5-4955-bc9b-28439ee81d22",
      "metadata": {
        "id": "a12780eb-bcb5-4955-bc9b-28439ee81d22"
      },
      "outputs": [],
      "source": [
        "# Create a Pandas dataframe called envoironmental that contains the contents of the csv file\n",
        "# TODO\n",
        "environmental = pd.read_csv(\"camden_trees_environmental.csv\")"
      ]
    },
    {
      "cell_type": "code",
      "execution_count": null,
      "id": "4d6e254d-a3df-4004-b262-004923fdbf9a",
      "metadata": {
        "id": "4d6e254d-a3df-4004-b262-004923fdbf9a",
        "outputId": "5655164b-e940-4e0c-d865-5fae35e0fedf"
      },
      "outputs": [
        {
          "data": {
            "text/html": [
              "<div>\n",
              "<style scoped>\n",
              "    .dataframe tbody tr th:only-of-type {\n",
              "        vertical-align: middle;\n",
              "    }\n",
              "\n",
              "    .dataframe tbody tr th {\n",
              "        vertical-align: top;\n",
              "    }\n",
              "\n",
              "    .dataframe thead th {\n",
              "        text-align: right;\n",
              "    }\n",
              "</style>\n",
              "<table border=\"1\" class=\"dataframe\">\n",
              "  <thead>\n",
              "    <tr style=\"text-align: right;\">\n",
              "      <th></th>\n",
              "      <th>Identifier</th>\n",
              "      <th>Maturity</th>\n",
              "      <th>Physiological Condition</th>\n",
              "      <th>Tree Set To Be Removed</th>\n",
              "      <th>Removal Reason</th>\n",
              "      <th>Capital Asset Value For Amenity Trees</th>\n",
              "      <th>Carbon Storage In Kilograms</th>\n",
              "      <th>Gross Carbon Sequestration Per Year In Kilograms</th>\n",
              "      <th>Pollution Removal Per Year In Grams</th>\n",
              "    </tr>\n",
              "  </thead>\n",
              "  <tbody>\n",
              "    <tr>\n",
              "      <th>0</th>\n",
              "      <td>00055125</td>\n",
              "      <td>Juvenile</td>\n",
              "      <td>Good</td>\n",
              "      <td>No</td>\n",
              "      <td>NaN</td>\n",
              "      <td>115.07</td>\n",
              "      <td>1.6</td>\n",
              "      <td>0.5</td>\n",
              "      <td>5.7</td>\n",
              "    </tr>\n",
              "    <tr>\n",
              "      <th>1</th>\n",
              "      <td>00059429</td>\n",
              "      <td>Middle aged</td>\n",
              "      <td>Fair</td>\n",
              "      <td>No</td>\n",
              "      <td>NaN</td>\n",
              "      <td>7518.08</td>\n",
              "      <td>NaN</td>\n",
              "      <td>NaN</td>\n",
              "      <td>NaN</td>\n",
              "    </tr>\n",
              "    <tr>\n",
              "      <th>2</th>\n",
              "      <td>00018254</td>\n",
              "      <td>Mature</td>\n",
              "      <td>Fair</td>\n",
              "      <td>No</td>\n",
              "      <td>NaN</td>\n",
              "      <td>20419.63</td>\n",
              "      <td>426.4</td>\n",
              "      <td>8.8</td>\n",
              "      <td>215.2</td>\n",
              "    </tr>\n",
              "    <tr>\n",
              "      <th>3</th>\n",
              "      <td>00027155</td>\n",
              "      <td>Mature</td>\n",
              "      <td>Fair</td>\n",
              "      <td>No</td>\n",
              "      <td>NaN</td>\n",
              "      <td>21447.74</td>\n",
              "      <td>448.3</td>\n",
              "      <td>9.6</td>\n",
              "      <td>379.1</td>\n",
              "    </tr>\n",
              "    <tr>\n",
              "      <th>4</th>\n",
              "      <td>00041326</td>\n",
              "      <td>Juvenile</td>\n",
              "      <td>Good</td>\n",
              "      <td>No</td>\n",
              "      <td>NaN</td>\n",
              "      <td>524.30</td>\n",
              "      <td>9.9</td>\n",
              "      <td>1.4</td>\n",
              "      <td>12.8</td>\n",
              "    </tr>\n",
              "  </tbody>\n",
              "</table>\n",
              "</div>"
            ],
            "text/plain": [
              "  Identifier     Maturity Physiological Condition Tree Set To Be Removed  \\\n",
              "0   00055125     Juvenile                    Good                     No   \n",
              "1   00059429  Middle aged                    Fair                     No   \n",
              "2   00018254       Mature                    Fair                     No   \n",
              "3   00027155       Mature                    Fair                     No   \n",
              "4   00041326     Juvenile                    Good                     No   \n",
              "\n",
              "  Removal Reason  Capital Asset Value For Amenity Trees  \\\n",
              "0            NaN                                 115.07   \n",
              "1            NaN                                7518.08   \n",
              "2            NaN                               20419.63   \n",
              "3            NaN                               21447.74   \n",
              "4            NaN                                 524.30   \n",
              "\n",
              "   Carbon Storage In Kilograms  \\\n",
              "0                          1.6   \n",
              "1                          NaN   \n",
              "2                        426.4   \n",
              "3                        448.3   \n",
              "4                          9.9   \n",
              "\n",
              "   Gross Carbon Sequestration Per Year In Kilograms  \\\n",
              "0                                               0.5   \n",
              "1                                               NaN   \n",
              "2                                               8.8   \n",
              "3                                               9.6   \n",
              "4                                               1.4   \n",
              "\n",
              "   Pollution Removal Per Year In Grams  \n",
              "0                                  5.7  \n",
              "1                                  NaN  \n",
              "2                                215.2  \n",
              "3                                379.1  \n",
              "4                                 12.8  "
            ]
          },
          "execution_count": 8,
          "metadata": {},
          "output_type": "execute_result"
        }
      ],
      "source": [
        "# Display the first few rows\n",
        "# TODO\n",
        "environmental.head()"
      ]
    },
    {
      "cell_type": "code",
      "execution_count": null,
      "id": "66c23391-628f-4612-936b-7f55c561fd1b",
      "metadata": {
        "id": "66c23391-628f-4612-936b-7f55c561fd1b",
        "outputId": "040b9c76-2e42-442c-95fd-784afcfffc31"
      },
      "outputs": [
        {
          "data": {
            "text/plain": [
              "(23415, 9)"
            ]
          },
          "execution_count": 9,
          "metadata": {},
          "output_type": "execute_result"
        }
      ],
      "source": [
        "# Get the number of rows and columns\n",
        "# TODO\n",
        "environmental.shape"
      ]
    },
    {
      "cell_type": "code",
      "execution_count": null,
      "id": "2ccce95e-0aec-4b3b-a961-5356606c2d60",
      "metadata": {
        "id": "2ccce95e-0aec-4b3b-a961-5356606c2d60",
        "outputId": "8f63f95a-5a3c-44d7-b932-93295098d1d2"
      },
      "outputs": [
        {
          "data": {
            "text/plain": [
              "Index(['Identifier', 'Maturity', 'Physiological Condition',\n",
              "       'Tree Set To Be Removed', 'Removal Reason',\n",
              "       'Capital Asset Value For Amenity Trees', 'Carbon Storage In Kilograms',\n",
              "       'Gross Carbon Sequestration Per Year In Kilograms',\n",
              "       'Pollution Removal Per Year In Grams'],\n",
              "      dtype='object')"
            ]
          },
          "execution_count": 10,
          "metadata": {},
          "output_type": "execute_result"
        }
      ],
      "source": [
        "# Get a list of all the columns in the dataframe\n",
        "# TODO\n",
        "environmental.columns"
      ]
    },
    {
      "cell_type": "code",
      "execution_count": null,
      "id": "b32a0236-40fc-44d8-a0b1-d2afb3baba19",
      "metadata": {
        "id": "b32a0236-40fc-44d8-a0b1-d2afb3baba19",
        "outputId": "bc13cdfc-25f3-48b9-c0f5-16f74a05a31e"
      },
      "outputs": [
        {
          "data": {
            "text/plain": [
              "Identifier                                           object\n",
              "Maturity                                             object\n",
              "Physiological Condition                              object\n",
              "Tree Set To Be Removed                               object\n",
              "Removal Reason                                       object\n",
              "Capital Asset Value For Amenity Trees               float64\n",
              "Carbon Storage In Kilograms                         float64\n",
              "Gross Carbon Sequestration Per Year In Kilograms    float64\n",
              "Pollution Removal Per Year In Grams                 float64\n",
              "dtype: object"
            ]
          },
          "execution_count": 11,
          "metadata": {},
          "output_type": "execute_result"
        }
      ],
      "source": [
        "# List the data types of each column\n",
        "# TODO\n",
        "environmental.dtypes"
      ]
    },
    {
      "cell_type": "markdown",
      "id": "8a34f85b-ef3a-46a2-9aa5-b8e7cf5167e0",
      "metadata": {
        "id": "8a34f85b-ef3a-46a2-9aa5-b8e7cf5167e0"
      },
      "source": [
        "<hr/>"
      ]
    },
    {
      "cell_type": "markdown",
      "id": "faa2e5f5-67d8-4382-bad0-549486826c3a",
      "metadata": {
        "id": "faa2e5f5-67d8-4382-bad0-549486826c3a"
      },
      "source": [
        "### 2.3 Common and Scientific Names\n",
        "The file `\"tree_common_names.json\"` is a json file.  Use the appropriate function to load it into a Pandas DataFrame."
      ]
    },
    {
      "cell_type": "markdown",
      "id": "c9f94fa5-f21b-4f97-9c2c-bcb4ad41f761",
      "metadata": {
        "id": "c9f94fa5-f21b-4f97-9c2c-bcb4ad41f761"
      },
      "source": [
        "<div style=\"background-color:lemonchiffon; border:1px solid; padding:5px; margin:5px; font-weight:bold\"><font color=\"crimson\">\n",
        "TODO: Complete the following code cells\n",
        "    </font></div>"
      ]
    },
    {
      "cell_type": "code",
      "execution_count": null,
      "id": "9d3eef7b-123a-4e3d-8d19-5808becb2d35",
      "metadata": {
        "id": "9d3eef7b-123a-4e3d-8d19-5808becb2d35"
      },
      "outputs": [],
      "source": [
        "# Create a Pandas dataframe called names that contains the contents of the json file\n",
        "# TODO\n",
        "names = pd.read_json(\"tree_common_names.json\")"
      ]
    },
    {
      "cell_type": "code",
      "execution_count": null,
      "id": "5d05c25c-b462-481b-b8ca-485f4b5a6cec",
      "metadata": {
        "id": "5d05c25c-b462-481b-b8ca-485f4b5a6cec",
        "outputId": "3d877baa-770f-4099-8aee-e88182a53568"
      },
      "outputs": [
        {
          "data": {
            "text/html": [
              "<div>\n",
              "<style scoped>\n",
              "    .dataframe tbody tr th:only-of-type {\n",
              "        vertical-align: middle;\n",
              "    }\n",
              "\n",
              "    .dataframe tbody tr th {\n",
              "        vertical-align: top;\n",
              "    }\n",
              "\n",
              "    .dataframe thead th {\n",
              "        text-align: right;\n",
              "    }\n",
              "</style>\n",
              "<table border=\"1\" class=\"dataframe\">\n",
              "  <thead>\n",
              "    <tr style=\"text-align: right;\">\n",
              "      <th></th>\n",
              "      <th>Scientific Name</th>\n",
              "      <th>Common Name</th>\n",
              "    </tr>\n",
              "  </thead>\n",
              "  <tbody>\n",
              "    <tr>\n",
              "      <th>0</th>\n",
              "      <td>Carpinus betulus Lucas</td>\n",
              "      <td>Hornbeam - European</td>\n",
              "    </tr>\n",
              "    <tr>\n",
              "      <th>1</th>\n",
              "      <td>Prunus 'Pandora'</td>\n",
              "      <td>Cherry - Ornamental</td>\n",
              "    </tr>\n",
              "    <tr>\n",
              "      <th>2</th>\n",
              "      <td>Tilia unidentified species</td>\n",
              "      <td>Lime</td>\n",
              "    </tr>\n",
              "    <tr>\n",
              "      <th>3</th>\n",
              "      <td>Rosa unidentified species</td>\n",
              "      <td>None</td>\n",
              "    </tr>\n",
              "    <tr>\n",
              "      <th>4</th>\n",
              "      <td>Cedrus libani</td>\n",
              "      <td>Cedar of Lebanon</td>\n",
              "    </tr>\n",
              "  </tbody>\n",
              "</table>\n",
              "</div>"
            ],
            "text/plain": [
              "              Scientific Name          Common Name\n",
              "0      Carpinus betulus Lucas  Hornbeam - European\n",
              "1            Prunus 'Pandora'  Cherry - Ornamental\n",
              "2  Tilia unidentified species                 Lime\n",
              "3   Rosa unidentified species                 None\n",
              "4               Cedrus libani     Cedar of Lebanon"
            ]
          },
          "execution_count": 13,
          "metadata": {},
          "output_type": "execute_result"
        }
      ],
      "source": [
        "# Display the first few rows\n",
        "# TODO\n",
        "names.head()"
      ]
    },
    {
      "cell_type": "code",
      "execution_count": null,
      "id": "d6b7cc1e-1ec9-4a5e-a526-23143c0702f7",
      "metadata": {
        "id": "d6b7cc1e-1ec9-4a5e-a526-23143c0702f7",
        "outputId": "e9c9ad93-6916-4106-e32a-875fb148244a"
      },
      "outputs": [
        {
          "data": {
            "text/plain": [
              "(589, 2)"
            ]
          },
          "execution_count": 14,
          "metadata": {},
          "output_type": "execute_result"
        }
      ],
      "source": [
        "# Get the number of rows and columns\n",
        "# TODO\n",
        "names.shape"
      ]
    },
    {
      "cell_type": "code",
      "execution_count": null,
      "id": "f349e0ba-c2d0-469b-9f16-530394e85446",
      "metadata": {
        "id": "f349e0ba-c2d0-469b-9f16-530394e85446",
        "outputId": "e0ad46b5-9040-46f9-b7c6-42714ae6e7c7"
      },
      "outputs": [
        {
          "data": {
            "text/plain": [
              "Index(['Scientific Name', 'Common Name'], dtype='object')"
            ]
          },
          "execution_count": 15,
          "metadata": {},
          "output_type": "execute_result"
        }
      ],
      "source": [
        "# Get a list of all the columns in the dataframe\n",
        "# TODO\n",
        "names.columns"
      ]
    },
    {
      "cell_type": "code",
      "execution_count": null,
      "id": "aa722c8d-db42-4d95-85cc-eb3d87bcdc5a",
      "metadata": {
        "id": "aa722c8d-db42-4d95-85cc-eb3d87bcdc5a",
        "outputId": "38c29ef7-ddeb-40f8-fe2a-023f0088bdac"
      },
      "outputs": [
        {
          "data": {
            "text/plain": [
              "Scientific Name    object\n",
              "Common Name        object\n",
              "dtype: object"
            ]
          },
          "execution_count": 16,
          "metadata": {},
          "output_type": "execute_result"
        }
      ],
      "source": [
        "# List the data types of each column\n",
        "# TODO\n",
        "names.dtypes"
      ]
    },
    {
      "cell_type": "markdown",
      "id": "9805dd82-3d92-4412-8d08-2386ff576235",
      "metadata": {
        "id": "9805dd82-3d92-4412-8d08-2386ff576235"
      },
      "source": [
        "<hr/>"
      ]
    },
    {
      "cell_type": "markdown",
      "id": "0ba2d5d3-ad1e-4961-a2c6-c6ecd1bcc9e0",
      "metadata": {
        "tags": [],
        "id": "0ba2d5d3-ad1e-4961-a2c6-c6ecd1bcc9e0"
      },
      "source": [
        "## Task 3: Further Inspect the Datasets\n",
        "The initial inspection gave you a very high-level understanding of the data.  We will now drill a bit deeper and try to understand the data column-by-column.\n",
        "\n",
        "For columns with a string data type (`object` in Pandas) we have **qualitative** data.  It would be good to know how many *different* values we have in the column, what those values are and the *count* how many of each different value we have.  This will help us understand if the qualitative variable is **binary**, **nominal** or **ordinal**.\n",
        "\n",
        "For columns with a numeric data type (`int` or `float`) we have **quantitative** data.  Usually integer type variables can the thought of as **discrete** and float type variables can be thought of as **continuous**.  It would be good to know some summary descriptive statistics for these columns.   \n",
        "\n",
        "If you are unsure of what these different data classifications mean, read this:\n",
        "\n",
        "[Types of Variables](https://openclassrooms.com/en/courses/6037301-perform-an-initial-data-analysis/6051886-discover-the-four-variable-types)\n",
        "\n",
        "You can get the list of values and counts for a column using this function:\n",
        "\n",
        "[pandas.Series.value_counts](https://pandas.pydata.org/docs/reference/api/pandas.Series.value_counts.html)\n",
        "\n",
        "You can get the descriptive statistics for a DataFrame using this function:\n",
        "\n",
        "[pandas.DataFrame.describe](https://pandas.pydata.org/pandas-docs/stable/reference/api/pandas.DataFrame.describe.html)\n",
        "\n",
        "Note that Pandas may treat integer columns as floats if there are null values in the columns.  So if you see a float data type it might be worth checking the actual values to confirm if it really is a float or if it really is an int with nulls.  You can check the actual values with:\n",
        "\n",
        "[pandas.Series.unique](https://pandas.pydata.org/docs/reference/api/pandas.Series.unique.html)\n",
        "\n"
      ]
    },
    {
      "cell_type": "markdown",
      "id": "9899c07e-0430-49db-875a-6d5a629d6887",
      "metadata": {
        "id": "9899c07e-0430-49db-875a-6d5a629d6887"
      },
      "source": [
        "### 3.1 Further Inspect the Trees Dataset\n",
        "Let's start with the trees dataset.\n"
      ]
    },
    {
      "cell_type": "markdown",
      "id": "e220daf9-b12b-4d67-9253-6f61b1952e2f",
      "metadata": {
        "id": "e220daf9-b12b-4d67-9253-6f61b1952e2f"
      },
      "source": [
        "#### 3.1.a Counts of Values for String Types Columns\n",
        "Go through each column that is a string (object) type and count the number of rows for each value in the column.  After each one, classify the data as binary, nominal or ordinal using a markdown comment.  \n",
        "\n",
        "I've done the first one for you.\n"
      ]
    },
    {
      "cell_type": "markdown",
      "id": "3dd0dd30-406d-4635-888b-4157fa5e3f37",
      "metadata": {
        "id": "3dd0dd30-406d-4635-888b-4157fa5e3f37"
      },
      "source": [
        "<hr/>\n",
        "\n",
        "**Site Name**"
      ]
    },
    {
      "cell_type": "code",
      "execution_count": null,
      "id": "3a4a0915-8d0e-45a2-a919-6b9fd49160da",
      "metadata": {
        "id": "3a4a0915-8d0e-45a2-a919-6b9fd49160da",
        "outputId": "751f766d-c197-44a9-af6a-9151cd9d3805"
      },
      "outputs": [
        {
          "data": {
            "text/plain": [
              "WATERLOW PARK (LS)                          920\n",
              "Alexandra & Ainsworth Estate                289\n",
              "Belsize nature reserve, Russell Nursery     278\n",
              "Holly Lodge Estate                          272\n",
              "LINCOLN'S INN FIELDS, GARDENS (LS)          193\n",
              "                                           ... \n",
              "Estate 1-19 Millman Place (cons)/2-12 M&      1\n",
              "Estate 16-20(even) &16a-20a (even) Will&      1\n",
              "DOWNSHIRE HILL                                1\n",
              "Estate 1-30 Winsham House (cons)              1\n",
              "Estate 65-67 Primrose Hill Road (odd)         1\n",
              "Name: Site Name, Length: 1135, dtype: int64"
            ]
          },
          "execution_count": 17,
          "metadata": {},
          "output_type": "execute_result"
        }
      ],
      "source": [
        "# List of values in Site Name column and their counts\n",
        "trees[\"Site Name\"].value_counts()"
      ]
    },
    {
      "cell_type": "markdown",
      "id": "9117ae6f-8ecb-429f-9e1e-84931d1291c2",
      "metadata": {
        "id": "9117ae6f-8ecb-429f-9e1e-84931d1291c2"
      },
      "source": [
        "Site Name is **qualitative nominal**."
      ]
    },
    {
      "cell_type": "markdown",
      "id": "8632c7a0-fd50-4e67-ba2d-a29895eac1c7",
      "metadata": {
        "id": "8632c7a0-fd50-4e67-ba2d-a29895eac1c7"
      },
      "source": [
        "Now do the same on the other string columns.  Use `value_counts()` and then classify as binary, ordered or unordered using a markdown comment.  As you do each one, stop and look at the values and counts and think about how the data in the column might be useful for supporting the council's initiatives.  Don't just treat this as a mechanical copy/paste task. The objective is, after all, to get really intimate with the data!"
      ]
    },
    {
      "cell_type": "markdown",
      "id": "62f1b4ef-e76a-4464-af20-70a31385091f",
      "metadata": {
        "id": "62f1b4ef-e76a-4464-af20-70a31385091f"
      },
      "source": [
        "<div style=\"background-color:lemonchiffon; border:1px solid; padding:5px; margin:5px; font-weight:bold\"><font color=\"crimson\">\n",
        "TODO: Enter your code below.  Use one code cell per column and then add a markdown cell after each one to classify the column as in the above example.  Add as many cells as you need.\n",
        "    </font></div>"
      ]
    },
    {
      "cell_type": "markdown",
      "id": "10006cde-8938-447f-b2b1-4fa87f031d73",
      "metadata": {
        "id": "10006cde-8938-447f-b2b1-4fa87f031d73"
      },
      "source": [
        "**Contract Area**"
      ]
    },
    {
      "cell_type": "code",
      "execution_count": null,
      "id": "728ba9f3-4270-4f14-85c1-229f025bf910",
      "metadata": {
        "id": "728ba9f3-4270-4f14-85c1-229f025bf910",
        "outputId": "b9962a2f-8a7e-4243-9f12-9fa7823029fb"
      },
      "outputs": [
        {
          "data": {
            "text/plain": [
              "Highways              10062\n",
              "Housing                7500\n",
              "Parks                  4330\n",
              "Education              1288\n",
              "Corporate Landlord      264\n",
              "Name: Contract Area, dtype: int64"
            ]
          },
          "execution_count": 18,
          "metadata": {},
          "output_type": "execute_result"
        }
      ],
      "source": [
        "trees[\"Contract Area\"].value_counts()"
      ]
    },
    {
      "cell_type": "markdown",
      "id": "306da296-d0d1-4f6c-b7ed-f10962082058",
      "metadata": {
        "id": "306da296-d0d1-4f6c-b7ed-f10962082058"
      },
      "source": [
        "Contract Area is **qualitative nominal**."
      ]
    },
    {
      "cell_type": "markdown",
      "id": "0d95b8fc-b5be-4c26-b119-14a830c86ff8",
      "metadata": {
        "id": "0d95b8fc-b5be-4c26-b119-14a830c86ff8"
      },
      "source": [
        "\n",
        "**Scientific Name**"
      ]
    },
    {
      "cell_type": "code",
      "execution_count": null,
      "id": "0b462c7e-256e-4288-bb3c-71292abb93bf",
      "metadata": {
        "id": "0b462c7e-256e-4288-bb3c-71292abb93bf",
        "outputId": "d63ea7b8-f1e4-4d0f-bacf-539b1ed021be"
      },
      "outputs": [
        {
          "data": {
            "text/plain": [
              "Platanus x hispanica                                       3340\n",
              "Tilia europaea                                             1468\n",
              "Acer pseudoplatanus                                         941\n",
              "Betula pendula                                              765\n",
              "Fraxinus excelsior                                          754\n",
              "                                                           ... \n",
              "Vacant Tree Pit (planned: Crataegas monogyna 'Stricta')       1\n",
              "Tilia americana American sentr                                1\n",
              "Prunus padus 'Albertii'                                       1\n",
              "Vacant Tree Pit (planned: Acer rubrum 'Amstrong')             1\n",
              "Pinus unidentified species                                    1\n",
              "Name: Scientific Name, Length: 543, dtype: int64"
            ]
          },
          "execution_count": 19,
          "metadata": {},
          "output_type": "execute_result"
        }
      ],
      "source": [
        "trees[\"Scientific Name\"].value_counts()"
      ]
    },
    {
      "cell_type": "markdown",
      "id": "2f3fba19-09d0-4fea-825c-ed835ba1bb6a",
      "metadata": {
        "id": "2f3fba19-09d0-4fea-825c-ed835ba1bb6a"
      },
      "source": [
        "Scientific Name is **qualitative nominal**"
      ]
    },
    {
      "cell_type": "markdown",
      "id": "dead1112-d207-432f-be9b-ab6036352f47",
      "metadata": {
        "id": "dead1112-d207-432f-be9b-ab6036352f47"
      },
      "source": [
        "**Inspection Due Date**"
      ]
    },
    {
      "cell_type": "code",
      "execution_count": null,
      "id": "d3fd1610-18ca-4996-8773-81c841e67d01",
      "metadata": {
        "id": "d3fd1610-18ca-4996-8773-81c841e67d01",
        "outputId": "4ead3ca4-d456-4a64-e84d-264f472438f3"
      },
      "outputs": [
        {
          "data": {
            "text/plain": [
              "2022/2023    7921\n",
              "2021/2022    7353\n",
              "2020/2021    6577\n",
              "2019/2020    1157\n",
              "2018/2019      16\n",
              "2017/2018       5\n",
              "2001/2002       4\n",
              "2016/2017       4\n",
              "2003/2004       2\n",
              "2013/2014       1\n",
              "2012/2013       1\n",
              "2011/2012       1\n",
              "2006/2007       1\n",
              "Name: Inspection Due Date, dtype: int64"
            ]
          },
          "execution_count": 20,
          "metadata": {},
          "output_type": "execute_result"
        }
      ],
      "source": [
        "trees[\"Inspection Due Date\"].value_counts()"
      ]
    },
    {
      "cell_type": "markdown",
      "id": "a885b2dd-c935-48fb-83d2-ed92fd867fac",
      "metadata": {
        "id": "a885b2dd-c935-48fb-83d2-ed92fd867fac"
      },
      "source": [
        "Inspection Due Date is **qualitative ordinal**."
      ]
    },
    {
      "cell_type": "markdown",
      "id": "26a8b4ad-1b76-4dde-84fd-31190fb4afcd",
      "metadata": {
        "id": "26a8b4ad-1b76-4dde-84fd-31190fb4afcd"
      },
      "source": [
        "\n",
        "**Ward Code**"
      ]
    },
    {
      "cell_type": "code",
      "execution_count": null,
      "id": "acf5b68b-6d0c-4a8a-bf7b-54aacb16375e",
      "metadata": {
        "id": "acf5b68b-6d0c-4a8a-bf7b-54aacb16375e",
        "outputId": "f1028496-2b79-42a8-ed2b-b488ea936220"
      },
      "outputs": [
        {
          "data": {
            "text/plain": [
              "E05000137    2799\n",
              "E05000143    1832\n",
              "E05000134    1541\n",
              "E05000140    1540\n",
              "E05000139    1463\n",
              "E05000136    1424\n",
              "E05000135    1340\n",
              "E05000138    1293\n",
              "E05000132    1284\n",
              "E05000131    1231\n",
              "E05000133    1229\n",
              "E05000129    1008\n",
              "E05000142     989\n",
              "E05000144     978\n",
              "E05000130     899\n",
              "E05000145     853\n",
              "E05000141     824\n",
              "E05000128     691\n",
              "Name: Ward Code, dtype: int64"
            ]
          },
          "execution_count": 21,
          "metadata": {},
          "output_type": "execute_result"
        }
      ],
      "source": [
        "trees[\"Ward Code\"].value_counts()"
      ]
    },
    {
      "cell_type": "markdown",
      "id": "a4becc35-7742-43a1-bdfc-8271f53b1ee2",
      "metadata": {
        "id": "a4becc35-7742-43a1-bdfc-8271f53b1ee2"
      },
      "source": [
        "Ward Code is **qualitative nominal**."
      ]
    },
    {
      "cell_type": "markdown",
      "id": "2db13316-35da-4492-8863-6fcf1bdec0cc",
      "metadata": {
        "id": "2db13316-35da-4492-8863-6fcf1bdec0cc"
      },
      "source": [
        "\n",
        "**Ward Name**"
      ]
    },
    {
      "cell_type": "code",
      "execution_count": null,
      "id": "5f8ed6a3-be5b-403e-9e06-153a9fa51024",
      "metadata": {
        "id": "5f8ed6a3-be5b-403e-9e06-153a9fa51024",
        "outputId": "7ef2d13c-24e9-43a1-d45a-7c6ac9fa5ea8"
      },
      "outputs": [
        {
          "data": {
            "text/plain": [
              "Highgate                          2799\n",
              "St Pancras and Somers Town        1832\n",
              "Gospel Oak                        1541\n",
              "Kilburn                           1540\n",
              "Kentish Town                      1463\n",
              "Haverstock                        1424\n",
              "Hampstead Town                    1340\n",
              "Holborn and Covent Garden         1293\n",
              "Fortune Green                     1284\n",
              "Cantelowes                        1231\n",
              "Frognal and Fitzjohns             1229\n",
              "Bloomsbury                        1008\n",
              "Regent's Park                      989\n",
              "Swiss Cottage                      978\n",
              "Camden Town with Primrose Hill     899\n",
              "West Hampstead                     853\n",
              "King's Cross                       824\n",
              "Belsize                            691\n",
              "Name: Ward Name, dtype: int64"
            ]
          },
          "execution_count": 22,
          "metadata": {},
          "output_type": "execute_result"
        }
      ],
      "source": [
        "trees[\"Ward Name\"].value_counts()"
      ]
    },
    {
      "cell_type": "markdown",
      "id": "2b0e7c01-d171-4332-b071-18e9366aada8",
      "metadata": {
        "id": "2b0e7c01-d171-4332-b071-18e9366aada8"
      },
      "source": [
        "Ward Name is **qualitative nominal**"
      ]
    },
    {
      "cell_type": "markdown",
      "id": "8c38078e-4f29-455a-aeed-6b91134110c9",
      "metadata": {
        "id": "8c38078e-4f29-455a-aeed-6b91134110c9"
      },
      "source": [
        "\n",
        "**Location**"
      ]
    },
    {
      "cell_type": "code",
      "execution_count": null,
      "id": "c79a828f-c2dd-46f0-b463-6d24918940ed",
      "metadata": {
        "id": "c79a828f-c2dd-46f0-b463-6d24918940ed",
        "outputId": "aa3c4ac7-3eac-49af-887f-3c33ddf72fee"
      },
      "outputs": [
        {
          "data": {
            "text/plain": [
              "(51.556205, -0.173776)    3\n",
              "(51.553475, -0.152668)    3\n",
              "(51.553347, -0.138308)    2\n",
              "(51.55199, -0.162655)     2\n",
              "(51.546238, -0.131845)    2\n",
              "                         ..\n",
              "(51.527707, -0.142755)    1\n",
              "(51.553842, -0.178959)    1\n",
              "(51.549884, -0.203122)    1\n",
              "(51.55159, -0.189354)     1\n",
              "(51.540135, -0.192802)    1\n",
              "Name: Location, Length: 23262, dtype: int64"
            ]
          },
          "execution_count": 23,
          "metadata": {},
          "output_type": "execute_result"
        }
      ],
      "source": [
        "trees[\"Location\"].value_counts()"
      ]
    },
    {
      "cell_type": "markdown",
      "id": "a094c38a-42fa-422d-8241-14acd7745799",
      "metadata": {
        "id": "a094c38a-42fa-422d-8241-14acd7745799"
      },
      "source": [
        "Location is **qualitative ordinal**"
      ]
    },
    {
      "cell_type": "markdown",
      "id": "9d2add6b-d4a8-46f3-b17b-7142fba433d4",
      "metadata": {
        "id": "9d2add6b-d4a8-46f3-b17b-7142fba433d4"
      },
      "source": [
        "<hr/>"
      ]
    },
    {
      "cell_type": "markdown",
      "id": "65820ccc-8566-4b63-b141-7dffa8e9d067",
      "metadata": {
        "id": "65820ccc-8566-4b63-b141-7dffa8e9d067"
      },
      "source": [
        "#### 3.1.b Descriptive Stats for Numeric Type Columns\n",
        "Use the `describe()` function to get the descriptive stats for the numeric columns.\n",
        "\n",
        "For each column, classify the column as discrete or continuous (use the data type to guide you, but check any floats to confirm whether they are really floats or just ints with null values.  Use `pandas.Series.unique()` to check this).\n"
      ]
    },
    {
      "cell_type": "markdown",
      "id": "638a19ea-adb4-47d4-ad27-7d9a7a315e9d",
      "metadata": {
        "id": "638a19ea-adb4-47d4-ad27-7d9a7a315e9d"
      },
      "source": [
        "<div style=\"background-color:lemonchiffon; border:1px solid; padding:5px; margin:5px; font-weight:bold\"><font color=\"crimson\">\n",
        "TODO: Complete the following code cells\n",
        "    </font></div>"
      ]
    },
    {
      "cell_type": "code",
      "execution_count": null,
      "id": "0f449063-a7c5-4526-a057-fd20bd17ba6f",
      "metadata": {
        "id": "0f449063-a7c5-4526-a057-fd20bd17ba6f",
        "outputId": "351526b3-0085-4ce5-9194-e184991e1892"
      },
      "outputs": [
        {
          "data": {
            "text/html": [
              "<div>\n",
              "<style scoped>\n",
              "    .dataframe tbody tr th:only-of-type {\n",
              "        vertical-align: middle;\n",
              "    }\n",
              "\n",
              "    .dataframe tbody tr th {\n",
              "        vertical-align: top;\n",
              "    }\n",
              "\n",
              "    .dataframe thead th {\n",
              "        text-align: right;\n",
              "    }\n",
              "</style>\n",
              "<table border=\"1\" class=\"dataframe\">\n",
              "  <thead>\n",
              "    <tr style=\"text-align: right;\">\n",
              "      <th></th>\n",
              "      <th>Number Of Trees</th>\n",
              "      <th>Height In Metres</th>\n",
              "      <th>Spread In Metres</th>\n",
              "      <th>Diameter In Centimetres At Breast Height</th>\n",
              "      <th>Easting</th>\n",
              "      <th>Northing</th>\n",
              "      <th>Longitude</th>\n",
              "      <th>Latitude</th>\n",
              "    </tr>\n",
              "  </thead>\n",
              "  <tbody>\n",
              "    <tr>\n",
              "      <th>count</th>\n",
              "      <td>23422.000000</td>\n",
              "      <td>23006.000000</td>\n",
              "      <td>23006.000000</td>\n",
              "      <td>23005.000000</td>\n",
              "      <td>23444.000000</td>\n",
              "      <td>23444.000000</td>\n",
              "      <td>23388.000000</td>\n",
              "      <td>23388.000000</td>\n",
              "    </tr>\n",
              "    <tr>\n",
              "      <th>mean</th>\n",
              "      <td>1.100034</td>\n",
              "      <td>10.307029</td>\n",
              "      <td>5.997612</td>\n",
              "      <td>32.595262</td>\n",
              "      <td>526762.518171</td>\n",
              "      <td>184085.188662</td>\n",
              "      <td>-0.155145</td>\n",
              "      <td>51.545115</td>\n",
              "    </tr>\n",
              "    <tr>\n",
              "      <th>std</th>\n",
              "      <td>1.288041</td>\n",
              "      <td>6.325293</td>\n",
              "      <td>4.132379</td>\n",
              "      <td>26.149994</td>\n",
              "      <td>25835.857212</td>\n",
              "      <td>9121.059755</td>\n",
              "      <td>0.025058</td>\n",
              "      <td>0.013067</td>\n",
              "    </tr>\n",
              "    <tr>\n",
              "      <th>min</th>\n",
              "      <td>0.000000</td>\n",
              "      <td>0.000000</td>\n",
              "      <td>0.000000</td>\n",
              "      <td>0.000000</td>\n",
              "      <td>0.000000</td>\n",
              "      <td>0.000000</td>\n",
              "      <td>-0.261719</td>\n",
              "      <td>51.512858</td>\n",
              "    </tr>\n",
              "    <tr>\n",
              "      <th>25%</th>\n",
              "      <td>1.000000</td>\n",
              "      <td>5.000000</td>\n",
              "      <td>3.000000</td>\n",
              "      <td>12.000000</td>\n",
              "      <td>526583.750000</td>\n",
              "      <td>183665.000000</td>\n",
              "      <td>-0.175734</td>\n",
              "      <td>51.537472</td>\n",
              "    </tr>\n",
              "    <tr>\n",
              "      <th>50%</th>\n",
              "      <td>1.000000</td>\n",
              "      <td>9.000000</td>\n",
              "      <td>5.000000</td>\n",
              "      <td>27.000000</td>\n",
              "      <td>528456.500000</td>\n",
              "      <td>184690.000000</td>\n",
              "      <td>-0.148478</td>\n",
              "      <td>51.546669</td>\n",
              "    </tr>\n",
              "    <tr>\n",
              "      <th>75%</th>\n",
              "      <td>1.000000</td>\n",
              "      <td>15.000000</td>\n",
              "      <td>8.000000</td>\n",
              "      <td>46.000000</td>\n",
              "      <td>529369.000000</td>\n",
              "      <td>185481.000000</td>\n",
              "      <td>-0.135978</td>\n",
              "      <td>51.554032</td>\n",
              "    </tr>\n",
              "    <tr>\n",
              "      <th>max</th>\n",
              "      <td>67.000000</td>\n",
              "      <td>127.000000</td>\n",
              "      <td>88.000000</td>\n",
              "      <td>228.000000</td>\n",
              "      <td>531514.000000</td>\n",
              "      <td>196188.000000</td>\n",
              "      <td>-0.105858</td>\n",
              "      <td>51.650843</td>\n",
              "    </tr>\n",
              "  </tbody>\n",
              "</table>\n",
              "</div>"
            ],
            "text/plain": [
              "       Number Of Trees  Height In Metres  Spread In Metres  \\\n",
              "count     23422.000000      23006.000000      23006.000000   \n",
              "mean          1.100034         10.307029          5.997612   \n",
              "std           1.288041          6.325293          4.132379   \n",
              "min           0.000000          0.000000          0.000000   \n",
              "25%           1.000000          5.000000          3.000000   \n",
              "50%           1.000000          9.000000          5.000000   \n",
              "75%           1.000000         15.000000          8.000000   \n",
              "max          67.000000        127.000000         88.000000   \n",
              "\n",
              "       Diameter In Centimetres At Breast Height        Easting       Northing  \\\n",
              "count                              23005.000000   23444.000000   23444.000000   \n",
              "mean                                  32.595262  526762.518171  184085.188662   \n",
              "std                                   26.149994   25835.857212    9121.059755   \n",
              "min                                    0.000000       0.000000       0.000000   \n",
              "25%                                   12.000000  526583.750000  183665.000000   \n",
              "50%                                   27.000000  528456.500000  184690.000000   \n",
              "75%                                   46.000000  529369.000000  185481.000000   \n",
              "max                                  228.000000  531514.000000  196188.000000   \n",
              "\n",
              "          Longitude      Latitude  \n",
              "count  23388.000000  23388.000000  \n",
              "mean      -0.155145     51.545115  \n",
              "std        0.025058      0.013067  \n",
              "min       -0.261719     51.512858  \n",
              "25%       -0.175734     51.537472  \n",
              "50%       -0.148478     51.546669  \n",
              "75%       -0.135978     51.554032  \n",
              "max       -0.105858     51.650843  "
            ]
          },
          "execution_count": 24,
          "metadata": {},
          "output_type": "execute_result"
        }
      ],
      "source": [
        "# Get the descriptive stats for the numeric columns\n",
        "# TODO\n",
        "trees.describe()"
      ]
    },
    {
      "cell_type": "code",
      "execution_count": null,
      "id": "9b793f70-5799-4eb0-aa11-4cb38f86baba",
      "metadata": {
        "id": "9b793f70-5799-4eb0-aa11-4cb38f86baba",
        "outputId": "d3f28be4-09cc-4b45-a23e-12b773b13b73"
      },
      "outputs": [
        {
          "data": {
            "text/plain": [
              "Identifier                                          object\n",
              "Number Of Trees                                    float64\n",
              "Site Name                                           object\n",
              "Contract Area                                       object\n",
              "Scientific Name                                     object\n",
              "Inspection Date                             datetime64[ns]\n",
              "Inspection Due Date                                 object\n",
              "Height In Metres                                   float64\n",
              "Spread In Metres                                   float64\n",
              "Diameter In Centimetres At Breast Height           float64\n",
              "Ward Code                                           object\n",
              "Ward Name                                           object\n",
              "Easting                                              int64\n",
              "Northing                                             int64\n",
              "Longitude                                          float64\n",
              "Latitude                                           float64\n",
              "Location                                            object\n",
              "dtype: object"
            ]
          },
          "execution_count": 25,
          "metadata": {},
          "output_type": "execute_result"
        }
      ],
      "source": [
        "# Remind ourselves of the data types\n",
        "# TODO\n",
        "trees.dtypes"
      ]
    },
    {
      "cell_type": "markdown",
      "id": "f8139d4e-5890-4d4d-bf64-850c9f783710",
      "metadata": {
        "id": "f8139d4e-5890-4d4d-bf64-850c9f783710"
      },
      "source": [
        "<hr/>\n",
        "\n",
        "Find out if floats are really floats or ints with nulls.\n",
        "\n",
        "<div style=\"background-color:lemonchiffon; border:1px solid; padding:5px; margin:5px; font-weight:bold\"><font color=\"crimson\">\n",
        "TODO: Enter your code below.  Use one code cell per column.   Add as many cells as you need.\n",
        "    </font></div>"
      ]
    },
    {
      "cell_type": "code",
      "execution_count": null,
      "id": "08557ec1-e017-4b26-8a3f-11442dae301c",
      "metadata": {
        "id": "08557ec1-e017-4b26-8a3f-11442dae301c",
        "outputId": "e644003f-ed91-4e9d-a5c5-fad00602181d"
      },
      "outputs": [
        {
          "data": {
            "text/plain": [
              "array([ 1.,  2.,  3.,  0., nan,  5.,  6.,  7., 18.,  8., 65.,  4., 10.,\n",
              "        9., 11., 50., 12., 15., 52., 40., 33., 13., 20., 67., 21., 32.,\n",
              "       24., 26., 16., 25., 51.])"
            ]
          },
          "execution_count": 26,
          "metadata": {},
          "output_type": "execute_result"
        }
      ],
      "source": [
        "trees[\"Number Of Trees\"].unique()"
      ]
    },
    {
      "cell_type": "code",
      "execution_count": null,
      "id": "ecbc8148-f3f9-4c07-9f99-500001071f58",
      "metadata": {
        "id": "ecbc8148-f3f9-4c07-9f99-500001071f58",
        "outputId": "3ac820b9-01a7-4230-ff05-14bfb9026034"
      },
      "outputs": [
        {
          "data": {
            "text/plain": [
              "array([  nan,   5. ,   4. ,  14. ,   9. ,   0. ,   2. ,   2.5,   8. ,\n",
              "        13. ,  17. ,  10. ,   3. ,  19. ,   7. ,   6. ,   1.8,  15. ,\n",
              "        12. ,   1.5,  16. ,  20. ,  21. ,  24. ,  25. ,   2.7,  18. ,\n",
              "        11. ,  26. ,  22. ,   0.5,  16.1,  27. ,  28. ,   2.3,  22.3,\n",
              "        38. ,  15.5,  29. ,  23. ,  34. ,   3.5,   2.6,   1. ,   5.5,\n",
              "        22.5,   2.2,  36. ,  31. ,  96. ,  13.6, 127. ,  14.7,   4.5,\n",
              "        30. ,  35. ,  32. ,   9.4,  11.8,  33. ,  40. ,   2.1,   6.5,\n",
              "        41. ,  23.1,  37. ,  39. ,  12.5,   7.5,  13.7,  31.6,  23.8,\n",
              "         0.2,  12.3,  15.7,   6.8,   9.3,   3.8,  24.9,  17.4,   2.8,\n",
              "         3.2,  13.9,  12.4,  10.2,  10.8,  24.5,  30.4,   9.8,  11.4,\n",
              "        23.4,   3.7,  11.6,   7.7,   8.3,   3.6,  17.5,  19.5])"
            ]
          },
          "execution_count": 27,
          "metadata": {},
          "output_type": "execute_result"
        }
      ],
      "source": [
        "trees[\"Height In Metres\"].unique()"
      ]
    },
    {
      "cell_type": "code",
      "execution_count": null,
      "id": "9d232e36-af46-4ad3-9734-c5bbe4dae00b",
      "metadata": {
        "id": "9d232e36-af46-4ad3-9734-c5bbe4dae00b",
        "outputId": "a24a0fbc-b994-4543-cf80-2ce8ec6d2bc9"
      },
      "outputs": [
        {
          "data": {
            "text/plain": [
              "array([  nan,  4.  ,  1.  ,  6.  ,  7.  ,  0.  ,  1.5 ,  5.  ,  9.  ,\n",
              "       10.  ,  3.  ,  2.  , 13.  ,  2.5 , 12.  , 15.  , 14.  ,  8.  ,\n",
              "       11.  ,  0.6 ,  1.8 , 17.  , 20.  , 18.  , 16.  , 22.  , 19.  ,\n",
              "        5.5 , 26.  ,  1.4 , 23.  , 21.  , 28.  ,  1.2 ,  0.5 ,  3.5 ,\n",
              "       24.  ,  1.3 ,  1.6 , 30.  ,  1.7 , 27.  ,  4.2 , 11.02,  0.7 ,\n",
              "        6.5 ,  4.5 , 31.  , 25.  ,  0.8 ,  0.3 ,  2.2 ,  2.8 ,  1.65,\n",
              "       29.  , 88.  ])"
            ]
          },
          "execution_count": 28,
          "metadata": {},
          "output_type": "execute_result"
        }
      ],
      "source": [
        "trees[\"Spread In Metres\"].unique()"
      ]
    },
    {
      "cell_type": "code",
      "execution_count": null,
      "id": "22893064-595a-49e0-923b-607a3c97084d",
      "metadata": {
        "id": "22893064-595a-49e0-923b-607a3c97084d",
        "outputId": "70ea3ff5-f3d5-4741-97b8-54ab57d7c377"
      },
      "outputs": [
        {
          "data": {
            "text/plain": [
              "array([  nan,  10. ,   6. ,  26. ,  29. ,   5. ,   0. ,   4. ,  12. ,\n",
              "        59. ,  52. ,  23. ,  50. ,  63. ,  15. ,   3. ,  49. ,  42. ,\n",
              "        14. ,  19. ,   9. ,  70. ,  32. ,  28. ,  34. ,  20. ,  17. ,\n",
              "        27. ,  37. ,   8. ,  45. ,  18. , 119. ,   7. ,  38. ,  55. ,\n",
              "        41. ,  75. ,  31. ,  25. ,  11. ,  30. ,  43. ,  68. ,  92. ,\n",
              "        16. ,  35. ,  58. ,  72. ,  64. ,  13. ,  61. ,  69. ,  33. ,\n",
              "        47. ,  67. , 109. , 106. ,  24. ,  51. ,  40. ,  22. ,  60. ,\n",
              "        39. ,  46. ,  57. ,  21. ,  54. , 117. ,  44. ,  82. , 114. ,\n",
              "        65. ,  84. , 118. ,   1. ,  89. ,  53. ,  36. ,  93. ,  88. ,\n",
              "        86. , 163. ,  66. ,  81. ,  74. , 100. ,  48. ,  73. ,  95. ,\n",
              "       129. ,  62. ,  85. ,  56. ,   3.5, 161. ,  71. , 105. , 102. ,\n",
              "        80. ,  87. , 101. ,  76. , 113. , 108. , 160. , 132. ,  90. ,\n",
              "       145. , 130. ,  79. , 228. , 110. ,  83. ,  78. , 122. , 170. ,\n",
              "       115. ,   2. ,  77. , 107. ,  96. , 126. ,  91. , 104. , 158. ,\n",
              "        99. ,  94. ,  16.5, 127. , 151. , 103. , 112. ,  98. ,  97. ,\n",
              "       136. , 125. , 111. , 124. , 139. , 156. , 120. , 148. , 144. ,\n",
              "       140. , 121. , 143. ,  17.5, 154. , 159. , 142. , 197. , 123. ,\n",
              "       149. , 155. , 191. , 131. , 147. , 162. , 116. , 152. , 153. ,\n",
              "       165. , 137. , 200. , 177. , 133. , 128. , 134. ,  11.5, 135. ,\n",
              "       150. , 187. , 210. , 166. , 138. ,  10.5, 206. , 141. , 209. ,\n",
              "       184. , 173. , 192. ,   7.5, 194. , 157. , 146. , 185. ])"
            ]
          },
          "execution_count": 29,
          "metadata": {},
          "output_type": "execute_result"
        }
      ],
      "source": [
        "trees[\"Diameter In Centimetres At Breast Height\"].unique()"
      ]
    },
    {
      "cell_type": "code",
      "execution_count": null,
      "id": "46e0a07d-62c9-447b-a2d7-dcd61a625166",
      "metadata": {
        "id": "46e0a07d-62c9-447b-a2d7-dcd61a625166",
        "outputId": "97eea906-4909-4832-c97b-13ed3e370429"
      },
      "outputs": [
        {
          "data": {
            "text/plain": [
              "array([-0.16524 , -0.127681,       nan, ..., -0.196884, -0.204206,\n",
              "       -0.173397])"
            ]
          },
          "execution_count": 30,
          "metadata": {},
          "output_type": "execute_result"
        }
      ],
      "source": [
        "trees[\"Longitude\"].unique()"
      ]
    },
    {
      "cell_type": "code",
      "execution_count": null,
      "id": "e5e36046-e706-455c-b161-f5f025ebb6a1",
      "metadata": {
        "id": "e5e36046-e706-455c-b161-f5f025ebb6a1",
        "outputId": "4ca91ff8-fca8-4166-ac12-5bf377a0fc29"
      },
      "outputs": [
        {
          "data": {
            "text/plain": [
              "array([51.551693, 51.546984,       nan, ..., 51.54329 , 51.545726,\n",
              "       51.531863])"
            ]
          },
          "execution_count": 31,
          "metadata": {},
          "output_type": "execute_result"
        }
      ],
      "source": [
        "trees[\"Latitude\"].unique()"
      ]
    },
    {
      "cell_type": "markdown",
      "id": "de74dc7d-a346-42ba-9def-8d07b1ef1e0c",
      "metadata": {
        "id": "de74dc7d-a346-42ba-9def-8d07b1ef1e0c"
      },
      "source": [
        "<hr/>\n",
        "\n",
        "Classify the columns as discrete or continuous.\n",
        "\n",
        "<div style=\"background-color:lemonchiffon; border:1px solid; padding:5px; margin:5px; font-weight:bold\"><font color=\"crimson\">\n",
        "TODO: Enter markdown below.\n",
        "    </font></div>\n"
      ]
    },
    {
      "cell_type": "markdown",
      "id": "a098329e-69d5-49a6-a931-6cdbd0880ad4",
      "metadata": {
        "id": "a098329e-69d5-49a6-a931-6cdbd0880ad4"
      },
      "source": [
        "\n",
        "The following are discrete:\n",
        "- Number Of Trees\n",
        "- Easting\n",
        "- Northing\n",
        "\n",
        "The following are continuous:\n",
        "- Height In Metres\n",
        "- Spread In Metres\n",
        "- Diameter In Centimetres At Breast Height\n",
        "- Longitude\n",
        "- Latitude"
      ]
    },
    {
      "cell_type": "markdown",
      "id": "f020f146-c157-486c-8d02-3b40d3b4e75d",
      "metadata": {
        "id": "f020f146-c157-486c-8d02-3b40d3b4e75d"
      },
      "source": [
        "<hr/>"
      ]
    },
    {
      "cell_type": "markdown",
      "id": "90c6e10d-2f2e-4003-b983-f60870b6fc1a",
      "metadata": {
        "id": "90c6e10d-2f2e-4003-b983-f60870b6fc1a"
      },
      "source": [
        "### 3.2 Further Inspect the Environmental Dataset\n",
        "Now repeat the above for the environmental dataset.\n",
        "\n",
        "#### 3.2.a Counts of Values for String Type Columns\n",
        "For each string column in the environmental dataset show the counts of the unique values.\n",
        "\n",
        "<div style=\"background-color:lemonchiffon; border:1px solid; padding:5px; margin:5px; font-weight:bold\"><font color=\"crimson\">\n",
        "    TODO: Enter your code below.  Use one code cell per column and then add a markdown cell after each one to classify the column.  Add as many cells as you need.\n",
        "</font></div>"
      ]
    },
    {
      "cell_type": "markdown",
      "id": "77cae473-f18e-460c-bb0b-4e74ce44d592",
      "metadata": {
        "id": "77cae473-f18e-460c-bb0b-4e74ce44d592"
      },
      "source": [
        "**Maturity**"
      ]
    },
    {
      "cell_type": "code",
      "execution_count": null,
      "id": "044f2b73-aa4b-4a10-8546-e3149d39d817",
      "metadata": {
        "id": "044f2b73-aa4b-4a10-8546-e3149d39d817",
        "outputId": "7d424ae9-b9d1-48cc-c2da-74619dd67d23"
      },
      "outputs": [
        {
          "data": {
            "text/plain": [
              "Mature            10225\n",
              "Middle aged        7779\n",
              "Juvenile           4393\n",
              "Not Applicable      377\n",
              "Over Mature         191\n",
              "Veteran              41\n",
              "Name: Maturity, dtype: int64"
            ]
          },
          "execution_count": 32,
          "metadata": {},
          "output_type": "execute_result"
        }
      ],
      "source": [
        "environmental[\"Maturity\"].value_counts()"
      ]
    },
    {
      "cell_type": "markdown",
      "id": "31bb4671-cb32-48b7-afa1-a2b5b3509c98",
      "metadata": {
        "id": "31bb4671-cb32-48b7-afa1-a2b5b3509c98"
      },
      "source": [
        "Maturity is **qualitative nominal**"
      ]
    },
    {
      "cell_type": "markdown",
      "id": "fa84e8d1-57aa-483b-bb38-e54a07e6aff8",
      "metadata": {
        "id": "fa84e8d1-57aa-483b-bb38-e54a07e6aff8"
      },
      "source": [
        "\n",
        "**Physiological Condition**"
      ]
    },
    {
      "cell_type": "code",
      "execution_count": null,
      "id": "fcf78507-0832-46ec-8aa4-69d5bcfb1926",
      "metadata": {
        "id": "fcf78507-0832-46ec-8aa4-69d5bcfb1926",
        "outputId": "815bc81d-eda1-40cf-bd1c-5d53a33d1730"
      },
      "outputs": [
        {
          "data": {
            "text/plain": [
              "Good              12910\n",
              "Fair               9183\n",
              "Poor                357\n",
              "Not applicable      249\n",
              "Dead                236\n",
              "Excellent             8\n",
              "Name: Physiological Condition, dtype: int64"
            ]
          },
          "execution_count": 33,
          "metadata": {},
          "output_type": "execute_result"
        }
      ],
      "source": [
        "environmental[\"Physiological Condition\"].value_counts()"
      ]
    },
    {
      "cell_type": "markdown",
      "id": "27268223-d7c8-429c-87d4-c63ecc53f034",
      "metadata": {
        "id": "27268223-d7c8-429c-87d4-c63ecc53f034"
      },
      "source": [
        "Physiological Condition is **qualitative ordinal**"
      ]
    },
    {
      "cell_type": "markdown",
      "id": "b8dbf76d-095b-4f86-89a8-95e9b5d8a784",
      "metadata": {
        "id": "b8dbf76d-095b-4f86-89a8-95e9b5d8a784"
      },
      "source": [
        "\n",
        "**Tree Set To Be Removed**"
      ]
    },
    {
      "cell_type": "code",
      "execution_count": null,
      "id": "45e5a6e8-f8ac-4343-80b6-f56ea7d3e387",
      "metadata": {
        "id": "45e5a6e8-f8ac-4343-80b6-f56ea7d3e387",
        "outputId": "7cd74fea-f50d-44ce-f157-b2278d27e0c4"
      },
      "outputs": [
        {
          "data": {
            "text/plain": [
              "No     23331\n",
              "Yes       84\n",
              "Name: Tree Set To Be Removed, dtype: int64"
            ]
          },
          "execution_count": 34,
          "metadata": {},
          "output_type": "execute_result"
        }
      ],
      "source": [
        "environmental[\"Tree Set To Be Removed\"].value_counts()"
      ]
    },
    {
      "cell_type": "markdown",
      "id": "61c0eb93-4542-4442-a5d4-b4ab080d6df5",
      "metadata": {
        "id": "61c0eb93-4542-4442-a5d4-b4ab080d6df5"
      },
      "source": [
        "Tree Set To Be Removed is **qualitative binary**"
      ]
    },
    {
      "cell_type": "markdown",
      "id": "2aa67981-22ad-4ba5-8565-d11b7d9e6bf2",
      "metadata": {
        "id": "2aa67981-22ad-4ba5-8565-d11b7d9e6bf2"
      },
      "source": [
        "\n",
        "**Removal Reason**"
      ]
    },
    {
      "cell_type": "code",
      "execution_count": null,
      "id": "2b62a1dc-958a-4964-945e-09f2415084a8",
      "metadata": {
        "id": "2b62a1dc-958a-4964-945e-09f2415084a8",
        "outputId": "9022675e-2c45-42b2-f8a8-18703548be38"
      },
      "outputs": [
        {
          "data": {
            "text/plain": [
              "Dead, dying                    30\n",
              "Basal decay                    17\n",
              "Trunk decay                    10\n",
              "Tree defect                     5\n",
              "Crown die-back                  5\n",
              "Unsuitable location             3\n",
              "Dog damage                      3\n",
              "Newly planted tree failure      2\n",
              "Broken/split branch             1\n",
              "ATRD                            1\n",
              "Crown decay                     1\n",
              "Split trunk                     1\n",
              "Climber                         1\n",
              "No defects - work required      1\n",
              "Touching building/structure     1\n",
              "Suppressed                      1\n",
              "Coppiced stump                  1\n",
              "Name: Removal Reason, dtype: int64"
            ]
          },
          "execution_count": 35,
          "metadata": {},
          "output_type": "execute_result"
        }
      ],
      "source": [
        "environmental[\"Removal Reason\"].value_counts()"
      ]
    },
    {
      "cell_type": "markdown",
      "id": "83d3b60d-3320-40b2-968f-5731ed250312",
      "metadata": {
        "id": "83d3b60d-3320-40b2-968f-5731ed250312"
      },
      "source": [
        "Removal Reason is **qualitative nominal**"
      ]
    },
    {
      "cell_type": "markdown",
      "id": "604d0e41-7130-4f09-aebb-8843233a253a",
      "metadata": {
        "id": "604d0e41-7130-4f09-aebb-8843233a253a"
      },
      "source": [
        "<hr/>"
      ]
    },
    {
      "cell_type": "markdown",
      "id": "5c9ae370-ab1f-43f3-ba17-5dd062a2cbf1",
      "metadata": {
        "id": "5c9ae370-ab1f-43f3-ba17-5dd062a2cbf1"
      },
      "source": [
        "#### 3.2.b Descriptive Stats for Numeric Type Columns\n",
        "For each numeric column in the environmental dataset show the descriptive stats\n",
        "\n",
        "<div style=\"background-color:lemonchiffon; border:1px solid; padding:5px; margin:5px; font-weight:bold\"><font color=\"crimson\">\n",
        "TODO: Complete the following code cells\n",
        "    </font></div>"
      ]
    },
    {
      "cell_type": "code",
      "execution_count": null,
      "id": "4380cd76-3b4c-4488-8b5d-b8429c747228",
      "metadata": {
        "id": "4380cd76-3b4c-4488-8b5d-b8429c747228",
        "outputId": "b16b0064-9059-40cf-cff6-2c242aabe34a"
      },
      "outputs": [
        {
          "data": {
            "text/html": [
              "<div>\n",
              "<style scoped>\n",
              "    .dataframe tbody tr th:only-of-type {\n",
              "        vertical-align: middle;\n",
              "    }\n",
              "\n",
              "    .dataframe tbody tr th {\n",
              "        vertical-align: top;\n",
              "    }\n",
              "\n",
              "    .dataframe thead th {\n",
              "        text-align: right;\n",
              "    }\n",
              "</style>\n",
              "<table border=\"1\" class=\"dataframe\">\n",
              "  <thead>\n",
              "    <tr style=\"text-align: right;\">\n",
              "      <th></th>\n",
              "      <th>Capital Asset Value For Amenity Trees</th>\n",
              "      <th>Carbon Storage In Kilograms</th>\n",
              "      <th>Gross Carbon Sequestration Per Year In Kilograms</th>\n",
              "      <th>Pollution Removal Per Year In Grams</th>\n",
              "    </tr>\n",
              "  </thead>\n",
              "  <tbody>\n",
              "    <tr>\n",
              "      <th>count</th>\n",
              "      <td>22982.000000</td>\n",
              "      <td>20555.000000</td>\n",
              "      <td>20555.000000</td>\n",
              "      <td>20555.000000</td>\n",
              "    </tr>\n",
              "    <tr>\n",
              "      <th>mean</th>\n",
              "      <td>14056.393047</td>\n",
              "      <td>467.465454</td>\n",
              "      <td>8.675057</td>\n",
              "      <td>217.740316</td>\n",
              "    </tr>\n",
              "    <tr>\n",
              "      <th>std</th>\n",
              "      <td>24803.806595</td>\n",
              "      <td>844.926555</td>\n",
              "      <td>8.681446</td>\n",
              "      <td>306.751920</td>\n",
              "    </tr>\n",
              "    <tr>\n",
              "      <th>min</th>\n",
              "      <td>0.000000</td>\n",
              "      <td>0.500000</td>\n",
              "      <td>0.000000</td>\n",
              "      <td>0.300000</td>\n",
              "    </tr>\n",
              "    <tr>\n",
              "      <th>25%</th>\n",
              "      <td>1035.650000</td>\n",
              "      <td>24.800000</td>\n",
              "      <td>2.200000</td>\n",
              "      <td>29.300000</td>\n",
              "    </tr>\n",
              "    <tr>\n",
              "      <th>50%</th>\n",
              "      <td>5443.660000</td>\n",
              "      <td>163.900000</td>\n",
              "      <td>6.100000</td>\n",
              "      <td>108.100000</td>\n",
              "    </tr>\n",
              "    <tr>\n",
              "      <th>75%</th>\n",
              "      <td>16781.420000</td>\n",
              "      <td>497.300000</td>\n",
              "      <td>11.700000</td>\n",
              "      <td>297.600000</td>\n",
              "    </tr>\n",
              "    <tr>\n",
              "      <th>max</th>\n",
              "      <td>504725.720000</td>\n",
              "      <td>6000.000000</td>\n",
              "      <td>53.800000</td>\n",
              "      <td>8223.700000</td>\n",
              "    </tr>\n",
              "  </tbody>\n",
              "</table>\n",
              "</div>"
            ],
            "text/plain": [
              "       Capital Asset Value For Amenity Trees  Carbon Storage In Kilograms  \\\n",
              "count                           22982.000000                 20555.000000   \n",
              "mean                            14056.393047                   467.465454   \n",
              "std                             24803.806595                   844.926555   \n",
              "min                                 0.000000                     0.500000   \n",
              "25%                              1035.650000                    24.800000   \n",
              "50%                              5443.660000                   163.900000   \n",
              "75%                             16781.420000                   497.300000   \n",
              "max                            504725.720000                  6000.000000   \n",
              "\n",
              "       Gross Carbon Sequestration Per Year In Kilograms  \\\n",
              "count                                      20555.000000   \n",
              "mean                                           8.675057   \n",
              "std                                            8.681446   \n",
              "min                                            0.000000   \n",
              "25%                                            2.200000   \n",
              "50%                                            6.100000   \n",
              "75%                                           11.700000   \n",
              "max                                           53.800000   \n",
              "\n",
              "       Pollution Removal Per Year In Grams  \n",
              "count                         20555.000000  \n",
              "mean                            217.740316  \n",
              "std                             306.751920  \n",
              "min                               0.300000  \n",
              "25%                              29.300000  \n",
              "50%                             108.100000  \n",
              "75%                             297.600000  \n",
              "max                            8223.700000  "
            ]
          },
          "execution_count": 36,
          "metadata": {},
          "output_type": "execute_result"
        }
      ],
      "source": [
        "# Descriptive stats for all numeric columns\n",
        "# TODO\n",
        "environmental.describe()"
      ]
    },
    {
      "cell_type": "code",
      "execution_count": null,
      "id": "75b45e1d-bd82-4e3b-bdda-d57df57df01f",
      "metadata": {
        "id": "75b45e1d-bd82-4e3b-bdda-d57df57df01f",
        "outputId": "81ea12f8-136b-412d-90ae-d442c1c660ad"
      },
      "outputs": [
        {
          "data": {
            "text/plain": [
              "Identifier                                           object\n",
              "Maturity                                             object\n",
              "Physiological Condition                              object\n",
              "Tree Set To Be Removed                               object\n",
              "Removal Reason                                       object\n",
              "Capital Asset Value For Amenity Trees               float64\n",
              "Carbon Storage In Kilograms                         float64\n",
              "Gross Carbon Sequestration Per Year In Kilograms    float64\n",
              "Pollution Removal Per Year In Grams                 float64\n",
              "dtype: object"
            ]
          },
          "execution_count": 37,
          "metadata": {},
          "output_type": "execute_result"
        }
      ],
      "source": [
        "# Remind ourselves of the data types\n",
        "# TODO\n",
        "environmental.dtypes"
      ]
    },
    {
      "cell_type": "markdown",
      "id": "b8f9f3a3-9e92-4041-ad58-5c3ff8c0e8ed",
      "metadata": {
        "id": "b8f9f3a3-9e92-4041-ad58-5c3ff8c0e8ed"
      },
      "source": [
        "<hr/>\n",
        "\n",
        "Find out if floats are really floats or ints with nulls.\n",
        "\n",
        "<div style=\"background-color:lemonchiffon; border:1px solid; padding:5px; margin:5px; font-weight:bold\"><font color=\"crimson\">\n",
        "TODO: Enter your code below.   Use one code cell per column.   Add as many cells as you need.\n",
        "    </font></div>"
      ]
    },
    {
      "cell_type": "code",
      "execution_count": null,
      "id": "23083a41-02d8-48d1-ab15-f63c470a5bab",
      "metadata": {
        "id": "23083a41-02d8-48d1-ab15-f63c470a5bab",
        "outputId": "11c57aa0-9be3-4ada-8730-2bdf4207f982"
      },
      "outputs": [
        {
          "data": {
            "text/plain": [
              "array([1.1507000e+02, 7.5180800e+03, 2.0419630e+04, ..., 3.3664130e+04,\n",
              "       3.6269450e+04, 1.4801215e+05])"
            ]
          },
          "execution_count": 38,
          "metadata": {},
          "output_type": "execute_result"
        }
      ],
      "source": [
        "environmental[\"Capital Asset Value For Amenity Trees\"].unique()"
      ]
    },
    {
      "cell_type": "code",
      "execution_count": null,
      "id": "deb49a46-3780-4247-9686-8fceac4489ca",
      "metadata": {
        "id": "deb49a46-3780-4247-9686-8fceac4489ca",
        "outputId": "f07a40c0-b8df-4a42-fbb0-137d4eed5e3c"
      },
      "outputs": [
        {
          "data": {
            "text/plain": [
              "array([1.6000e+00,        nan, 4.2640e+02, ..., 4.7233e+03, 3.7305e+03,\n",
              "       4.8100e+02])"
            ]
          },
          "execution_count": 39,
          "metadata": {},
          "output_type": "execute_result"
        }
      ],
      "source": [
        "environmental[\"Carbon Storage In Kilograms\"].unique()"
      ]
    },
    {
      "cell_type": "code",
      "execution_count": null,
      "id": "bdf4217f-f1e9-43a5-95e1-e923d29ab619",
      "metadata": {
        "id": "bdf4217f-f1e9-43a5-95e1-e923d29ab619",
        "outputId": "d07e3296-c880-4d73-e2cb-0bc35b0ed712"
      },
      "outputs": [
        {
          "data": {
            "text/plain": [
              "array([ 0.5,  nan,  8.8,  9.6,  1.4, 10.1,  0.8,  7.9, 24.2,  2.4,  0.9,\n",
              "        3. , 14.6,  8.1,  4.1,  1.8, 18.8, 24.4, 13.4,  4.3,  6.5,  1.3,\n",
              "        0.6,  2.5, 13.1,  2.1,  3.9, 15.9,  1. ,  6.6,  0.4,  3.4,  2.9,\n",
              "       28.7,  0.7,  1.5, 12.5, 25.4, 11.2,  9. , 23.9,  4.4, 11.5, 11. ,\n",
              "        8.4, 10.9, 10.7,  6.9,  7. ,  3.8,  3.2,  6.1,  8.6, 30.2,  3.7,\n",
              "       15. , 30.4,  7.6, 20.1, 10.2,  8.3, 39.9,  0.3,  4.9, 14.3, 13.5,\n",
              "       16.7,  8.9,  1.6,  4.2,  3.6,  4. ,  6.7,  0.1, 19.7, 24.6,  6.4,\n",
              "        5.4,  5.9, 12.2,  7.3, 13. ,  7.1, 36.9,  9.3, 18.2, 10. ,  4.7,\n",
              "        5. , 29.8, 17.8, 18.5, 17.6,  7.2,  4.8,  5.6,  5.3, 10.5, 12.9,\n",
              "        9.4,  7.8,  1.1, 19.2, 37.3,  2.7, 12.8, 17. , 15.5, 27.6, 34.2,\n",
              "        5.7,  5.8, 17.3, 20.4,  9.9, 15.6,  7.4, 11.8,  9.2,  2.6, 21.7,\n",
              "       11.3, 10.8, 29.4, 23.1, 26.5,  1.2, 10.6, 33.6, 23.6, 11.7, 17.4,\n",
              "       15.1, 16.6,  2.3, 13.3, 16.3, 18.3, 10.4, 19. ,  1.7,  3.3, 14.1,\n",
              "        5.5, 12.6, 14.5,  3.5,  8.7, 36.6, 17.7,  5.1, 21.1, 20.2,  7.7,\n",
              "       15.2,  7.5, 30.5, 13.8,  4.6, 39.2, 37.8, 13.2, 51. , 11.6,  6.8,\n",
              "       21. ,  5.2,  8. ,  4.5, 15.3, 13.7, 18. ,  6.3,  2. ,  2.8,  9.1,\n",
              "        6. , 12.4, 11.4, 18.6,  1.9, 23.5, 18.9, 26.2, 12.1, 41.7,  2.2,\n",
              "       14.7, 14.4,  9.7, 23. , 22.1, 15.7, 12. , 14.8, 19.9, 29.7, 11.1,\n",
              "       19.6, 12.7, 31.9, 33.2, 19.1,  6.2, 28.4, 27. , 17.5, 16.4, 27.7,\n",
              "       38.4, 43.9, 35.4,  8.2, 37.1, 29.5, 22.2, 17.1, 26.3, 21.2, 20.5,\n",
              "       11.9, 31.3, 14.2,  8.5, 26.8,  0.2, 16.8, 35.6, 20.8, 22.3, 19.4,\n",
              "       20. , 14. , 36.1, 20.9, 15.8, 14.9,  9.5, 28.3, 16.9,  3.1, 37.6,\n",
              "       34.7, 17.9, 35.3,  9.8, 16.5, 21.4, 19.3, 28.5, 29. , 33.5, 40.7,\n",
              "       28.6, 13.6, 27.1, 26.7, 13.9, 21.3, 23.8, 35.1, 40.5, 32.9, 18.1,\n",
              "       37. , 20.6, 35.2, 12.3, 41.8, 22.7, 21.5, 35.7, 32.4, 16.1, 31.1,\n",
              "       25.3, 26. , 23.4, 30.1, 42.1, 36.5, 10.3, 44.3, 16. , 23.2, 28.8,\n",
              "       21.9, 32. , 30.3, 15.4, 24.3, 26.9, 25.8, 28.2, 22.8, 42.3, 33.9,\n",
              "       25.6, 38.6, 18.4, 31.2, 32.7, 28. , 30.6, 42. , 27.3, 33.8, 21.6,\n",
              "       33.3, 35.9, 24. , 40.6, 42.7, 31.5, 22.5, 20.7, 33.1, 35.5, 27.5,\n",
              "       24.8, 26.4, 22.6, 18.7, 32.6, 36.4, 16.2, 38.5, 22.4, 22.9, 29.2,\n",
              "       25.9, 19.5, 24.5, 20.3, 27.9, 29.6, 25. , 27.4, 30.7, 25.1, 34.6,\n",
              "       38. , 34.4, 36.7, 34.1, 32.5, 27.8, 32.8, 43.1, 17.2, 37.5, 39.3,\n",
              "       29.1, 30.8, 34.8, 29.9, 38.3, 23.3, 21.8, 41.3, 38.7, 36.3, 30. ,\n",
              "       41.5, 37.2, 24.9, 19.8, 28.9, 42.2, 39.5, 31.8, 37.4, 24.1,  0. ,\n",
              "       37.7, 32.3, 36.8, 27.2, 24.7, 36.2, 39.7, 42.9, 49.5, 31.6, 38.9,\n",
              "       40.9, 44.2, 32.1, 42.5, 25.7, 35.8, 38.2, 40.8, 35. , 34. , 31.7,\n",
              "       40.1, 26.1, 25.2, 39. , 41.1, 33.4, 32.2, 43.3, 33.7, 26.6, 39.1,\n",
              "       41.4, 43.2, 31. , 41.9, 41. , 42.4, 43. , 40.3, 40.2, 29.3, 31.4,\n",
              "       22. , 42.8, 43.7, 23.7, 34.5, 41.6, 39.6, 39.8, 37.9, 43.8, 42.6,\n",
              "       41.2, 43.6, 36. , 39.4, 43.5, 25.5, 38.1, 34.9, 28.1, 43.4, 53.8,\n",
              "       30.9, 40.4, 34.3, 45.5, 52.7, 40. , 38.8, 44.9, 33. ])"
            ]
          },
          "execution_count": 40,
          "metadata": {},
          "output_type": "execute_result"
        }
      ],
      "source": [
        "environmental[\"Gross Carbon Sequestration Per Year In Kilograms\"].unique()"
      ]
    },
    {
      "cell_type": "code",
      "execution_count": null,
      "id": "a942e90e-752e-4942-bbfe-e3afe9aa0899",
      "metadata": {
        "id": "a942e90e-752e-4942-bbfe-e3afe9aa0899",
        "outputId": "3ea35d22-1e6e-448e-b126-c3c396d43f0a"
      },
      "outputs": [
        {
          "data": {
            "text/plain": [
              "array([  5.7,   nan, 215.2, ...,   8. , 399.9,  60.1])"
            ]
          },
          "execution_count": 41,
          "metadata": {},
          "output_type": "execute_result"
        }
      ],
      "source": [
        "environmental[\"Pollution Removal Per Year In Grams\"].unique()"
      ]
    },
    {
      "cell_type": "code",
      "execution_count": null,
      "id": "859543b8-9647-4bc0-ba61-028344bf0f96",
      "metadata": {
        "id": "859543b8-9647-4bc0-ba61-028344bf0f96",
        "outputId": "fc6335e5-8820-4d25-dec8-b171038021a6"
      },
      "outputs": [
        {
          "data": {
            "text/plain": [
              "Identifier                                           object\n",
              "Maturity                                             object\n",
              "Physiological Condition                              object\n",
              "Tree Set To Be Removed                               object\n",
              "Removal Reason                                       object\n",
              "Capital Asset Value For Amenity Trees               float64\n",
              "Carbon Storage In Kilograms                         float64\n",
              "Gross Carbon Sequestration Per Year In Kilograms    float64\n",
              "Pollution Removal Per Year In Grams                 float64\n",
              "dtype: object"
            ]
          },
          "execution_count": 42,
          "metadata": {},
          "output_type": "execute_result"
        }
      ],
      "source": [
        "environmental.dtypes"
      ]
    },
    {
      "cell_type": "code",
      "execution_count": null,
      "id": "f5333eb5-b636-4c5c-a5bb-c97ff52f56b1",
      "metadata": {
        "id": "f5333eb5-b636-4c5c-a5bb-c97ff52f56b1",
        "outputId": "d593bc58-caa1-48f5-875d-ce4347e4def7"
      },
      "outputs": [
        {
          "data": {
            "text/plain": [
              "115.07      480\n",
              "179.80      341\n",
              "153.43      340\n",
              "0.00        277\n",
              "172.61      270\n",
              "           ... \n",
              "85448.61      1\n",
              "31981.19      1\n",
              "19171.10      1\n",
              "10563.66      1\n",
              "1315.66       1\n",
              "Name: Capital Asset Value For Amenity Trees, Length: 1509, dtype: int64"
            ]
          },
          "execution_count": 43,
          "metadata": {},
          "output_type": "execute_result"
        }
      ],
      "source": [
        "environmental[\"Capital Asset Value For Amenity Trees\"].value_counts()"
      ]
    },
    {
      "cell_type": "markdown",
      "id": "8bda5350-317b-43c1-91b1-71aeedf06ed3",
      "metadata": {
        "id": "8bda5350-317b-43c1-91b1-71aeedf06ed3"
      },
      "source": [
        "\n",
        "Classify the columns as discrete or continuous.\n",
        "\n",
        "<div style=\"background-color:lemonchiffon; border:1px solid; padding:5px; margin:5px; font-weight:bold\"><font color=\"crimson\">\n",
        "TODO: Enter markdown below.\n",
        "    </font></div>\n"
      ]
    },
    {
      "cell_type": "markdown",
      "id": "be272f55-b443-413c-9997-cb8e23f8708b",
      "metadata": {
        "id": "be272f55-b443-413c-9997-cb8e23f8708b"
      },
      "source": [
        "\n",
        "\n",
        "The following are continuous:\n",
        "- Capital Asset Value For Amenity Trees\n",
        "- Carbon Storage In Kilograms\n",
        "- Gross Carbon Sequestration Per Year In Kilograms\n",
        "- Pollution Removal Per Year In Grams"
      ]
    },
    {
      "cell_type": "markdown",
      "id": "78d240e7-8297-4fcc-94c1-c2def1032acc",
      "metadata": {
        "id": "78d240e7-8297-4fcc-94c1-c2def1032acc"
      },
      "source": [
        "<hr/>"
      ]
    },
    {
      "cell_type": "markdown",
      "id": "5edacbd1-2ef6-4719-acc7-2d8f630d4195",
      "metadata": {
        "id": "5edacbd1-2ef6-4719-acc7-2d8f630d4195"
      },
      "source": [
        "### 3.3 Further Inspect the Common Names Dataset\n",
        "Now repeat the above for the common names dataset.\n",
        "\n",
        "#### 3.3.a (Names) Counts of Values for String Type Columns\n",
        "For each string column in the common names dataset show the counts of the unique values.\n",
        "\n",
        "<div style=\"background-color:lemonchiffon; border:1px solid; padding:5px; margin:5px; font-weight:bold\"><font color=\"crimson\">\n",
        "<font color=\"crimson\">TODO: Enter your code below.  Use one code cell per column and then add a markdown cell to classify the column.  Add as many cells as you need.</font>\n",
        "    </font></div>\n"
      ]
    },
    {
      "cell_type": "markdown",
      "id": "e6e427f2-c182-43f9-91e7-771f83b11fd6",
      "metadata": {
        "id": "e6e427f2-c182-43f9-91e7-771f83b11fd6"
      },
      "source": [
        "**Scientific Name**"
      ]
    },
    {
      "cell_type": "code",
      "execution_count": null,
      "id": "32b8acdd-51cd-429d-bc5a-342ce8c27c5c",
      "metadata": {
        "id": "32b8acdd-51cd-429d-bc5a-342ce8c27c5c",
        "outputId": "0b4f8a07-d7e6-4f1d-f372-a21bfa1277d6"
      },
      "outputs": [
        {
          "data": {
            "text/plain": [
              "Alnus incana                      2\n",
              "Cupressocyparis leylandii         2\n",
              "Malus sylvestris                  2\n",
              "Alnus cordata                     2\n",
              "Larix decidua                     2\n",
              "                                 ..\n",
              "Malus domestica cultivar          1\n",
              "Pinus wallichiana                 1\n",
              "Malus toringo Scarlet Brouwers    1\n",
              "Parrotia persica vanessa          1\n",
              "Malus yunnanensis veitchii        1\n",
              "Name: Scientific Name, Length: 560, dtype: int64"
            ]
          },
          "execution_count": 44,
          "metadata": {},
          "output_type": "execute_result"
        }
      ],
      "source": [
        "names[\"Scientific Name\"].value_counts()"
      ]
    },
    {
      "cell_type": "markdown",
      "id": "2b077243-ec2d-4239-8882-4056b77e9f28",
      "metadata": {
        "id": "2b077243-ec2d-4239-8882-4056b77e9f28"
      },
      "source": [
        "Scientific Name is **qualitative nominal**"
      ]
    },
    {
      "cell_type": "markdown",
      "id": "2d7139e0-7252-445b-a745-b7fecc699799",
      "metadata": {
        "id": "2d7139e0-7252-445b-a745-b7fecc699799"
      },
      "source": [
        "\n",
        "**Common Name**"
      ]
    },
    {
      "cell_type": "code",
      "execution_count": null,
      "id": "66b6de4e-ed8f-467d-82a1-77d24cb09c34",
      "metadata": {
        "id": "66b6de4e-ed8f-467d-82a1-77d24cb09c34",
        "outputId": "fef59fc8-b878-4877-cc71-3b5737dfb136"
      },
      "outputs": [
        {
          "data": {
            "text/plain": [
              "Cherry                         12\n",
              "Rowan                          10\n",
              "Vacant Tree Pit (planned: )    10\n",
              "Magnolia                       10\n",
              "Apple - Crab                    9\n",
              "                               ..\n",
              "White poplar                    1\n",
              "Buckeye - Yellow                1\n",
              "Lime                            1\n",
              "Tupelo                          1\n",
              "Birch - River                   1\n",
              "Name: Common Name, Length: 431, dtype: int64"
            ]
          },
          "execution_count": 45,
          "metadata": {},
          "output_type": "execute_result"
        }
      ],
      "source": [
        "names[\"Common Name\"].value_counts()"
      ]
    },
    {
      "cell_type": "markdown",
      "id": "d29682ee-1527-478d-a30d-efe69737c07c",
      "metadata": {
        "id": "d29682ee-1527-478d-a30d-efe69737c07c"
      },
      "source": [
        "Common Name is **qualitative nominal**"
      ]
    },
    {
      "cell_type": "markdown",
      "id": "ca3de6cd-3cb1-4ce3-87c5-c6d5ddef95cf",
      "metadata": {
        "id": "ca3de6cd-3cb1-4ce3-87c5-c6d5ddef95cf"
      },
      "source": [
        "<hr/>"
      ]
    },
    {
      "cell_type": "markdown",
      "id": "8b9a614c-0c3f-41f1-9b30-7259bcb3a2d3",
      "metadata": {
        "id": "8b9a614c-0c3f-41f1-9b30-7259bcb3a2d3"
      },
      "source": [
        "#### 3.3.b (Names) Descriptive Stats for Numeric Type Columns\n",
        "There are no numeric columns."
      ]
    },
    {
      "cell_type": "markdown",
      "id": "8641574f-7ee8-4cac-98d9-4c33a54891af",
      "metadata": {
        "tags": [],
        "id": "8641574f-7ee8-4cac-98d9-4c33a54891af"
      },
      "source": [
        "## Task 4: Identify Missing Values\n",
        "Find the number of missing values in each column.  Missing values can indicate data quality issues.  Missing are nulls in our data.  But sometimes zero values indicate missing values.  For example, a zero value for a tree height is clearly not a valid valid, so should be considered missing.\n",
        "\n",
        "Use these functions to find rows that have missing and zero values:\n",
        "\n",
        "- [pandas.DataFrame.isnull](https://pandas.pydata.org/docs/reference/api/pandas.DataFrame.isnull.html)\n",
        "- [pandas.DataFrame.isin](https://pandas.pydata.org/docs/reference/api/pandas.DataFrame.isin.html)\n",
        "- [pandas.DataFrame.mean](https://pandas.pydata.org/pandas-docs/stable/reference/api/pandas.DataFrame.mean.html)\n",
        "- [pandas.DataFrame.sum](https://pandas.pydata.org/docs/reference/api/pandas.DataFrame.sum.html)\n",
        "\n",
        "As you go through this task, think about the possible impact of the missing values on the ability of the data to deliver on the council's initiatives.  There is no absolute answer to \"how many missing values is too many\".  It depends on the context of what you intend to do with the data.  Try to make an interpretation based on your understanding of the requirements.\n"
      ]
    },
    {
      "cell_type": "markdown",
      "id": "5ee7f2e0-20bf-4249-9f5d-57ab6cc0fa30",
      "metadata": {
        "id": "5ee7f2e0-20bf-4249-9f5d-57ab6cc0fa30"
      },
      "source": [
        "### 4.1 Missing Values for the Trees Dataset\n",
        "I've shown you how to do this for the trees dataset."
      ]
    },
    {
      "cell_type": "code",
      "execution_count": null,
      "id": "0bd1e712-9211-44f8-a22c-fb1df46c1961",
      "metadata": {
        "id": "0bd1e712-9211-44f8-a22c-fb1df46c1961",
        "outputId": "2a2926e1-19ba-49c2-e5d3-64f8f3a3f01c"
      },
      "outputs": [
        {
          "data": {
            "text/plain": [
              "Identifier                                  0.000000\n",
              "Number Of Trees                             0.093841\n",
              "Site Name                                   0.000000\n",
              "Contract Area                               0.000000\n",
              "Scientific Name                             0.000000\n",
              "Inspection Date                             1.710459\n",
              "Inspection Due Date                         1.710459\n",
              "Height In Metres                            1.868282\n",
              "Spread In Metres                            1.868282\n",
              "Diameter In Centimetres At Breast Height    1.872547\n",
              "Ward Code                                   0.963999\n",
              "Ward Name                                   0.963999\n",
              "Easting                                     0.000000\n",
              "Northing                                    0.000000\n",
              "Longitude                                   0.238867\n",
              "Latitude                                    0.238867\n",
              "Location                                    0.238867\n",
              "dtype: float64"
            ]
          },
          "execution_count": 46,
          "metadata": {},
          "output_type": "execute_result"
        }
      ],
      "source": [
        "# Percentage of null values\n",
        "trees.isnull().mean()*100"
      ]
    },
    {
      "cell_type": "code",
      "execution_count": null,
      "id": "afbf5093-5716-440a-8f89-eeb6a5d66662",
      "metadata": {
        "id": "afbf5093-5716-440a-8f89-eeb6a5d66662",
        "outputId": "8c319645-7421-475e-c73f-a1a6ec124ae5"
      },
      "outputs": [
        {
          "data": {
            "text/plain": [
              "Identifier                                    0\n",
              "Number Of Trees                              22\n",
              "Site Name                                     0\n",
              "Contract Area                                 0\n",
              "Scientific Name                               0\n",
              "Inspection Date                             401\n",
              "Inspection Due Date                         401\n",
              "Height In Metres                            438\n",
              "Spread In Metres                            438\n",
              "Diameter In Centimetres At Breast Height    439\n",
              "Ward Code                                   226\n",
              "Ward Name                                   226\n",
              "Easting                                       0\n",
              "Northing                                      0\n",
              "Longitude                                    56\n",
              "Latitude                                     56\n",
              "Location                                     56\n",
              "dtype: int64"
            ]
          },
          "execution_count": 47,
          "metadata": {},
          "output_type": "execute_result"
        }
      ],
      "source": [
        "# Number of null values\n",
        "trees.isnull().sum()"
      ]
    },
    {
      "cell_type": "code",
      "execution_count": null,
      "id": "cde99d54-297d-41d8-954d-94ba2e08a2c5",
      "metadata": {
        "id": "cde99d54-297d-41d8-954d-94ba2e08a2c5",
        "outputId": "e9e0536a-07ca-4135-a0cb-c82789ad7b93"
      },
      "outputs": [
        {
          "data": {
            "text/plain": [
              "Identifier                                  0.000000\n",
              "Number Of Trees                             0.396690\n",
              "Site Name                                   0.000000\n",
              "Contract Area                               0.000000\n",
              "Scientific Name                             0.000000\n",
              "Inspection Date                             0.000000\n",
              "Inspection Due Date                         0.000000\n",
              "Height In Metres                            0.733663\n",
              "Spread In Metres                            1.181539\n",
              "Diameter In Centimetres At Breast Height    1.164477\n",
              "Ward Code                                   0.000000\n",
              "Ward Name                                   0.000000\n",
              "Easting                                     0.238867\n",
              "Northing                                    0.238867\n",
              "Longitude                                   0.000000\n",
              "Latitude                                    0.000000\n",
              "Location                                    0.000000\n",
              "dtype: float64"
            ]
          },
          "execution_count": 48,
          "metadata": {},
          "output_type": "execute_result"
        }
      ],
      "source": [
        "# Percentage of zero values\n",
        "trees.isin([0]).mean()*100"
      ]
    },
    {
      "cell_type": "code",
      "execution_count": null,
      "id": "d0947b5d-8978-46d8-8d57-252d29c25ca8",
      "metadata": {
        "id": "d0947b5d-8978-46d8-8d57-252d29c25ca8",
        "outputId": "bc9a3645-4bc4-4118-8841-eae670de36af"
      },
      "outputs": [
        {
          "data": {
            "text/plain": [
              "Identifier                                    0\n",
              "Number Of Trees                              93\n",
              "Site Name                                     0\n",
              "Contract Area                                 0\n",
              "Scientific Name                               0\n",
              "Inspection Date                               0\n",
              "Inspection Due Date                           0\n",
              "Height In Metres                            172\n",
              "Spread In Metres                            277\n",
              "Diameter In Centimetres At Breast Height    273\n",
              "Ward Code                                     0\n",
              "Ward Name                                     0\n",
              "Easting                                      56\n",
              "Northing                                     56\n",
              "Longitude                                     0\n",
              "Latitude                                      0\n",
              "Location                                      0\n",
              "dtype: int64"
            ]
          },
          "execution_count": 49,
          "metadata": {},
          "output_type": "execute_result"
        }
      ],
      "source": [
        "# Number of zero values\n",
        "trees.isin([0]).sum()"
      ]
    },
    {
      "cell_type": "code",
      "execution_count": null,
      "id": "de03ea2b-8ea2-48ff-b620-d9fd16290c7b",
      "metadata": {
        "id": "de03ea2b-8ea2-48ff-b620-d9fd16290c7b",
        "outputId": "8c3155e1-dd3c-47c3-d143-48220334634b"
      },
      "outputs": [
        {
          "data": {
            "text/plain": [
              "Identifier                                  0.000000\n",
              "Number Of Trees                             0.004905\n",
              "Site Name                                   0.000000\n",
              "Contract Area                               0.000000\n",
              "Scientific Name                             0.000000\n",
              "Inspection Date                             0.017105\n",
              "Inspection Due Date                         0.017105\n",
              "Height In Metres                            0.026019\n",
              "Spread In Metres                            0.030498\n",
              "Diameter In Centimetres At Breast Height    0.030370\n",
              "Ward Code                                   0.009640\n",
              "Ward Name                                   0.009640\n",
              "Easting                                     0.002389\n",
              "Northing                                    0.002389\n",
              "Longitude                                   0.002389\n",
              "Latitude                                    0.002389\n",
              "Location                                    0.002389\n",
              "dtype: float64"
            ]
          },
          "execution_count": 50,
          "metadata": {},
          "output_type": "execute_result"
        }
      ],
      "source": [
        "# Percentage of null and zero values\n",
        "(trees.isnull().sum() + trees.isin([0]).sum())/trees.shape[0]"
      ]
    },
    {
      "cell_type": "code",
      "execution_count": null,
      "id": "f43e38e0-00c6-4ebd-9899-8f91557becb7",
      "metadata": {
        "id": "f43e38e0-00c6-4ebd-9899-8f91557becb7",
        "outputId": "ad7bf31f-c63e-45fa-c35d-6b24ee77ea6d"
      },
      "outputs": [
        {
          "data": {
            "text/plain": [
              "Identifier                                    0\n",
              "Number Of Trees                             115\n",
              "Site Name                                     0\n",
              "Contract Area                                 0\n",
              "Scientific Name                               0\n",
              "Inspection Date                             401\n",
              "Inspection Due Date                         401\n",
              "Height In Metres                            610\n",
              "Spread In Metres                            715\n",
              "Diameter In Centimetres At Breast Height    712\n",
              "Ward Code                                   226\n",
              "Ward Name                                   226\n",
              "Easting                                      56\n",
              "Northing                                     56\n",
              "Longitude                                    56\n",
              "Latitude                                     56\n",
              "Location                                     56\n",
              "dtype: int64"
            ]
          },
          "execution_count": 51,
          "metadata": {},
          "output_type": "execute_result"
        }
      ],
      "source": [
        "# Number of null and zero values\n",
        "(trees.isnull().sum() + trees.isin([0]).sum())"
      ]
    },
    {
      "cell_type": "markdown",
      "id": "ad52a9f9-0bb7-4005-a81f-341309da0acb",
      "metadata": {
        "id": "ad52a9f9-0bb7-4005-a81f-341309da0acb"
      },
      "source": []
    },
    {
      "cell_type": "markdown",
      "id": "a7416001-4d63-4bd5-9bea-2412d322ed88",
      "metadata": {
        "id": "a7416001-4d63-4bd5-9bea-2412d322ed88"
      },
      "source": [
        "### 4.2 Missing Values for the Environmental Dataset\n",
        "Now repeat the missing values check for the environmental dataset.\n",
        "\n",
        "<div style=\"background-color:lemonchiffon; border:1px solid; padding:5px; margin:5px; font-weight:bold\"><font color=\"crimson\">\n",
        "TODO: Complete the following code cells\n",
        "    </font></div>"
      ]
    },
    {
      "cell_type": "code",
      "execution_count": null,
      "id": "45971fda-0b80-4652-bc63-ed8baeaad087",
      "metadata": {
        "id": "45971fda-0b80-4652-bc63-ed8baeaad087",
        "outputId": "346daea8-cbe3-4003-a90d-d5ae973c1e49"
      },
      "outputs": [
        {
          "data": {
            "text/plain": [
              "Identifier                                           0.000000\n",
              "Maturity                                             1.746744\n",
              "Physiological Condition                              2.015802\n",
              "Tree Set To Be Removed                               0.000000\n",
              "Removal Reason                                      99.641256\n",
              "Capital Asset Value For Amenity Trees                1.849242\n",
              "Carbon Storage In Kilograms                         12.214392\n",
              "Gross Carbon Sequestration Per Year In Kilograms    12.214392\n",
              "Pollution Removal Per Year In Grams                 12.214392\n",
              "dtype: float64"
            ]
          },
          "execution_count": 52,
          "metadata": {},
          "output_type": "execute_result"
        }
      ],
      "source": [
        "# Percentage of null values\n",
        "# TODO\n",
        "environmental.isnull().mean()*100"
      ]
    },
    {
      "cell_type": "code",
      "execution_count": null,
      "id": "35471141-aca6-453d-afc8-babde8975f14",
      "metadata": {
        "id": "35471141-aca6-453d-afc8-babde8975f14",
        "outputId": "c80a158c-2dba-4d00-ba55-73247e71ac0e"
      },
      "outputs": [
        {
          "data": {
            "text/plain": [
              "Identifier                                              0\n",
              "Maturity                                              409\n",
              "Physiological Condition                               472\n",
              "Tree Set To Be Removed                                  0\n",
              "Removal Reason                                      23331\n",
              "Capital Asset Value For Amenity Trees                 433\n",
              "Carbon Storage In Kilograms                          2860\n",
              "Gross Carbon Sequestration Per Year In Kilograms     2860\n",
              "Pollution Removal Per Year In Grams                  2860\n",
              "dtype: int64"
            ]
          },
          "execution_count": 53,
          "metadata": {},
          "output_type": "execute_result"
        }
      ],
      "source": [
        "# Number of null values\n",
        "# TODO\n",
        "environmental.isnull().sum()"
      ]
    },
    {
      "cell_type": "code",
      "execution_count": null,
      "id": "333f86d0-8443-48b5-ba17-6bb91cfd1190",
      "metadata": {
        "id": "333f86d0-8443-48b5-ba17-6bb91cfd1190",
        "outputId": "bf78bf2f-6b12-4518-c33d-2438ebb39921"
      },
      "outputs": [
        {
          "data": {
            "text/plain": [
              "Identifier                                          0.000000\n",
              "Maturity                                            0.000000\n",
              "Physiological Condition                             0.000000\n",
              "Tree Set To Be Removed                              0.000000\n",
              "Removal Reason                                      0.000000\n",
              "Capital Asset Value For Amenity Trees               1.183002\n",
              "Carbon Storage In Kilograms                         0.000000\n",
              "Gross Carbon Sequestration Per Year In Kilograms    0.025625\n",
              "Pollution Removal Per Year In Grams                 0.000000\n",
              "dtype: float64"
            ]
          },
          "execution_count": 54,
          "metadata": {},
          "output_type": "execute_result"
        }
      ],
      "source": [
        "# Percentage of zero values\n",
        "# TODO\n",
        "environmental.isin([0]).mean()*100"
      ]
    },
    {
      "cell_type": "code",
      "execution_count": null,
      "id": "809d3c20-113f-4665-b18d-cbdaa07b613c",
      "metadata": {
        "id": "809d3c20-113f-4665-b18d-cbdaa07b613c",
        "outputId": "d290ae02-5f1c-4374-db26-d41b4c236dbb"
      },
      "outputs": [
        {
          "data": {
            "text/plain": [
              "Identifier                                            0\n",
              "Maturity                                              0\n",
              "Physiological Condition                               0\n",
              "Tree Set To Be Removed                                0\n",
              "Removal Reason                                        0\n",
              "Capital Asset Value For Amenity Trees               277\n",
              "Carbon Storage In Kilograms                           0\n",
              "Gross Carbon Sequestration Per Year In Kilograms      6\n",
              "Pollution Removal Per Year In Grams                   0\n",
              "dtype: int64"
            ]
          },
          "execution_count": 55,
          "metadata": {},
          "output_type": "execute_result"
        }
      ],
      "source": [
        "# Number of zero values\n",
        "# TODO\n",
        "environmental.isin([0]).sum()"
      ]
    },
    {
      "cell_type": "code",
      "execution_count": null,
      "id": "bbada47a-e7aa-43be-bfca-624feda60cb7",
      "metadata": {
        "id": "bbada47a-e7aa-43be-bfca-624feda60cb7",
        "outputId": "a9016b85-0cec-4219-baac-13619ff147dc"
      },
      "outputs": [
        {
          "data": {
            "text/plain": [
              "Identifier                                          0.000000\n",
              "Maturity                                            0.017467\n",
              "Physiological Condition                             0.020158\n",
              "Tree Set To Be Removed                              0.000000\n",
              "Removal Reason                                      0.996413\n",
              "Capital Asset Value For Amenity Trees               0.030322\n",
              "Carbon Storage In Kilograms                         0.122144\n",
              "Gross Carbon Sequestration Per Year In Kilograms    0.122400\n",
              "Pollution Removal Per Year In Grams                 0.122144\n",
              "dtype: float64"
            ]
          },
          "execution_count": 56,
          "metadata": {},
          "output_type": "execute_result"
        }
      ],
      "source": [
        "# Percentage of null and zero values\n",
        "(environmental.isnull().sum() + environmental.isin([0]).sum())/environmental.shape[0]"
      ]
    },
    {
      "cell_type": "code",
      "execution_count": null,
      "id": "27dcd851-d4a3-4014-9167-9330c033738d",
      "metadata": {
        "id": "27dcd851-d4a3-4014-9167-9330c033738d",
        "outputId": "2ffc352d-c4a7-4f66-ca58-3e9834ff2089"
      },
      "outputs": [
        {
          "data": {
            "text/plain": [
              "Identifier                                              0\n",
              "Maturity                                              409\n",
              "Physiological Condition                               472\n",
              "Tree Set To Be Removed                                  0\n",
              "Removal Reason                                      23331\n",
              "Capital Asset Value For Amenity Trees                 710\n",
              "Carbon Storage In Kilograms                          2860\n",
              "Gross Carbon Sequestration Per Year In Kilograms     2866\n",
              "Pollution Removal Per Year In Grams                  2860\n",
              "dtype: int64"
            ]
          },
          "execution_count": 57,
          "metadata": {},
          "output_type": "execute_result"
        }
      ],
      "source": [
        "# Number of null and zero values\n",
        "environmental.isnull().sum()+environmental.isin([0]).sum()"
      ]
    },
    {
      "cell_type": "markdown",
      "id": "b0d7dd72-ef5f-4654-b4c5-9a4399399e67",
      "metadata": {
        "id": "b0d7dd72-ef5f-4654-b4c5-9a4399399e67"
      },
      "source": []
    },
    {
      "cell_type": "markdown",
      "id": "86bc5c0f-498e-47f1-b993-5ae66b325fc1",
      "metadata": {
        "id": "86bc5c0f-498e-47f1-b993-5ae66b325fc1"
      },
      "source": [
        "### 4.3 Missing Values for the Common Names Dataset\n",
        "Now repeat the missing values check for the common names dataset.\n",
        "\n",
        "<div style=\"background-color:lemonchiffon; border:1px solid; padding:5px; margin:5px; font-weight:bold\"><font color=\"crimson\">\n",
        "TODO: Enter your code below.  Add as many cells as you need.\n",
        "    </font></div>"
      ]
    },
    {
      "cell_type": "code",
      "execution_count": null,
      "id": "a024ff52-c0e4-42ca-9e91-36d297b640d7",
      "metadata": {
        "id": "a024ff52-c0e4-42ca-9e91-36d297b640d7",
        "outputId": "a0d3f22c-266e-42a9-c8f6-8a0ec77dda45"
      },
      "outputs": [
        {
          "data": {
            "text/plain": [
              "Scientific Name    0.000000\n",
              "Common Name        4.074703\n",
              "dtype: float64"
            ]
          },
          "execution_count": 58,
          "metadata": {},
          "output_type": "execute_result"
        }
      ],
      "source": [
        "# Percentage of null values\n",
        "# TODO\n",
        "names.isnull().mean()*100"
      ]
    },
    {
      "cell_type": "code",
      "execution_count": null,
      "id": "b6f9eab9-f912-4e51-a768-ec0b2b73221d",
      "metadata": {
        "id": "b6f9eab9-f912-4e51-a768-ec0b2b73221d",
        "outputId": "9a27919d-210d-48b5-c6d3-05c3b50651de"
      },
      "outputs": [
        {
          "data": {
            "text/plain": [
              "Scientific Name     0\n",
              "Common Name        24\n",
              "dtype: int64"
            ]
          },
          "execution_count": 59,
          "metadata": {},
          "output_type": "execute_result"
        }
      ],
      "source": [
        "# Number of null values\n",
        "# TODO\n",
        "names.isnull().sum()"
      ]
    },
    {
      "cell_type": "markdown",
      "id": "fe30f689-88b0-4526-abae-1e19a320acf9",
      "metadata": {
        "id": "fe30f689-88b0-4526-abae-1e19a320acf9"
      },
      "source": [
        "<hr/>\n",
        "\n",
        "### 4.4 Observations\n",
        "\n",
        "<div style=\"background-color:lemonchiffon; border:1px solid; padding:5px; margin:5px; font-weight:bold\"><font color=\"crimson\">\n",
        "TODO: Write down your observation about the state of missing values below and comment on the extent to which this might impact the ability to deliver on the council's initiatives.\n",
        "    </font></div>"
      ]
    },
    {
      "cell_type": "markdown",
      "id": "bb0fb002-f2fb-48fc-b178-10bfd60ebdc4",
      "metadata": {
        "id": "bb0fb002-f2fb-48fc-b178-10bfd60ebdc4"
      },
      "source": [
        "\n",
        "\n",
        "*In the model answer I've shown a couple of ways they might do this*\n",
        "\n",
        "**Trees dataset:**\n",
        "\n",
        "- A number of trees are missing inspect dates and due dates (1.7% or 401 trees).\n",
        "- A number of trees are missing a height (2.6% or 610 trees)\n",
        "- A number of trees are missing a spread (3% or 715 trees)\n",
        "- A number of trees are missing a diameter (3% or 712 trees)\n",
        "- A number of trees are missing ward information (1% or 226 trees)\n",
        "- A few trees are missing longitude/latitude/location/easting/northing information (0.2% or 56 trees)\n",
        "- Some trees are missing \"number of trees\" information (0.5% or 115 trees)\n",
        "\n",
        "**Environmental dataset:**\n",
        "\n",
        "- A number of environmental records have missing values:\n",
        "\n",
        "|Field|% missing|\n",
        "| ----|---------|\n",
        "|Identifier                                          | |\n",
        "|Maturity                                            |1.7%|\n",
        "|Physiological Condition                             |2.0%|\n",
        "|Tree Set To Be Removed                              | |\n",
        "|Removal Reason                                      |99.6%|\n",
        "|Capital Asset Value For Amenity Trees               |3.0%|\n",
        "|Carbon Storage In Kilograms                         |12.2%|\n",
        "|Gross Carbon Sequestration Per Year In Kilograms    |12.2%|\n",
        "|Pollution Removal Per Year In Grams                 |12.2%|\n",
        "\n",
        "**Common names dataset:**\n",
        "\n",
        "- We are missing 24 common names against the scientific names.\n",
        "\n",
        "**Impact on ability to deliver on the initiatives:**\n",
        "\n",
        "- The number of missing values in the trees data will have a small impact on the council's initiatives\n",
        "- The missing environmental data is quite large (>12% in some cases) so could have a large impact on the ability to deliver the environmental report.\n"
      ]
    },
    {
      "cell_type": "markdown",
      "id": "01d55736-fe91-4acb-b258-608def9ace41",
      "metadata": {
        "id": "01d55736-fe91-4acb-b258-608def9ace41"
      },
      "source": [
        "\n",
        "<hr/>"
      ]
    },
    {
      "cell_type": "markdown",
      "id": "33d42c68-e660-4892-b2de-0552a062c7ff",
      "metadata": {
        "tags": [],
        "id": "33d42c68-e660-4892-b2de-0552a062c7ff"
      },
      "source": [
        "## Task 5: Identify Outliers in the Trees Dimensions\n",
        "Outliers are values that are so unusual they are possibly incorrect!  We can use a boxplot to show the spread of data and any outliers.  Read the following section if you are unfamiliar with them:\n",
        "\n",
        "- [Box plots](https://openclassrooms.com/en/courses/6037301-perform-an-initial-data-analysis/6052306-calculate-the-value-spread-in-your-data#/id/r-6133902)\n",
        "\n",
        "Any circles represent what the boxplot considers outliers, but some of these might just be correct but extreme values.  We want to only highlight really *crazy* values which are clearly incorrect.\n",
        "\n",
        "We can use this function to draw boxplots:\n",
        "\n",
        "- [pandas.DataFrame.boxplot](https://pandas.pydata.org/pandas-docs/stable/reference/api/pandas.DataFrame.plot.html)\n",
        "\n",
        "Once we have found if there are outliers, it would be nice to show the rows containing the outliers.  The technique for filtering Pandas DataFrames is described here:\n",
        "\n",
        "- [Filtering Pandas DataFrames](https://pandas.pydata.org/pandas-docs/stable/getting_started/intro_tutorials/03_subset_data.html)\n",
        "\n",
        "The filtering technique creates a mask of rows that we want to select, e.g:\n",
        "\n",
        "`mask = df['mycolumn'] > 500`\n",
        "\n",
        "and then uses the mask to select rows:\n",
        "\n",
        "`df[mask]`\n",
        "\n",
        "\n",
        "Note that there is no absolute definition of what \"crazy\" means here.  You will need to make some judgements based on your understanding of the world (or specifically the world of trees in Camden!)."
      ]
    },
    {
      "cell_type": "markdown",
      "id": "52de8466-d0ed-4c29-af9a-bf7c79b80c09",
      "metadata": {
        "id": "52de8466-d0ed-4c29-af9a-bf7c79b80c09"
      },
      "source": [
        "### 5.1 Outliers for Height\n",
        "Find the outliers in the tree height column.\n",
        "<div style=\"background-color:lemonchiffon; border:1px solid; padding:5px; margin:5px; font-weight:bold\"><font color=\"crimson\">\n",
        "TODO: Complete the following code cells\n",
        "    </font></div>"
      ]
    },
    {
      "cell_type": "code",
      "execution_count": null,
      "id": "ecaa87b9-9558-4fd6-8383-3a8046d26a5c",
      "metadata": {
        "id": "ecaa87b9-9558-4fd6-8383-3a8046d26a5c",
        "outputId": "763d5edc-1789-4cd5-837a-4e6d9c272300"
      },
      "outputs": [
        {
          "data": {
            "text/plain": [
              "<AxesSubplot:>"
            ]
          },
          "execution_count": 60,
          "metadata": {},
          "output_type": "execute_result"
        },
        {
          "data": {
            "image/png": "[encoded data removed]",
            "text/plain": [
              "<Figure size 432x288 with 1 Axes>"
            ]
          },
          "metadata": {
            "needs_background": "light"
          },
          "output_type": "display_data"
        }
      ],
      "source": [
        "# Use a boxplot to find the outliers\n",
        "trees['Height In Metres'].plot(kind='box')"
      ]
    },
    {
      "cell_type": "code",
      "execution_count": null,
      "id": "7a614957-0a50-41f2-bebd-ca48e3660674",
      "metadata": {
        "id": "7a614957-0a50-41f2-bebd-ca48e3660674",
        "outputId": "9d6e1dd9-8e70-49d4-82a3-f367874c318f"
      },
      "outputs": [
        {
          "data": {
            "text/html": [
              "<div>\n",
              "<style scoped>\n",
              "    .dataframe tbody tr th:only-of-type {\n",
              "        vertical-align: middle;\n",
              "    }\n",
              "\n",
              "    .dataframe tbody tr th {\n",
              "        vertical-align: top;\n",
              "    }\n",
              "\n",
              "    .dataframe thead th {\n",
              "        text-align: right;\n",
              "    }\n",
              "</style>\n",
              "<table border=\"1\" class=\"dataframe\">\n",
              "  <thead>\n",
              "    <tr style=\"text-align: right;\">\n",
              "      <th></th>\n",
              "      <th>Identifier</th>\n",
              "      <th>Number Of Trees</th>\n",
              "      <th>Site Name</th>\n",
              "      <th>Contract Area</th>\n",
              "      <th>Scientific Name</th>\n",
              "      <th>Inspection Date</th>\n",
              "      <th>Inspection Due Date</th>\n",
              "      <th>Height In Metres</th>\n",
              "      <th>Spread In Metres</th>\n",
              "      <th>Diameter In Centimetres At Breast Height</th>\n",
              "      <th>Ward Code</th>\n",
              "      <th>Ward Name</th>\n",
              "      <th>Easting</th>\n",
              "      <th>Northing</th>\n",
              "      <th>Longitude</th>\n",
              "      <th>Latitude</th>\n",
              "      <th>Location</th>\n",
              "    </tr>\n",
              "  </thead>\n",
              "  <tbody>\n",
              "    <tr>\n",
              "      <th>1356</th>\n",
              "      <td>00001547</td>\n",
              "      <td>1.0</td>\n",
              "      <td>Beaumont Walk Estate</td>\n",
              "      <td>Housing</td>\n",
              "      <td>Robinia pseudoacacia</td>\n",
              "      <td>2017-05-23</td>\n",
              "      <td>2020/2021</td>\n",
              "      <td>96.0</td>\n",
              "      <td>10.0</td>\n",
              "      <td>63.0</td>\n",
              "      <td>E05000136</td>\n",
              "      <td>Haverstock</td>\n",
              "      <td>527847</td>\n",
              "      <td>184391</td>\n",
              "      <td>-0.157739</td>\n",
              "      <td>51.543941</td>\n",
              "      <td>(51.543941, -0.157739)</td>\n",
              "    </tr>\n",
              "    <tr>\n",
              "      <th>1863</th>\n",
              "      <td>00013862</td>\n",
              "      <td>1.0</td>\n",
              "      <td>Maitland Park Estate 1</td>\n",
              "      <td>Housing</td>\n",
              "      <td>Prunus avium</td>\n",
              "      <td>2017-05-16</td>\n",
              "      <td>2020/2021</td>\n",
              "      <td>127.0</td>\n",
              "      <td>9.0</td>\n",
              "      <td>34.0</td>\n",
              "      <td>E05000136</td>\n",
              "      <td>Haverstock</td>\n",
              "      <td>527987</td>\n",
              "      <td>184901</td>\n",
              "      <td>-0.155534</td>\n",
              "      <td>51.548497</td>\n",
              "      <td>(51.548497, -0.155534)</td>\n",
              "    </tr>\n",
              "  </tbody>\n",
              "</table>\n",
              "</div>"
            ],
            "text/plain": [
              "     Identifier  Number Of Trees               Site Name Contract Area  \\\n",
              "1356   00001547              1.0    Beaumont Walk Estate       Housing   \n",
              "1863   00013862              1.0  Maitland Park Estate 1       Housing   \n",
              "\n",
              "           Scientific Name Inspection Date Inspection Due Date  \\\n",
              "1356  Robinia pseudoacacia      2017-05-23           2020/2021   \n",
              "1863          Prunus avium      2017-05-16           2020/2021   \n",
              "\n",
              "      Height In Metres  Spread In Metres  \\\n",
              "1356              96.0              10.0   \n",
              "1863             127.0               9.0   \n",
              "\n",
              "      Diameter In Centimetres At Breast Height  Ward Code   Ward Name  \\\n",
              "1356                                      63.0  E05000136  Haverstock   \n",
              "1863                                      34.0  E05000136  Haverstock   \n",
              "\n",
              "      Easting  Northing  Longitude   Latitude                Location  \n",
              "1356   527847    184391  -0.157739  51.543941  (51.543941, -0.157739)  \n",
              "1863   527987    184901  -0.155534  51.548497  (51.548497, -0.155534)  "
            ]
          },
          "execution_count": 61,
          "metadata": {},
          "output_type": "execute_result"
        }
      ],
      "source": [
        "# Select the crazy outlier rows\n",
        "mask = trees['Height In Metres']>90\n",
        "trees[mask]"
      ]
    },
    {
      "cell_type": "markdown",
      "id": "f4d3025c-4a29-42e3-8821-8df2d8daa5e0",
      "metadata": {
        "id": "f4d3025c-4a29-42e3-8821-8df2d8daa5e0"
      },
      "source": [
        "### 5.2 Outliers for Spread\n",
        "Now repeat the analysis for spread.\n",
        "<div style=\"background-color:lemonchiffon; border:1px solid; padding:5px; margin:5px; font-weight:bold\"><font color=\"crimson\">\n",
        "TODO: Complete the following code cells\n",
        "    </font></div>"
      ]
    },
    {
      "cell_type": "code",
      "execution_count": null,
      "id": "ce6760cf-78d0-465d-b4a3-f199596983fa",
      "metadata": {
        "id": "ce6760cf-78d0-465d-b4a3-f199596983fa",
        "outputId": "e513ef8b-2c62-48ff-882a-67da249080ec"
      },
      "outputs": [
        {
          "data": {
            "text/plain": [
              "<AxesSubplot:>"
            ]
          },
          "execution_count": 62,
          "metadata": {},
          "output_type": "execute_result"
        },
        {
          "data": {
            "image/png": "[encoded data removed]",
            "text/plain": [
              "<Figure size 432x288 with 1 Axes>"
            ]
          },
          "metadata": {
            "needs_background": "light"
          },
          "output_type": "display_data"
        }
      ],
      "source": [
        "# Use a boxplot to find the outliers\n",
        "# TODO\n",
        "trees['Spread In Metres'].plot(kind='box')"
      ]
    },
    {
      "cell_type": "code",
      "execution_count": null,
      "id": "6ab3697f-02f9-4e35-acd7-520ac7a1aa83",
      "metadata": {
        "id": "6ab3697f-02f9-4e35-acd7-520ac7a1aa83",
        "outputId": "e802bd4c-b59e-49ec-e915-b60bbb5153c3"
      },
      "outputs": [
        {
          "data": {
            "text/html": [
              "<div>\n",
              "<style scoped>\n",
              "    .dataframe tbody tr th:only-of-type {\n",
              "        vertical-align: middle;\n",
              "    }\n",
              "\n",
              "    .dataframe tbody tr th {\n",
              "        vertical-align: top;\n",
              "    }\n",
              "\n",
              "    .dataframe thead th {\n",
              "        text-align: right;\n",
              "    }\n",
              "</style>\n",
              "<table border=\"1\" class=\"dataframe\">\n",
              "  <thead>\n",
              "    <tr style=\"text-align: right;\">\n",
              "      <th></th>\n",
              "      <th>Identifier</th>\n",
              "      <th>Number Of Trees</th>\n",
              "      <th>Site Name</th>\n",
              "      <th>Contract Area</th>\n",
              "      <th>Scientific Name</th>\n",
              "      <th>Inspection Date</th>\n",
              "      <th>Inspection Due Date</th>\n",
              "      <th>Height In Metres</th>\n",
              "      <th>Spread In Metres</th>\n",
              "      <th>Diameter In Centimetres At Breast Height</th>\n",
              "      <th>Ward Code</th>\n",
              "      <th>Ward Name</th>\n",
              "      <th>Easting</th>\n",
              "      <th>Northing</th>\n",
              "      <th>Longitude</th>\n",
              "      <th>Latitude</th>\n",
              "      <th>Location</th>\n",
              "    </tr>\n",
              "  </thead>\n",
              "  <tbody>\n",
              "    <tr>\n",
              "      <th>18567</th>\n",
              "      <td>00045515</td>\n",
              "      <td>1.0</td>\n",
              "      <td>Broadfield Estate 1</td>\n",
              "      <td>Housing</td>\n",
              "      <td>Quercus robur</td>\n",
              "      <td>2018-04-26</td>\n",
              "      <td>2021/2022</td>\n",
              "      <td>8.0</td>\n",
              "      <td>88.0</td>\n",
              "      <td>17.0</td>\n",
              "      <td>E05000144</td>\n",
              "      <td>Swiss Cottage</td>\n",
              "      <td>525993</td>\n",
              "      <td>184693</td>\n",
              "      <td>-0.184348</td>\n",
              "      <td>51.547074</td>\n",
              "      <td>(51.547074, -0.184348)</td>\n",
              "    </tr>\n",
              "  </tbody>\n",
              "</table>\n",
              "</div>"
            ],
            "text/plain": [
              "      Identifier  Number Of Trees            Site Name Contract Area  \\\n",
              "18567   00045515              1.0  Broadfield Estate 1       Housing   \n",
              "\n",
              "      Scientific Name Inspection Date Inspection Due Date  Height In Metres  \\\n",
              "18567   Quercus robur      2018-04-26           2021/2022               8.0   \n",
              "\n",
              "       Spread In Metres  Diameter In Centimetres At Breast Height  Ward Code  \\\n",
              "18567              88.0                                      17.0  E05000144   \n",
              "\n",
              "           Ward Name  Easting  Northing  Longitude   Latitude  \\\n",
              "18567  Swiss Cottage   525993    184693  -0.184348  51.547074   \n",
              "\n",
              "                     Location  \n",
              "18567  (51.547074, -0.184348)  "
            ]
          },
          "execution_count": 63,
          "metadata": {},
          "output_type": "execute_result"
        }
      ],
      "source": [
        "# Select the crazy outlier rows (if any)\n",
        "# TODO\n",
        "mask = trees['Spread In Metres']>80\n",
        "trees[mask]"
      ]
    },
    {
      "cell_type": "markdown",
      "id": "6d4ad691-da8e-433d-8c45-67e15828210f",
      "metadata": {
        "id": "6d4ad691-da8e-433d-8c45-67e15828210f"
      },
      "source": [
        "<hr/>"
      ]
    },
    {
      "cell_type": "markdown",
      "id": "cc0982a2-f528-49ee-ae07-6d611cb4c564",
      "metadata": {
        "id": "cc0982a2-f528-49ee-ae07-6d611cb4c564"
      },
      "source": [
        "### 5.3 Outliers for Diameter\n",
        "Now repeat the analysis for diameter.\n",
        "<div style=\"background-color:lemonchiffon; border:1px solid; padding:5px; margin:5px; font-weight:bold\"><font color=\"crimson\">\n",
        "TODO: Complete the following code cells\n",
        "    </font></div>"
      ]
    },
    {
      "cell_type": "code",
      "execution_count": null,
      "id": "f09b82f0-44c7-4b2c-b7d6-7b1059f8e424",
      "metadata": {
        "id": "f09b82f0-44c7-4b2c-b7d6-7b1059f8e424",
        "outputId": "f1cc24d3-ec2a-4fd8-d4cf-35a428a640f6"
      },
      "outputs": [
        {
          "data": {
            "text/plain": [
              "<AxesSubplot:>"
            ]
          },
          "execution_count": 64,
          "metadata": {},
          "output_type": "execute_result"
        },
        {
          "data": {
            "image/png": "[encoded data removed]",
            "text/plain": [
              "<Figure size 432x288 with 1 Axes>"
            ]
          },
          "metadata": {
            "needs_background": "light"
          },
          "output_type": "display_data"
        }
      ],
      "source": [
        "# Use a boxplot to find the outliers\n",
        "# TODO\n",
        "trees['Diameter In Centimetres At Breast Height'].plot(kind='box')"
      ]
    },
    {
      "cell_type": "code",
      "execution_count": null,
      "id": "6299642f-bf98-43da-a7bc-2880c88c002e",
      "metadata": {
        "id": "6299642f-bf98-43da-a7bc-2880c88c002e"
      },
      "outputs": [],
      "source": [
        "# Select the outlier rows (if any)\n",
        "# TODO\n",
        "# There are no crazy outliers"
      ]
    },
    {
      "cell_type": "markdown",
      "id": "19fb2357-f25f-4840-b4a7-5a016256ff28",
      "metadata": {
        "id": "19fb2357-f25f-4840-b4a7-5a016256ff28"
      },
      "source": [
        "<hr/>\n",
        "\n",
        "### 5.4 Observations\n",
        "\n",
        "<div style=\"background-color:lemonchiffon; border:1px solid; padding:5px; margin:5px; font-weight:bold\"><font color=\"crimson\">\n",
        "TODO: Write down your observation about outliers in the data.  What assumptions did you make?  Were you comfortable making these assumptions?\n",
        "    </font></div>\n",
        "\n"
      ]
    },
    {
      "cell_type": "markdown",
      "id": "55f5719a-6daf-4151-82b0-fa24264cfede",
      "metadata": {
        "id": "55f5719a-6daf-4151-82b0-fa24264cfede"
      },
      "source": [
        "- We have 2 trees that have extreme and probably erroneous heights (heights above 90 metres)\n",
        "- We have 1 tree that have extreme and probably erroneous spreads (spreads above 80 metres)\n",
        "- We have no extreme outliers for diameter\n",
        "\n",
        "- I've made judgements about what constitutes outliers.  But I am not a tree expert, so perhaps one should be consulted!\n",
        "\n",
        "<hr/>"
      ]
    },
    {
      "cell_type": "markdown",
      "id": "a433b035-abc4-4ce2-b86e-484e698bd941",
      "metadata": {
        "id": "a433b035-abc4-4ce2-b86e-484e698bd941"
      },
      "source": [
        "## Task 6: Identify Duplicates in the Trees Dataset\n",
        "Sometimes data has duplicate entries.  This is another sign of data quality issues!\n",
        "\n",
        "### 6.1 Find Duplicate Rows\n",
        "\n",
        "In our dataset the `Identifier` column should be unique.  Find out if it is!  We've already used a function that can count how many times each value in a column exists.  Use is to see if we have duplicates in the trees Dataframe.\n",
        "\n",
        "<div style=\"background-color:lemonchiffon; border:1px solid; padding:5px; margin:5px; font-weight:bold\"><font color=\"crimson\">\n",
        "TODO: Complete the following code cells\n",
        "    </font></div>"
      ]
    },
    {
      "cell_type": "code",
      "execution_count": null,
      "id": "a40454f4-03e9-43b3-a0d8-6fcb756ba90b",
      "metadata": {
        "id": "a40454f4-03e9-43b3-a0d8-6fcb756ba90b",
        "outputId": "ffae5fa7-846f-40d9-f190-d1f82b2c0516"
      },
      "outputs": [
        {
          "data": {
            "text/plain": [
              "00032549    2\n",
              "00022744    2\n",
              "00060087    2\n",
              "00060088    2\n",
              "00022674    2\n",
              "00000999    2\n",
              "Name: Identifier, dtype: int64"
            ]
          },
          "execution_count": 66,
          "metadata": {},
          "output_type": "execute_result"
        }
      ],
      "source": [
        "# Find out if we have any duplicates\n",
        "# TODO\n",
        "id_counts = trees[\"Identifier\"].value_counts()\n",
        "id_counts[id_counts>1]"
      ]
    },
    {
      "cell_type": "markdown",
      "id": "787be537-4f13-466e-9a65-108d93563fc8",
      "metadata": {
        "id": "787be537-4f13-466e-9a65-108d93563fc8"
      },
      "source": [
        "Now see if you can select the rows from trees DataFrame that are duplicates.  You will need to use the output from the cell above and use it to filter the trees dataframe."
      ]
    },
    {
      "cell_type": "code",
      "execution_count": null,
      "id": "3d2fbdbf-c839-4e84-ad7c-add0f4fa31ef",
      "metadata": {
        "id": "3d2fbdbf-c839-4e84-ad7c-add0f4fa31ef",
        "outputId": "8cc1df27-b016-4d5b-da33-7251335dcd54"
      },
      "outputs": [
        {
          "data": {
            "text/html": [
              "<div>\n",
              "<style scoped>\n",
              "    .dataframe tbody tr th:only-of-type {\n",
              "        vertical-align: middle;\n",
              "    }\n",
              "\n",
              "    .dataframe tbody tr th {\n",
              "        vertical-align: top;\n",
              "    }\n",
              "\n",
              "    .dataframe thead th {\n",
              "        text-align: right;\n",
              "    }\n",
              "</style>\n",
              "<table border=\"1\" class=\"dataframe\">\n",
              "  <thead>\n",
              "    <tr style=\"text-align: right;\">\n",
              "      <th></th>\n",
              "      <th>Identifier</th>\n",
              "      <th>Number Of Trees</th>\n",
              "      <th>Site Name</th>\n",
              "      <th>Contract Area</th>\n",
              "      <th>Scientific Name</th>\n",
              "      <th>Inspection Date</th>\n",
              "      <th>Inspection Due Date</th>\n",
              "      <th>Height In Metres</th>\n",
              "      <th>Spread In Metres</th>\n",
              "      <th>Diameter In Centimetres At Breast Height</th>\n",
              "      <th>Ward Code</th>\n",
              "      <th>Ward Name</th>\n",
              "      <th>Easting</th>\n",
              "      <th>Northing</th>\n",
              "      <th>Longitude</th>\n",
              "      <th>Latitude</th>\n",
              "      <th>Location</th>\n",
              "    </tr>\n",
              "  </thead>\n",
              "  <tbody>\n",
              "    <tr>\n",
              "      <th>1219</th>\n",
              "      <td>00060088</td>\n",
              "      <td>1.0</td>\n",
              "      <td>FREDERICK STREET</td>\n",
              "      <td>Highways</td>\n",
              "      <td>Vacant Tree Pit (planned: Access)</td>\n",
              "      <td>2019-11-09</td>\n",
              "      <td>2022/2023</td>\n",
              "      <td>NaN</td>\n",
              "      <td>NaN</td>\n",
              "      <td>NaN</td>\n",
              "      <td>E05000141</td>\n",
              "      <td>King's Cross</td>\n",
              "      <td>530770</td>\n",
              "      <td>182696</td>\n",
              "      <td>-0.116241</td>\n",
              "      <td>51.528046</td>\n",
              "      <td>(51.528046, -0.116241)</td>\n",
              "    </tr>\n",
              "    <tr>\n",
              "      <th>4388</th>\n",
              "      <td>00032549</td>\n",
              "      <td>1.0</td>\n",
              "      <td>NARCISSUS ROAD</td>\n",
              "      <td>Highways</td>\n",
              "      <td>Betula albosinensis Fasc.</td>\n",
              "      <td>2018-09-19</td>\n",
              "      <td>2021/2022</td>\n",
              "      <td>9.0</td>\n",
              "      <td>6.0</td>\n",
              "      <td>19.0</td>\n",
              "      <td>E05000145</td>\n",
              "      <td>West Hampstead</td>\n",
              "      <td>525185</td>\n",
              "      <td>185127</td>\n",
              "      <td>-0.195840</td>\n",
              "      <td>51.551159</td>\n",
              "      <td>(51.551159, -0.19584)</td>\n",
              "    </tr>\n",
              "    <tr>\n",
              "      <th>5491</th>\n",
              "      <td>00000999</td>\n",
              "      <td>1.0</td>\n",
              "      <td>ALMA STREET</td>\n",
              "      <td>Highways</td>\n",
              "      <td>Sorbus hupehensis</td>\n",
              "      <td>2017-07-25</td>\n",
              "      <td>2020/2021</td>\n",
              "      <td>5.0</td>\n",
              "      <td>4.0</td>\n",
              "      <td>18.0</td>\n",
              "      <td>E05000139</td>\n",
              "      <td>Kentish Town</td>\n",
              "      <td>528834</td>\n",
              "      <td>184856</td>\n",
              "      <td>-0.143337</td>\n",
              "      <td>51.547904</td>\n",
              "      <td>(51.547904, -0.143337)</td>\n",
              "    </tr>\n",
              "    <tr>\n",
              "      <th>6111</th>\n",
              "      <td>00032549</td>\n",
              "      <td>1.0</td>\n",
              "      <td>NARCISSUS ROAD</td>\n",
              "      <td>Highways</td>\n",
              "      <td>Betula albosinensis Fasc.</td>\n",
              "      <td>2018-09-19</td>\n",
              "      <td>2021/2022</td>\n",
              "      <td>9.0</td>\n",
              "      <td>6.0</td>\n",
              "      <td>19.0</td>\n",
              "      <td>E05000145</td>\n",
              "      <td>West Hampstead</td>\n",
              "      <td>525185</td>\n",
              "      <td>185127</td>\n",
              "      <td>-0.195840</td>\n",
              "      <td>51.551159</td>\n",
              "      <td>(51.551159, -0.19584)</td>\n",
              "    </tr>\n",
              "    <tr>\n",
              "      <th>7027</th>\n",
              "      <td>00022744</td>\n",
              "      <td>1.0</td>\n",
              "      <td>YORK WAY</td>\n",
              "      <td>Highways</td>\n",
              "      <td>Ailanthus altissima</td>\n",
              "      <td>2019-10-30</td>\n",
              "      <td>2022/2023</td>\n",
              "      <td>7.5</td>\n",
              "      <td>3.0</td>\n",
              "      <td>18.0</td>\n",
              "      <td>E05000131</td>\n",
              "      <td>Cantelowes</td>\n",
              "      <td>529983</td>\n",
              "      <td>184724</td>\n",
              "      <td>-0.126837</td>\n",
              "      <td>51.546447</td>\n",
              "      <td>(51.546447, -0.126837)</td>\n",
              "    </tr>\n",
              "    <tr>\n",
              "      <th>9186</th>\n",
              "      <td>00022744</td>\n",
              "      <td>1.0</td>\n",
              "      <td>YORK WAY</td>\n",
              "      <td>Highways</td>\n",
              "      <td>Ailanthus altissima</td>\n",
              "      <td>2019-10-30</td>\n",
              "      <td>2022/2023</td>\n",
              "      <td>7.5</td>\n",
              "      <td>3.0</td>\n",
              "      <td>18.0</td>\n",
              "      <td>E05000131</td>\n",
              "      <td>Cantelowes</td>\n",
              "      <td>529983</td>\n",
              "      <td>184724</td>\n",
              "      <td>-0.126837</td>\n",
              "      <td>51.546447</td>\n",
              "      <td>(51.546447, -0.126837)</td>\n",
              "    </tr>\n",
              "    <tr>\n",
              "      <th>9482</th>\n",
              "      <td>00022674</td>\n",
              "      <td>1.0</td>\n",
              "      <td>WOODSOME ROAD</td>\n",
              "      <td>Highways</td>\n",
              "      <td>Sorbus</td>\n",
              "      <td>2017-10-07</td>\n",
              "      <td>2020/2021</td>\n",
              "      <td>7.0</td>\n",
              "      <td>6.0</td>\n",
              "      <td>28.0</td>\n",
              "      <td>E05000137</td>\n",
              "      <td>Highgate</td>\n",
              "      <td>528515</td>\n",
              "      <td>186109</td>\n",
              "      <td>-0.147481</td>\n",
              "      <td>51.559237</td>\n",
              "      <td>(51.559237, -0.147481)</td>\n",
              "    </tr>\n",
              "    <tr>\n",
              "      <th>10972</th>\n",
              "      <td>00060088</td>\n",
              "      <td>1.0</td>\n",
              "      <td>FREDERICK STREET</td>\n",
              "      <td>Highways</td>\n",
              "      <td>Vacant Tree Pit (planned: Acer campestre eco s...</td>\n",
              "      <td>2019-11-09</td>\n",
              "      <td>2022/2023</td>\n",
              "      <td>NaN</td>\n",
              "      <td>NaN</td>\n",
              "      <td>NaN</td>\n",
              "      <td>E05000141</td>\n",
              "      <td>King's Cross</td>\n",
              "      <td>530770</td>\n",
              "      <td>182696</td>\n",
              "      <td>-0.116241</td>\n",
              "      <td>51.528046</td>\n",
              "      <td>(51.528046, -0.116241)</td>\n",
              "    </tr>\n",
              "    <tr>\n",
              "      <th>13098</th>\n",
              "      <td>00000999</td>\n",
              "      <td>1.0</td>\n",
              "      <td>ALMA STREET</td>\n",
              "      <td>Highways</td>\n",
              "      <td>Sorbus hupehensis</td>\n",
              "      <td>2017-07-25</td>\n",
              "      <td>2020/2021</td>\n",
              "      <td>5.0</td>\n",
              "      <td>4.0</td>\n",
              "      <td>18.0</td>\n",
              "      <td>E05000139</td>\n",
              "      <td>Kentish Town</td>\n",
              "      <td>528834</td>\n",
              "      <td>184856</td>\n",
              "      <td>-0.143337</td>\n",
              "      <td>51.547904</td>\n",
              "      <td>(51.547904, -0.143337)</td>\n",
              "    </tr>\n",
              "    <tr>\n",
              "      <th>13628</th>\n",
              "      <td>00022674</td>\n",
              "      <td>1.0</td>\n",
              "      <td>WOODSOME ROAD</td>\n",
              "      <td>Highways</td>\n",
              "      <td>Sorbus</td>\n",
              "      <td>2017-10-07</td>\n",
              "      <td>2020/2021</td>\n",
              "      <td>7.0</td>\n",
              "      <td>6.0</td>\n",
              "      <td>28.0</td>\n",
              "      <td>E05000137</td>\n",
              "      <td>Highgate</td>\n",
              "      <td>528515</td>\n",
              "      <td>186109</td>\n",
              "      <td>-0.147481</td>\n",
              "      <td>51.559237</td>\n",
              "      <td>(51.559237, -0.147481)</td>\n",
              "    </tr>\n",
              "    <tr>\n",
              "      <th>15393</th>\n",
              "      <td>00060087</td>\n",
              "      <td>1.0</td>\n",
              "      <td>ARGYLE SQUARE</td>\n",
              "      <td>Highways</td>\n",
              "      <td>Vacant Tree Pit (planned: Access)</td>\n",
              "      <td>2019-11-09</td>\n",
              "      <td>2022/2023</td>\n",
              "      <td>NaN</td>\n",
              "      <td>NaN</td>\n",
              "      <td>NaN</td>\n",
              "      <td>E05000141</td>\n",
              "      <td>King's Cross</td>\n",
              "      <td>530342</td>\n",
              "      <td>182839</td>\n",
              "      <td>-0.122352</td>\n",
              "      <td>51.529428</td>\n",
              "      <td>(51.529428, -0.122352)</td>\n",
              "    </tr>\n",
              "    <tr>\n",
              "      <th>15653</th>\n",
              "      <td>00060087</td>\n",
              "      <td>1.0</td>\n",
              "      <td>ARGYLE SQUARE</td>\n",
              "      <td>Highways</td>\n",
              "      <td>Vacant Tree Pit (planned: Acer campestre eco s...</td>\n",
              "      <td>2019-11-09</td>\n",
              "      <td>2022/2023</td>\n",
              "      <td>NaN</td>\n",
              "      <td>NaN</td>\n",
              "      <td>NaN</td>\n",
              "      <td>E05000141</td>\n",
              "      <td>King's Cross</td>\n",
              "      <td>530342</td>\n",
              "      <td>182839</td>\n",
              "      <td>-0.122352</td>\n",
              "      <td>51.529428</td>\n",
              "      <td>(51.529428, -0.122352)</td>\n",
              "    </tr>\n",
              "  </tbody>\n",
              "</table>\n",
              "</div>"
            ],
            "text/plain": [
              "      Identifier  Number Of Trees         Site Name Contract Area  \\\n",
              "1219    00060088              1.0  FREDERICK STREET      Highways   \n",
              "4388    00032549              1.0    NARCISSUS ROAD      Highways   \n",
              "5491    00000999              1.0       ALMA STREET      Highways   \n",
              "6111    00032549              1.0    NARCISSUS ROAD      Highways   \n",
              "7027    00022744              1.0          YORK WAY      Highways   \n",
              "9186    00022744              1.0          YORK WAY      Highways   \n",
              "9482    00022674              1.0     WOODSOME ROAD      Highways   \n",
              "10972   00060088              1.0  FREDERICK STREET      Highways   \n",
              "13098   00000999              1.0       ALMA STREET      Highways   \n",
              "13628   00022674              1.0     WOODSOME ROAD      Highways   \n",
              "15393   00060087              1.0     ARGYLE SQUARE      Highways   \n",
              "15653   00060087              1.0     ARGYLE SQUARE      Highways   \n",
              "\n",
              "                                         Scientific Name Inspection Date  \\\n",
              "1219                   Vacant Tree Pit (planned: Access)      2019-11-09   \n",
              "4388                           Betula albosinensis Fasc.      2018-09-19   \n",
              "5491                                   Sorbus hupehensis      2017-07-25   \n",
              "6111                           Betula albosinensis Fasc.      2018-09-19   \n",
              "7027                                 Ailanthus altissima      2019-10-30   \n",
              "9186                                 Ailanthus altissima      2019-10-30   \n",
              "9482                                              Sorbus      2017-10-07   \n",
              "10972  Vacant Tree Pit (planned: Acer campestre eco s...      2019-11-09   \n",
              "13098                                  Sorbus hupehensis      2017-07-25   \n",
              "13628                                             Sorbus      2017-10-07   \n",
              "15393                  Vacant Tree Pit (planned: Access)      2019-11-09   \n",
              "15653  Vacant Tree Pit (planned: Acer campestre eco s...      2019-11-09   \n",
              "\n",
              "      Inspection Due Date  Height In Metres  Spread In Metres  \\\n",
              "1219            2022/2023               NaN               NaN   \n",
              "4388            2021/2022               9.0               6.0   \n",
              "5491            2020/2021               5.0               4.0   \n",
              "6111            2021/2022               9.0               6.0   \n",
              "7027            2022/2023               7.5               3.0   \n",
              "9186            2022/2023               7.5               3.0   \n",
              "9482            2020/2021               7.0               6.0   \n",
              "10972           2022/2023               NaN               NaN   \n",
              "13098           2020/2021               5.0               4.0   \n",
              "13628           2020/2021               7.0               6.0   \n",
              "15393           2022/2023               NaN               NaN   \n",
              "15653           2022/2023               NaN               NaN   \n",
              "\n",
              "       Diameter In Centimetres At Breast Height  Ward Code       Ward Name  \\\n",
              "1219                                        NaN  E05000141    King's Cross   \n",
              "4388                                       19.0  E05000145  West Hampstead   \n",
              "5491                                       18.0  E05000139    Kentish Town   \n",
              "6111                                       19.0  E05000145  West Hampstead   \n",
              "7027                                       18.0  E05000131      Cantelowes   \n",
              "9186                                       18.0  E05000131      Cantelowes   \n",
              "9482                                       28.0  E05000137        Highgate   \n",
              "10972                                       NaN  E05000141    King's Cross   \n",
              "13098                                      18.0  E05000139    Kentish Town   \n",
              "13628                                      28.0  E05000137        Highgate   \n",
              "15393                                       NaN  E05000141    King's Cross   \n",
              "15653                                       NaN  E05000141    King's Cross   \n",
              "\n",
              "       Easting  Northing  Longitude   Latitude                Location  \n",
              "1219    530770    182696  -0.116241  51.528046  (51.528046, -0.116241)  \n",
              "4388    525185    185127  -0.195840  51.551159   (51.551159, -0.19584)  \n",
              "5491    528834    184856  -0.143337  51.547904  (51.547904, -0.143337)  \n",
              "6111    525185    185127  -0.195840  51.551159   (51.551159, -0.19584)  \n",
              "7027    529983    184724  -0.126837  51.546447  (51.546447, -0.126837)  \n",
              "9186    529983    184724  -0.126837  51.546447  (51.546447, -0.126837)  \n",
              "9482    528515    186109  -0.147481  51.559237  (51.559237, -0.147481)  \n",
              "10972   530770    182696  -0.116241  51.528046  (51.528046, -0.116241)  \n",
              "13098   528834    184856  -0.143337  51.547904  (51.547904, -0.143337)  \n",
              "13628   528515    186109  -0.147481  51.559237  (51.559237, -0.147481)  \n",
              "15393   530342    182839  -0.122352  51.529428  (51.529428, -0.122352)  \n",
              "15653   530342    182839  -0.122352  51.529428  (51.529428, -0.122352)  "
            ]
          },
          "execution_count": 67,
          "metadata": {},
          "output_type": "execute_result"
        }
      ],
      "source": [
        "# Select the rows that are duplicated\n",
        "# TODO\n",
        "mask = trees[\"Identifier\"].isin(id_counts[id_counts>1].index)\n",
        "trees[mask]"
      ]
    },
    {
      "cell_type": "code",
      "execution_count": null,
      "id": "74b66d2c-8f71-41ce-ac13-81ea81002efa",
      "metadata": {
        "id": "74b66d2c-8f71-41ce-ac13-81ea81002efa",
        "outputId": "af08fed1-0bf6-4c36-ba50-a1f111362355"
      },
      "outputs": [
        {
          "data": {
            "text/plain": [
              "(12, 17)"
            ]
          },
          "execution_count": 68,
          "metadata": {},
          "output_type": "execute_result"
        }
      ],
      "source": [
        "trees[mask].shape\n"
      ]
    },
    {
      "cell_type": "markdown",
      "id": "a74e447b-7ae5-43f3-a189-94c066fe6fc0",
      "metadata": {
        "id": "a74e447b-7ae5-43f3-a189-94c066fe6fc0"
      },
      "source": [
        "<hr/>\n",
        "\n",
        "### 6.2 Observations\n",
        "\n",
        "<div style=\"background-color:lemonchiffon; border:1px solid; padding:5px; margin:5px; font-weight:bold\"><font color=\"crimson\">\n",
        "TODO: Write down your observation about duplicates in trees.\n",
        "    </font></div>\n"
      ]
    },
    {
      "cell_type": "markdown",
      "id": "d8a3b9cc-1c6f-4dd2-8052-3ff34f5e61f5",
      "metadata": {
        "id": "d8a3b9cc-1c6f-4dd2-8052-3ff34f5e61f5"
      },
      "source": [
        "\n",
        "- We have 12 trees that are duplicates based on the identifier"
      ]
    },
    {
      "cell_type": "markdown",
      "id": "77c4e1be-e0ea-47ed-89b8-99f200d130d5",
      "metadata": {
        "id": "77c4e1be-e0ea-47ed-89b8-99f200d130d5"
      },
      "source": [
        "<hr/>"
      ]
    },
    {
      "cell_type": "markdown",
      "id": "59990f3e-6f73-46ee-8644-2dc503baa93a",
      "metadata": {
        "id": "59990f3e-6f73-46ee-8644-2dc503baa93a"
      },
      "source": [
        "## Task 7: Identify Geolocation Issues\n",
        "The geographic coordinates (Easting and Northing) can be used to plot the trees on a map.  We can use this approach to see if there are any unusual tree locations!\n",
        "\n",
        "We will make a copy of the original trees dataset and remove any rows that have a missing easting or northing as these can't be plotted on the map.\n",
        "\n",
        "We can copy the DataFrame using:\n",
        "\n",
        "- [pandas.DataFrame.copy](https://pandas.pydata.org/pandas-docs/stable/reference/api/pandas.DataFrame.copy.html)\n",
        "\n",
        "We can use the DataFrame filtering technique we saw before to remove the missing values.  E.g. the following code filters out rows where the value for 'mycolumn' is 100:\n",
        "\n",
        "    mask = df['mycolumn'] != 100\n",
        "    df = df[mask]\n",
        "\n",
        "You can also create masks using a function, e.g. this creates a mask which excludes nulls:\n",
        "\n",
        "    mask = df['mycolumn'].isnull()\n",
        "\n",
        "We can use this function to plot the trees on a map. Set x to \"Easting\" and y to \"Northing\" and set a figsize parameter to (6, 6) to get a square aspect ratio:\n",
        "\n",
        "- [pandas.DataFrame.plot.scatter](https://pandas.pydata.org/pandas-docs/version/0.25.0/reference/api/pandas.DataFrame.plot.scatter.html)\n",
        "\n",
        "\n"
      ]
    },
    {
      "cell_type": "markdown",
      "id": "0bdaf281-68a3-43d4-abb6-f3c42a088f7f",
      "metadata": {
        "id": "0bdaf281-68a3-43d4-abb6-f3c42a088f7f"
      },
      "source": [
        "### 7.1 Remove Trees with Missing Geo-coordinates\n",
        "Check if there are any rows with null or 0 geo-coordinates.  If there are, remove them as we can't plot these.\n",
        "\n",
        "<div style=\"background-color:lemonchiffon; border:1px solid; padding:5px; margin:5px; font-weight:bold\"><font color=\"crimson\">\n",
        "TODO: Complete the following code cells\n",
        "    </font></div>"
      ]
    },
    {
      "cell_type": "code",
      "execution_count": null,
      "id": "913c1d69-b105-44aa-be2f-73b537313c6e",
      "metadata": {
        "id": "913c1d69-b105-44aa-be2f-73b537313c6e"
      },
      "outputs": [],
      "source": [
        "# Make a copy of the trees\n",
        "geotrees = trees.copy()"
      ]
    },
    {
      "cell_type": "code",
      "execution_count": null,
      "id": "3a9b5bf6-bda3-472f-9796-060023cff4e8",
      "metadata": {
        "id": "3a9b5bf6-bda3-472f-9796-060023cff4e8"
      },
      "outputs": [],
      "source": [
        "# Remove null Eastings\n",
        "mask = geotrees['Easting'].notnull()\n",
        "geotrees = geotrees[mask]"
      ]
    },
    {
      "cell_type": "code",
      "execution_count": null,
      "id": "7f77324a-f2e4-4d69-a0fe-1d71757c6f6e",
      "metadata": {
        "id": "7f77324a-f2e4-4d69-a0fe-1d71757c6f6e"
      },
      "outputs": [],
      "source": [
        "# Remove 0 Eastings.\n",
        "mask = geotrees['Easting'] != 0\n",
        "geotrees = geotrees[mask]"
      ]
    },
    {
      "cell_type": "code",
      "execution_count": null,
      "id": "40ccb789-0cab-4218-9caa-e7e08b2b71ae",
      "metadata": {
        "id": "40ccb789-0cab-4218-9caa-e7e08b2b71ae"
      },
      "outputs": [],
      "source": [
        "# Remove null Northings\n",
        "# TODO\n",
        "mask = geotrees['Northing'].notnull()\n",
        "geotrees = geotrees[mask]"
      ]
    },
    {
      "cell_type": "code",
      "execution_count": null,
      "id": "c77858c5-99e7-4f1f-affa-bd2370b9aed8",
      "metadata": {
        "id": "c77858c5-99e7-4f1f-affa-bd2370b9aed8"
      },
      "outputs": [],
      "source": [
        "# Remove 0 Northings.\n",
        "# TODO\n",
        "mask = geotrees['Northing'] != 0\n",
        "geotrees = geotrees[mask]"
      ]
    },
    {
      "cell_type": "code",
      "execution_count": null,
      "id": "616a5473-5d71-486a-9ea0-c401fc7f4428",
      "metadata": {
        "id": "616a5473-5d71-486a-9ea0-c401fc7f4428",
        "outputId": "77d19945-7f24-44ad-c935-297f82a64261"
      },
      "outputs": [
        {
          "data": {
            "text/plain": [
              "(23388, 17)"
            ]
          },
          "execution_count": 74,
          "metadata": {},
          "output_type": "execute_result"
        }
      ],
      "source": [
        "# Confirm how many rows we have\n",
        "# TODO\n",
        "geotrees.shape"
      ]
    },
    {
      "cell_type": "markdown",
      "id": "0ec392ba-5ea5-49bb-afcd-b7b7931cc95e",
      "metadata": {
        "id": "0ec392ba-5ea5-49bb-afcd-b7b7931cc95e"
      },
      "source": [
        "<hr/>"
      ]
    },
    {
      "cell_type": "markdown",
      "id": "d1e84a3c-7eed-408a-a724-3944d89e0755",
      "metadata": {
        "id": "d1e84a3c-7eed-408a-a724-3944d89e0755"
      },
      "source": [
        "### 7.2 Plot Map of Trees\n",
        "Now make the plot.  Do a scatter plot of Northing vs Easting. You should obtain an outline of the map of Camden. Compare that outline with a real map of Camden (use good old google maps!). You’ll be able to spot the trees that should not be in that dataset from there!\n",
        "\n",
        "<div style=\"background-color:lemonchiffon; border:1px solid; padding:5px; margin:5px; font-weight:bold\"><font color=\"crimson\">\n",
        "TODO: Complete the following code cell\n",
        "    </font></div>"
      ]
    },
    {
      "cell_type": "code",
      "execution_count": null,
      "id": "b51e227f-bd09-4064-9f60-be766962646d",
      "metadata": {
        "id": "b51e227f-bd09-4064-9f60-be766962646d",
        "outputId": "dcdac39a-2554-45ee-9503-3ecde9c64309"
      },
      "outputs": [
        {
          "data": {
            "text/plain": [
              "<AxesSubplot:xlabel='Easting', ylabel='Northing'>"
            ]
          },
          "execution_count": 75,
          "metadata": {},
          "output_type": "execute_result"
        },
        {
          "data": {
            "image/png": "[encoded data removed]",
            "text/plain": [
              "<Figure size 432x432 with 1 Axes>"
            ]
          },
          "metadata": {
            "needs_background": "light"
          },
          "output_type": "display_data"
        }
      ],
      "source": [
        "# Plot the trees on a map\n",
        "# TODO\n",
        "geotrees.plot.scatter(x='Easting', y='Northing', figsize=(6, 6))"
      ]
    },
    {
      "cell_type": "markdown",
      "id": "6914e59e-aaeb-4b9b-8a84-b4007e2ad747",
      "metadata": {
        "id": "6914e59e-aaeb-4b9b-8a84-b4007e2ad747"
      },
      "source": [
        "### 7.3 Find Trees Outside Camden\n",
        "From the scatter plot, you should be able to determine how to select the rows from the trees data set containing the offending trees (using the Easting and Northing values)\n",
        "\n",
        "Select the rows containing trees outside of Camden.  Use the filter technique again.\n",
        "\n",
        "<div style=\"background-color:lemonchiffon; border:1px solid; padding:5px; margin:5px; font-weight:bold\"><font color=\"crimson\">\n",
        "TODO: Complete the following code cells\n",
        "    </font></div>"
      ]
    },
    {
      "cell_type": "code",
      "execution_count": null,
      "id": "4b992a8f-d5be-4adb-a383-4f8e5505b2ed",
      "metadata": {
        "id": "4b992a8f-d5be-4adb-a383-4f8e5505b2ed",
        "outputId": "b6c60953-dce5-4ff1-ab98-1d5d0bfd008f"
      },
      "outputs": [
        {
          "data": {
            "text/html": [
              "<div>\n",
              "<style scoped>\n",
              "    .dataframe tbody tr th:only-of-type {\n",
              "        vertical-align: middle;\n",
              "    }\n",
              "\n",
              "    .dataframe tbody tr th {\n",
              "        vertical-align: top;\n",
              "    }\n",
              "\n",
              "    .dataframe thead th {\n",
              "        text-align: right;\n",
              "    }\n",
              "</style>\n",
              "<table border=\"1\" class=\"dataframe\">\n",
              "  <thead>\n",
              "    <tr style=\"text-align: right;\">\n",
              "      <th></th>\n",
              "      <th>Identifier</th>\n",
              "      <th>Number Of Trees</th>\n",
              "      <th>Site Name</th>\n",
              "      <th>Contract Area</th>\n",
              "      <th>Scientific Name</th>\n",
              "      <th>Inspection Date</th>\n",
              "      <th>Inspection Due Date</th>\n",
              "      <th>Height In Metres</th>\n",
              "      <th>Spread In Metres</th>\n",
              "      <th>Diameter In Centimetres At Breast Height</th>\n",
              "      <th>Ward Code</th>\n",
              "      <th>Ward Name</th>\n",
              "      <th>Easting</th>\n",
              "      <th>Northing</th>\n",
              "      <th>Longitude</th>\n",
              "      <th>Latitude</th>\n",
              "      <th>Location</th>\n",
              "    </tr>\n",
              "  </thead>\n",
              "  <tbody>\n",
              "    <tr>\n",
              "      <th>78</th>\n",
              "      <td>00044991</td>\n",
              "      <td>1.0</td>\n",
              "      <td>Bells Hill Estate</td>\n",
              "      <td>Housing</td>\n",
              "      <td>Fraxinus excelsior</td>\n",
              "      <td>2017-04-28</td>\n",
              "      <td>2020/2021</td>\n",
              "      <td>20.0</td>\n",
              "      <td>10.0</td>\n",
              "      <td>49.0</td>\n",
              "      <td>NaN</td>\n",
              "      <td>NaN</td>\n",
              "      <td>523883</td>\n",
              "      <td>196179</td>\n",
              "      <td>-0.210713</td>\n",
              "      <td>51.650765</td>\n",
              "      <td>(51.650765, -0.210713)</td>\n",
              "    </tr>\n",
              "    <tr>\n",
              "      <th>298</th>\n",
              "      <td>00045000</td>\n",
              "      <td>1.0</td>\n",
              "      <td>Estate 167 Furzehill Road</td>\n",
              "      <td>Housing</td>\n",
              "      <td>Pinus sylvestris</td>\n",
              "      <td>2017-04-28</td>\n",
              "      <td>2020/2021</td>\n",
              "      <td>10.0</td>\n",
              "      <td>3.0</td>\n",
              "      <td>41.0</td>\n",
              "      <td>NaN</td>\n",
              "      <td>NaN</td>\n",
              "      <td>520367</td>\n",
              "      <td>195595</td>\n",
              "      <td>-0.261719</td>\n",
              "      <td>51.646283</td>\n",
              "      <td>(51.646283, -0.261719)</td>\n",
              "    </tr>\n",
              "    <tr>\n",
              "      <th>660</th>\n",
              "      <td>00044992</td>\n",
              "      <td>1.0</td>\n",
              "      <td>Bells Hill Estate</td>\n",
              "      <td>Housing</td>\n",
              "      <td>Crataegus monogyna</td>\n",
              "      <td>2017-04-28</td>\n",
              "      <td>2020/2021</td>\n",
              "      <td>4.0</td>\n",
              "      <td>4.0</td>\n",
              "      <td>7.0</td>\n",
              "      <td>NaN</td>\n",
              "      <td>NaN</td>\n",
              "      <td>523875</td>\n",
              "      <td>196170</td>\n",
              "      <td>-0.210830</td>\n",
              "      <td>51.650690</td>\n",
              "      <td>(51.65069, -0.21083)</td>\n",
              "    </tr>\n",
              "    <tr>\n",
              "      <th>1526</th>\n",
              "      <td>00044995</td>\n",
              "      <td>1.0</td>\n",
              "      <td>Bells Hill Estate</td>\n",
              "      <td>Housing</td>\n",
              "      <td>Fraxinus excelsior</td>\n",
              "      <td>2017-04-28</td>\n",
              "      <td>2020/2021</td>\n",
              "      <td>18.0</td>\n",
              "      <td>12.0</td>\n",
              "      <td>54.0</td>\n",
              "      <td>NaN</td>\n",
              "      <td>NaN</td>\n",
              "      <td>523936</td>\n",
              "      <td>196127</td>\n",
              "      <td>-0.209969</td>\n",
              "      <td>51.650287</td>\n",
              "      <td>(51.650287, -0.209969)</td>\n",
              "    </tr>\n",
              "    <tr>\n",
              "      <th>5392</th>\n",
              "      <td>00044990</td>\n",
              "      <td>1.0</td>\n",
              "      <td>Bells Hill Estate</td>\n",
              "      <td>Housing</td>\n",
              "      <td>Aesculus hippocastanum</td>\n",
              "      <td>2017-04-28</td>\n",
              "      <td>2020/2021</td>\n",
              "      <td>22.0</td>\n",
              "      <td>12.0</td>\n",
              "      <td>67.0</td>\n",
              "      <td>NaN</td>\n",
              "      <td>NaN</td>\n",
              "      <td>523889</td>\n",
              "      <td>196188</td>\n",
              "      <td>-0.210618</td>\n",
              "      <td>51.650843</td>\n",
              "      <td>(51.650843, -0.210618)</td>\n",
              "    </tr>\n",
              "    <tr>\n",
              "      <th>18069</th>\n",
              "      <td>00044993</td>\n",
              "      <td>1.0</td>\n",
              "      <td>Bells Hill Estate</td>\n",
              "      <td>Housing</td>\n",
              "      <td>Tilia cordata</td>\n",
              "      <td>2017-04-28</td>\n",
              "      <td>2020/2021</td>\n",
              "      <td>23.0</td>\n",
              "      <td>14.0</td>\n",
              "      <td>89.0</td>\n",
              "      <td>NaN</td>\n",
              "      <td>NaN</td>\n",
              "      <td>523867</td>\n",
              "      <td>196159</td>\n",
              "      <td>-0.210957</td>\n",
              "      <td>51.650590</td>\n",
              "      <td>(51.65059, -0.210957)</td>\n",
              "    </tr>\n",
              "    <tr>\n",
              "      <th>18078</th>\n",
              "      <td>00044601</td>\n",
              "      <td>1.0</td>\n",
              "      <td>Bells Hill Estate</td>\n",
              "      <td>Housing</td>\n",
              "      <td>Tilia cordata</td>\n",
              "      <td>2017-04-28</td>\n",
              "      <td>2020/2021</td>\n",
              "      <td>21.0</td>\n",
              "      <td>12.0</td>\n",
              "      <td>56.0</td>\n",
              "      <td>NaN</td>\n",
              "      <td>NaN</td>\n",
              "      <td>523905</td>\n",
              "      <td>196174</td>\n",
              "      <td>-0.210394</td>\n",
              "      <td>51.650719</td>\n",
              "      <td>(51.650719, -0.210394)</td>\n",
              "    </tr>\n",
              "    <tr>\n",
              "      <th>19532</th>\n",
              "      <td>00044988</td>\n",
              "      <td>1.0</td>\n",
              "      <td>Bells Hill Estate</td>\n",
              "      <td>Housing</td>\n",
              "      <td>Tilia cordata</td>\n",
              "      <td>2017-04-28</td>\n",
              "      <td>2020/2021</td>\n",
              "      <td>21.0</td>\n",
              "      <td>12.0</td>\n",
              "      <td>65.0</td>\n",
              "      <td>NaN</td>\n",
              "      <td>NaN</td>\n",
              "      <td>523909</td>\n",
              "      <td>196169</td>\n",
              "      <td>-0.210340</td>\n",
              "      <td>51.650676</td>\n",
              "      <td>(51.650676, -0.21034)</td>\n",
              "    </tr>\n",
              "  </tbody>\n",
              "</table>\n",
              "</div>"
            ],
            "text/plain": [
              "      Identifier  Number Of Trees                  Site Name Contract Area  \\\n",
              "78      00044991              1.0          Bells Hill Estate       Housing   \n",
              "298     00045000              1.0  Estate 167 Furzehill Road       Housing   \n",
              "660     00044992              1.0          Bells Hill Estate       Housing   \n",
              "1526    00044995              1.0          Bells Hill Estate       Housing   \n",
              "5392    00044990              1.0          Bells Hill Estate       Housing   \n",
              "18069   00044993              1.0          Bells Hill Estate       Housing   \n",
              "18078   00044601              1.0          Bells Hill Estate       Housing   \n",
              "19532   00044988              1.0          Bells Hill Estate       Housing   \n",
              "\n",
              "              Scientific Name Inspection Date Inspection Due Date  \\\n",
              "78         Fraxinus excelsior      2017-04-28           2020/2021   \n",
              "298          Pinus sylvestris      2017-04-28           2020/2021   \n",
              "660        Crataegus monogyna      2017-04-28           2020/2021   \n",
              "1526       Fraxinus excelsior      2017-04-28           2020/2021   \n",
              "5392   Aesculus hippocastanum      2017-04-28           2020/2021   \n",
              "18069           Tilia cordata      2017-04-28           2020/2021   \n",
              "18078           Tilia cordata      2017-04-28           2020/2021   \n",
              "19532           Tilia cordata      2017-04-28           2020/2021   \n",
              "\n",
              "       Height In Metres  Spread In Metres  \\\n",
              "78                 20.0              10.0   \n",
              "298                10.0               3.0   \n",
              "660                 4.0               4.0   \n",
              "1526               18.0              12.0   \n",
              "5392               22.0              12.0   \n",
              "18069              23.0              14.0   \n",
              "18078              21.0              12.0   \n",
              "19532              21.0              12.0   \n",
              "\n",
              "       Diameter In Centimetres At Breast Height Ward Code Ward Name  Easting  \\\n",
              "78                                         49.0       NaN       NaN   523883   \n",
              "298                                        41.0       NaN       NaN   520367   \n",
              "660                                         7.0       NaN       NaN   523875   \n",
              "1526                                       54.0       NaN       NaN   523936   \n",
              "5392                                       67.0       NaN       NaN   523889   \n",
              "18069                                      89.0       NaN       NaN   523867   \n",
              "18078                                      56.0       NaN       NaN   523905   \n",
              "19532                                      65.0       NaN       NaN   523909   \n",
              "\n",
              "       Northing  Longitude   Latitude                Location  \n",
              "78       196179  -0.210713  51.650765  (51.650765, -0.210713)  \n",
              "298      195595  -0.261719  51.646283  (51.646283, -0.261719)  \n",
              "660      196170  -0.210830  51.650690    (51.65069, -0.21083)  \n",
              "1526     196127  -0.209969  51.650287  (51.650287, -0.209969)  \n",
              "5392     196188  -0.210618  51.650843  (51.650843, -0.210618)  \n",
              "18069    196159  -0.210957  51.650590   (51.65059, -0.210957)  \n",
              "18078    196174  -0.210394  51.650719  (51.650719, -0.210394)  \n",
              "19532    196169  -0.210340  51.650676   (51.650676, -0.21034)  "
            ]
          },
          "execution_count": 76,
          "metadata": {},
          "output_type": "execute_result"
        }
      ],
      "source": [
        "# Select the outlier rows\n",
        "# TODO\n",
        "mask = geotrees['Northing'] > 194000\n",
        "geotrees[mask]"
      ]
    },
    {
      "cell_type": "code",
      "execution_count": null,
      "id": "a4f78bac-0460-424c-b232-c68d44c255a3",
      "metadata": {
        "id": "a4f78bac-0460-424c-b232-c68d44c255a3",
        "outputId": "e0834a1a-2b88-41d3-a288-9afe90389c53"
      },
      "outputs": [
        {
          "data": {
            "text/plain": [
              "(8, 17)"
            ]
          },
          "execution_count": 77,
          "metadata": {},
          "output_type": "execute_result"
        }
      ],
      "source": [
        "# Confirm how many rows we have\n",
        "# TODO\n",
        "geotrees[mask].shape"
      ]
    },
    {
      "cell_type": "markdown",
      "id": "ee3f0cff-17bb-4f75-a92c-876c56e230c5",
      "metadata": {
        "id": "ee3f0cff-17bb-4f75-a92c-876c56e230c5"
      },
      "source": [
        "<hr/>\n",
        "\n",
        "### 7.4 Observations\n",
        "\n",
        "\n",
        "<div style=\"background-color:lemonchiffon; border:1px solid; padding:5px; margin:5px; font-weight:bold\"><font color=\"crimson\">\n",
        "TODO: Write down your observation about geolocation issues.\n",
        "    </font></div>\n"
      ]
    },
    {
      "cell_type": "markdown",
      "id": "72630772-094d-41c6-bad5-a070c2a51b3f",
      "metadata": {
        "id": "72630772-094d-41c6-bad5-a070c2a51b3f"
      },
      "source": [
        "\n",
        "\n",
        "- We have 8 trees that are not in Camden!\n"
      ]
    },
    {
      "cell_type": "markdown",
      "id": "54421c28-fd25-48c9-b2bb-4cd5c0b20a52",
      "metadata": {
        "id": "54421c28-fd25-48c9-b2bb-4cd5c0b20a52"
      },
      "source": [
        "\n",
        "<hr/>"
      ]
    },
    {
      "cell_type": "markdown",
      "id": "2c6f941f-e14a-4a51-aa29-66010910009a",
      "metadata": {
        "tags": [],
        "id": "2c6f941f-e14a-4a51-aa29-66010910009a"
      },
      "source": [
        "## Task 8: Identify Unmatched Data\n",
        "We have multiple datasets that will need to be joined together to produce the analyses required by the Camden Parks and Open Spaces team.  The data will need to be joined in the following way:\n",
        "\n",
        "- Use the `Identifier` column in the trees dataset to match to the `Identifier` column in the environmental data set (so we can bring in the environmental data for each tree)\n",
        "- Use the `Scientific Name` column in the trees dataset to match to the `Scientific Name` column in the common names data set (so we can look up the `Common Name`)\n",
        "\n",
        "There may be mismatches in the data.  Of particular concern we want to check\n",
        "\n",
        "- That every tree in the trees dataset has matching environmental data in the environmental data set\n",
        "- That every environmental row in the environmental dataset has matching tree data in the tree data set\n",
        "- That every scientific name in the trees dataset has a matching common name in the common names data set\n",
        "\n",
        "We aren't too concerned about the reverse of the last scenario (if we have extra names in the common names dataset that aren't in the trees data set).  We don't expect Camden to have a specimen of every tree that exists!  \n",
        "\n",
        "There are a few ways this can be done, but one technique is to use the `isin` function to check if some column in one dataframe contains values that are in another column in another dataframe.  This creates a mask containing rows that match between the two dataframes:\n",
        "\n",
        "    mask = df1['column_name1'].isin(df2['column_name2'])\n",
        "    \n",
        "To select the non-matching rows, we can use Python's bitwise not operator ~:\n",
        "\n",
        "    mask = ~df1['column_name1'].isin(df2['column_name2'])\n",
        "    \n",
        "As we have seen before, the mask can be used to select that subset of rows back from the original dataframe."
      ]
    },
    {
      "cell_type": "markdown",
      "id": "1f5064f7-e956-4420-b80c-f14c2d2d3427",
      "metadata": {
        "id": "1f5064f7-e956-4420-b80c-f14c2d2d3427"
      },
      "source": [
        "### 8.1 Find Trees that Don't have Matching Environmental Data\n",
        "<div style=\"background-color:lemonchiffon; border:1px solid; padding:5px; margin:5px; font-weight:bold\"><font color=\"crimson\">\n",
        "TODO: Complete the following code cells\n",
        "    </font></div>"
      ]
    },
    {
      "cell_type": "code",
      "execution_count": null,
      "id": "ec5e5506-1c6f-4f33-92d1-420ea57b6da5",
      "metadata": {
        "id": "ec5e5506-1c6f-4f33-92d1-420ea57b6da5",
        "outputId": "c450ef2f-686f-4ef9-ba05-5ae828d99a03"
      },
      "outputs": [
        {
          "data": {
            "text/html": [
              "<div>\n",
              "<style scoped>\n",
              "    .dataframe tbody tr th:only-of-type {\n",
              "        vertical-align: middle;\n",
              "    }\n",
              "\n",
              "    .dataframe tbody tr th {\n",
              "        vertical-align: top;\n",
              "    }\n",
              "\n",
              "    .dataframe thead th {\n",
              "        text-align: right;\n",
              "    }\n",
              "</style>\n",
              "<table border=\"1\" class=\"dataframe\">\n",
              "  <thead>\n",
              "    <tr style=\"text-align: right;\">\n",
              "      <th></th>\n",
              "      <th>Identifier</th>\n",
              "      <th>Number Of Trees</th>\n",
              "      <th>Site Name</th>\n",
              "      <th>Contract Area</th>\n",
              "      <th>Scientific Name</th>\n",
              "      <th>Inspection Date</th>\n",
              "      <th>Inspection Due Date</th>\n",
              "      <th>Height In Metres</th>\n",
              "      <th>Spread In Metres</th>\n",
              "      <th>Diameter In Centimetres At Breast Height</th>\n",
              "      <th>Ward Code</th>\n",
              "      <th>Ward Name</th>\n",
              "      <th>Easting</th>\n",
              "      <th>Northing</th>\n",
              "      <th>Longitude</th>\n",
              "      <th>Latitude</th>\n",
              "      <th>Location</th>\n",
              "    </tr>\n",
              "  </thead>\n",
              "  <tbody>\n",
              "    <tr>\n",
              "      <th>66</th>\n",
              "      <td>00059712</td>\n",
              "      <td>1.0</td>\n",
              "      <td>Maiden Lane Estate</td>\n",
              "      <td>Housing</td>\n",
              "      <td>Acer saccharinum</td>\n",
              "      <td>2019-05-28</td>\n",
              "      <td>2022/2023</td>\n",
              "      <td>12.0</td>\n",
              "      <td>5.0</td>\n",
              "      <td>20.0</td>\n",
              "      <td>E05000131</td>\n",
              "      <td>Cantelowes</td>\n",
              "      <td>529795</td>\n",
              "      <td>184142</td>\n",
              "      <td>-0.129750</td>\n",
              "      <td>51.541266</td>\n",
              "      <td>(51.541266, -0.12975)</td>\n",
              "    </tr>\n",
              "    <tr>\n",
              "      <th>125</th>\n",
              "      <td>00048578</td>\n",
              "      <td>1.0</td>\n",
              "      <td>BUCK STREET</td>\n",
              "      <td>Highways</td>\n",
              "      <td>Sorbus aucuparia</td>\n",
              "      <td>2017-07-19</td>\n",
              "      <td>2020/2021</td>\n",
              "      <td>6.0</td>\n",
              "      <td>2.0</td>\n",
              "      <td>10.0</td>\n",
              "      <td>E05000130</td>\n",
              "      <td>Camden Town with Primrose Hill</td>\n",
              "      <td>528900</td>\n",
              "      <td>184020</td>\n",
              "      <td>-0.142698</td>\n",
              "      <td>51.540371</td>\n",
              "      <td>(51.540371, -0.142698)</td>\n",
              "    </tr>\n",
              "    <tr>\n",
              "      <th>1148</th>\n",
              "      <td>00006577</td>\n",
              "      <td>1.0</td>\n",
              "      <td>FAWLEY ROAD</td>\n",
              "      <td>Highways</td>\n",
              "      <td>Tilia euchlora</td>\n",
              "      <td>2018-09-28</td>\n",
              "      <td>2021/2022</td>\n",
              "      <td>15.0</td>\n",
              "      <td>6.0</td>\n",
              "      <td>38.0</td>\n",
              "      <td>E05000145</td>\n",
              "      <td>West Hampstead</td>\n",
              "      <td>525572</td>\n",
              "      <td>185015</td>\n",
              "      <td>-0.190313</td>\n",
              "      <td>51.550062</td>\n",
              "      <td>(51.550062, -0.190313)</td>\n",
              "    </tr>\n",
              "    <tr>\n",
              "      <th>1998</th>\n",
              "      <td>00007366</td>\n",
              "      <td>1.0</td>\n",
              "      <td>FORTUNE GREEN RD, OPEN SPACE (LS)</td>\n",
              "      <td>Parks</td>\n",
              "      <td>Ilex aquifolium</td>\n",
              "      <td>2017-03-21</td>\n",
              "      <td>2019/2020</td>\n",
              "      <td>9.0</td>\n",
              "      <td>6.0</td>\n",
              "      <td>44.0</td>\n",
              "      <td>E05000132</td>\n",
              "      <td>Fortune Green</td>\n",
              "      <td>525074</td>\n",
              "      <td>185541</td>\n",
              "      <td>-0.197304</td>\n",
              "      <td>51.554901</td>\n",
              "      <td>(51.554901, -0.197304)</td>\n",
              "    </tr>\n",
              "    <tr>\n",
              "      <th>2246</th>\n",
              "      <td>00014633</td>\n",
              "      <td>1.0</td>\n",
              "      <td>Mortimer Estate</td>\n",
              "      <td>Housing</td>\n",
              "      <td>Tilia europaea</td>\n",
              "      <td>2019-01-29</td>\n",
              "      <td>2021/2022</td>\n",
              "      <td>16.0</td>\n",
              "      <td>12.0</td>\n",
              "      <td>47.0</td>\n",
              "      <td>E05000140</td>\n",
              "      <td>Kilburn</td>\n",
              "      <td>525763</td>\n",
              "      <td>183613</td>\n",
              "      <td>-0.188060</td>\n",
              "      <td>51.537424</td>\n",
              "      <td>(51.537424, -0.18806)</td>\n",
              "    </tr>\n",
              "    <tr>\n",
              "      <th>5478</th>\n",
              "      <td>00060382</td>\n",
              "      <td>1.0</td>\n",
              "      <td>SHAFTESBURY AVENUE</td>\n",
              "      <td>Highways</td>\n",
              "      <td>Vacant Tree Pit</td>\n",
              "      <td>NaT</td>\n",
              "      <td>NaN</td>\n",
              "      <td>NaN</td>\n",
              "      <td>NaN</td>\n",
              "      <td>NaN</td>\n",
              "      <td>E05000138</td>\n",
              "      <td>Holborn and Covent Garden</td>\n",
              "      <td>530073</td>\n",
              "      <td>181247</td>\n",
              "      <td>-0.126813</td>\n",
              "      <td>51.515186</td>\n",
              "      <td>(51.515186, -0.126813)</td>\n",
              "    </tr>\n",
              "    <tr>\n",
              "      <th>10637</th>\n",
              "      <td>00002874</td>\n",
              "      <td>1.0</td>\n",
              "      <td>BURGHLEY ROAD</td>\n",
              "      <td>Highways</td>\n",
              "      <td>Platanus x hispanica</td>\n",
              "      <td>2017-08-14</td>\n",
              "      <td>2020/2021</td>\n",
              "      <td>20.0</td>\n",
              "      <td>8.0</td>\n",
              "      <td>52.0</td>\n",
              "      <td>E05000139</td>\n",
              "      <td>Kentish Town</td>\n",
              "      <td>529119</td>\n",
              "      <td>185889</td>\n",
              "      <td>-0.138863</td>\n",
              "      <td>51.557120</td>\n",
              "      <td>(51.55712, -0.138863)</td>\n",
              "    </tr>\n",
              "    <tr>\n",
              "      <th>10977</th>\n",
              "      <td>00055227</td>\n",
              "      <td>1.0</td>\n",
              "      <td>BURGHLEY ROAD</td>\n",
              "      <td>Highways</td>\n",
              "      <td>Amelanchier lamarckii</td>\n",
              "      <td>2017-08-14</td>\n",
              "      <td>2020/2021</td>\n",
              "      <td>3.0</td>\n",
              "      <td>2.0</td>\n",
              "      <td>5.0</td>\n",
              "      <td>E05000139</td>\n",
              "      <td>Kentish Town</td>\n",
              "      <td>528920</td>\n",
              "      <td>185694</td>\n",
              "      <td>-0.141802</td>\n",
              "      <td>51.555408</td>\n",
              "      <td>(51.555408, -0.141802)</td>\n",
              "    </tr>\n",
              "    <tr>\n",
              "      <th>11795</th>\n",
              "      <td>00016702</td>\n",
              "      <td>1.0</td>\n",
              "      <td>RED LION SQUARE, GARDENS (LS)</td>\n",
              "      <td>Parks</td>\n",
              "      <td>Platanus x hispanica</td>\n",
              "      <td>2018-06-04</td>\n",
              "      <td>2021/2022</td>\n",
              "      <td>30.0</td>\n",
              "      <td>23.0</td>\n",
              "      <td>165.0</td>\n",
              "      <td>E05000138</td>\n",
              "      <td>Holborn and Covent Garden</td>\n",
              "      <td>530572</td>\n",
              "      <td>181701</td>\n",
              "      <td>-0.119460</td>\n",
              "      <td>51.519146</td>\n",
              "      <td>(51.519146, -0.11946)</td>\n",
              "    </tr>\n",
              "    <tr>\n",
              "      <th>11856</th>\n",
              "      <td>00054744</td>\n",
              "      <td>1.0</td>\n",
              "      <td>Carrol &amp; Sanderson Close Estate</td>\n",
              "      <td>Housing</td>\n",
              "      <td>Prunus unidentified species</td>\n",
              "      <td>2017-01-06</td>\n",
              "      <td>2020/2021</td>\n",
              "      <td>3.0</td>\n",
              "      <td>3.0</td>\n",
              "      <td>13.0</td>\n",
              "      <td>E05000137</td>\n",
              "      <td>Highgate</td>\n",
              "      <td>528661</td>\n",
              "      <td>185556</td>\n",
              "      <td>-0.145585</td>\n",
              "      <td>51.554226</td>\n",
              "      <td>(51.554226, -0.145585)</td>\n",
              "    </tr>\n",
              "    <tr>\n",
              "      <th>12056</th>\n",
              "      <td>00003694</td>\n",
              "      <td>1.0</td>\n",
              "      <td>Estate 1-161 Burnham (cons)</td>\n",
              "      <td>Housing</td>\n",
              "      <td>Acer platanoides</td>\n",
              "      <td>2018-04-17</td>\n",
              "      <td>2021/2022</td>\n",
              "      <td>3.0</td>\n",
              "      <td>1.0</td>\n",
              "      <td>6.0</td>\n",
              "      <td>E05000128</td>\n",
              "      <td>Belsize</td>\n",
              "      <td>527015</td>\n",
              "      <td>184315</td>\n",
              "      <td>-0.169763</td>\n",
              "      <td>51.543451</td>\n",
              "      <td>(51.543451, -0.169763)</td>\n",
              "    </tr>\n",
              "    <tr>\n",
              "      <th>12936</th>\n",
              "      <td>00054558</td>\n",
              "      <td>1.0</td>\n",
              "      <td>ST. MARY'S KILBURN C OF E JMI (E)</td>\n",
              "      <td>Education</td>\n",
              "      <td>Amelanchier lamarckii</td>\n",
              "      <td>2019-10-07</td>\n",
              "      <td>2022/2023</td>\n",
              "      <td>4.0</td>\n",
              "      <td>2.0</td>\n",
              "      <td>8.0</td>\n",
              "      <td>E05000140</td>\n",
              "      <td>Kilburn</td>\n",
              "      <td>525443</td>\n",
              "      <td>183919</td>\n",
              "      <td>-0.192552</td>\n",
              "      <td>51.540245</td>\n",
              "      <td>(51.540245, -0.192552)</td>\n",
              "    </tr>\n",
              "    <tr>\n",
              "      <th>13248</th>\n",
              "      <td>00059317</td>\n",
              "      <td>1.0</td>\n",
              "      <td>ADELAIDE ROAD NATURE AREA</td>\n",
              "      <td>Parks</td>\n",
              "      <td>Stump Only</td>\n",
              "      <td>2019-01-31</td>\n",
              "      <td>2021/2022</td>\n",
              "      <td>0.0</td>\n",
              "      <td>5.0</td>\n",
              "      <td>50.0</td>\n",
              "      <td>E05000128</td>\n",
              "      <td>Belsize</td>\n",
              "      <td>527577</td>\n",
              "      <td>184297</td>\n",
              "      <td>-0.161664</td>\n",
              "      <td>51.543163</td>\n",
              "      <td>(51.543163, -0.161664)</td>\n",
              "    </tr>\n",
              "    <tr>\n",
              "      <th>16815</th>\n",
              "      <td>00055884</td>\n",
              "      <td>1.0</td>\n",
              "      <td>HONEYBOURNE ROAD</td>\n",
              "      <td>Highways</td>\n",
              "      <td>Acer pseudoplatanus 'Brilliant</td>\n",
              "      <td>2018-05-10</td>\n",
              "      <td>2021/2022</td>\n",
              "      <td>2.0</td>\n",
              "      <td>1.0</td>\n",
              "      <td>4.0</td>\n",
              "      <td>E05000145</td>\n",
              "      <td>West Hampstead</td>\n",
              "      <td>525593</td>\n",
              "      <td>185050</td>\n",
              "      <td>-0.189987</td>\n",
              "      <td>51.550377</td>\n",
              "      <td>(51.550377, -0.189987)</td>\n",
              "    </tr>\n",
              "    <tr>\n",
              "      <th>18690</th>\n",
              "      <td>00059963</td>\n",
              "      <td>1.0</td>\n",
              "      <td>Ampthill Square Estate</td>\n",
              "      <td>Housing</td>\n",
              "      <td>Vacant Tree Pit (planned: Parrotia persica van...</td>\n",
              "      <td>2019-01-08</td>\n",
              "      <td>2022/2023</td>\n",
              "      <td>NaN</td>\n",
              "      <td>NaN</td>\n",
              "      <td>NaN</td>\n",
              "      <td>E05000143</td>\n",
              "      <td>St Pancras and Somers Town</td>\n",
              "      <td>529216</td>\n",
              "      <td>183103</td>\n",
              "      <td>-0.138479</td>\n",
              "      <td>51.532058</td>\n",
              "      <td>(51.532058, -0.138479)</td>\n",
              "    </tr>\n",
              "    <tr>\n",
              "      <th>18958</th>\n",
              "      <td>00059246</td>\n",
              "      <td>1.0</td>\n",
              "      <td>Belsize nature reserve, Russell Nursery</td>\n",
              "      <td>Parks</td>\n",
              "      <td>Ulmus procera</td>\n",
              "      <td>2019-01-29</td>\n",
              "      <td>2021/2022</td>\n",
              "      <td>5.0</td>\n",
              "      <td>4.0</td>\n",
              "      <td>11.0</td>\n",
              "      <td>E05000134</td>\n",
              "      <td>Gospel Oak</td>\n",
              "      <td>527523</td>\n",
              "      <td>185233</td>\n",
              "      <td>-0.162101</td>\n",
              "      <td>51.551587</td>\n",
              "      <td>(51.551587, -0.162101)</td>\n",
              "    </tr>\n",
              "    <tr>\n",
              "      <th>19606</th>\n",
              "      <td>00005127</td>\n",
              "      <td>1.0</td>\n",
              "      <td>CUMBERLAND MARKET, OPEN SPACE (LS)</td>\n",
              "      <td>Parks</td>\n",
              "      <td>Platanus x hispanica</td>\n",
              "      <td>2018-03-13</td>\n",
              "      <td>2020/2021</td>\n",
              "      <td>10.0</td>\n",
              "      <td>8.0</td>\n",
              "      <td>38.0</td>\n",
              "      <td>E05000142</td>\n",
              "      <td>Regent's Park</td>\n",
              "      <td>528913</td>\n",
              "      <td>182814</td>\n",
              "      <td>-0.142959</td>\n",
              "      <td>51.529527</td>\n",
              "      <td>(51.529527, -0.142959)</td>\n",
              "    </tr>\n",
              "    <tr>\n",
              "      <th>20169</th>\n",
              "      <td>00017912</td>\n",
              "      <td>1.0</td>\n",
              "      <td>SHERRIFF ROAD</td>\n",
              "      <td>Highways</td>\n",
              "      <td>Tilia platyphyllos</td>\n",
              "      <td>2018-10-09</td>\n",
              "      <td>2021/2022</td>\n",
              "      <td>9.0</td>\n",
              "      <td>5.0</td>\n",
              "      <td>42.0</td>\n",
              "      <td>E05000145</td>\n",
              "      <td>West Hampstead</td>\n",
              "      <td>525265</td>\n",
              "      <td>184543</td>\n",
              "      <td>-0.194897</td>\n",
              "      <td>51.545886</td>\n",
              "      <td>(51.545886, -0.194897)</td>\n",
              "    </tr>\n",
              "    <tr>\n",
              "      <th>20226</th>\n",
              "      <td>00047080</td>\n",
              "      <td>1.0</td>\n",
              "      <td>Ampthill Square Estate</td>\n",
              "      <td>Housing</td>\n",
              "      <td>Malus unidentified species</td>\n",
              "      <td>2019-01-08</td>\n",
              "      <td>2022/2023</td>\n",
              "      <td>5.0</td>\n",
              "      <td>3.0</td>\n",
              "      <td>16.0</td>\n",
              "      <td>E05000143</td>\n",
              "      <td>St Pancras and Somers Town</td>\n",
              "      <td>529279</td>\n",
              "      <td>183106</td>\n",
              "      <td>-0.137573</td>\n",
              "      <td>51.532073</td>\n",
              "      <td>(51.532073, -0.137573)</td>\n",
              "    </tr>\n",
              "    <tr>\n",
              "      <th>21287</th>\n",
              "      <td>00029059</td>\n",
              "      <td>1.0</td>\n",
              "      <td>Estate 1-20 Marrick House (cons)</td>\n",
              "      <td>Housing</td>\n",
              "      <td>Sambucus nigra</td>\n",
              "      <td>2018-06-19</td>\n",
              "      <td>2021/2022</td>\n",
              "      <td>6.0</td>\n",
              "      <td>6.0</td>\n",
              "      <td>39.0</td>\n",
              "      <td>E05000140</td>\n",
              "      <td>Kilburn</td>\n",
              "      <td>525832</td>\n",
              "      <td>183583</td>\n",
              "      <td>-0.187075</td>\n",
              "      <td>51.537139</td>\n",
              "      <td>(51.537139, -0.187075)</td>\n",
              "    </tr>\n",
              "    <tr>\n",
              "      <th>22470</th>\n",
              "      <td>00012126</td>\n",
              "      <td>1.0</td>\n",
              "      <td>KINGS COLLEGE ROAD</td>\n",
              "      <td>Highways</td>\n",
              "      <td>Fraxinus excelsior</td>\n",
              "      <td>2018-07-13</td>\n",
              "      <td>2021/2022</td>\n",
              "      <td>18.0</td>\n",
              "      <td>12.0</td>\n",
              "      <td>48.0</td>\n",
              "      <td>E05000128</td>\n",
              "      <td>Belsize</td>\n",
              "      <td>526999</td>\n",
              "      <td>184416</td>\n",
              "      <td>-0.169957</td>\n",
              "      <td>51.544363</td>\n",
              "      <td>(51.544363, -0.169957)</td>\n",
              "    </tr>\n",
              "    <tr>\n",
              "      <th>23301</th>\n",
              "      <td>00010784</td>\n",
              "      <td>1.0</td>\n",
              "      <td>Holly Lodge Estate</td>\n",
              "      <td>Housing</td>\n",
              "      <td>Ilex aquifolium</td>\n",
              "      <td>2017-06-14</td>\n",
              "      <td>2020/2021</td>\n",
              "      <td>7.0</td>\n",
              "      <td>5.0</td>\n",
              "      <td>20.0</td>\n",
              "      <td>E05000137</td>\n",
              "      <td>Highgate</td>\n",
              "      <td>528472</td>\n",
              "      <td>186812</td>\n",
              "      <td>-0.147845</td>\n",
              "      <td>51.565562</td>\n",
              "      <td>(51.565562, -0.147845)</td>\n",
              "    </tr>\n",
              "    <tr>\n",
              "      <th>23315</th>\n",
              "      <td>00056485</td>\n",
              "      <td>1.0</td>\n",
              "      <td>WATERLOW PARK (LS)</td>\n",
              "      <td>Parks</td>\n",
              "      <td>Fraxinus excelsior</td>\n",
              "      <td>2019-05-24</td>\n",
              "      <td>2022/2023</td>\n",
              "      <td>12.0</td>\n",
              "      <td>5.0</td>\n",
              "      <td>16.0</td>\n",
              "      <td>E05000137</td>\n",
              "      <td>Highgate</td>\n",
              "      <td>528730</td>\n",
              "      <td>187264</td>\n",
              "      <td>-0.143955</td>\n",
              "      <td>51.569567</td>\n",
              "      <td>(51.569567, -0.143955)</td>\n",
              "    </tr>\n",
              "  </tbody>\n",
              "</table>\n",
              "</div>"
            ],
            "text/plain": [
              "      Identifier  Number Of Trees                                Site Name  \\\n",
              "66      00059712              1.0                       Maiden Lane Estate   \n",
              "125     00048578              1.0                              BUCK STREET   \n",
              "1148    00006577              1.0                              FAWLEY ROAD   \n",
              "1998    00007366              1.0        FORTUNE GREEN RD, OPEN SPACE (LS)   \n",
              "2246    00014633              1.0                          Mortimer Estate   \n",
              "5478    00060382              1.0                       SHAFTESBURY AVENUE   \n",
              "10637   00002874              1.0                            BURGHLEY ROAD   \n",
              "10977   00055227              1.0                            BURGHLEY ROAD   \n",
              "11795   00016702              1.0            RED LION SQUARE, GARDENS (LS)   \n",
              "11856   00054744              1.0          Carrol & Sanderson Close Estate   \n",
              "12056   00003694              1.0              Estate 1-161 Burnham (cons)   \n",
              "12936   00054558              1.0        ST. MARY'S KILBURN C OF E JMI (E)   \n",
              "13248   00059317              1.0                ADELAIDE ROAD NATURE AREA   \n",
              "16815   00055884              1.0                         HONEYBOURNE ROAD   \n",
              "18690   00059963              1.0                   Ampthill Square Estate   \n",
              "18958   00059246              1.0  Belsize nature reserve, Russell Nursery   \n",
              "19606   00005127              1.0       CUMBERLAND MARKET, OPEN SPACE (LS)   \n",
              "20169   00017912              1.0                            SHERRIFF ROAD   \n",
              "20226   00047080              1.0                   Ampthill Square Estate   \n",
              "21287   00029059              1.0         Estate 1-20 Marrick House (cons)   \n",
              "22470   00012126              1.0                       KINGS COLLEGE ROAD   \n",
              "23301   00010784              1.0                       Holly Lodge Estate   \n",
              "23315   00056485              1.0                       WATERLOW PARK (LS)   \n",
              "\n",
              "      Contract Area                                    Scientific Name  \\\n",
              "66          Housing                                   Acer saccharinum   \n",
              "125        Highways                                   Sorbus aucuparia   \n",
              "1148       Highways                                     Tilia euchlora   \n",
              "1998          Parks                                    Ilex aquifolium   \n",
              "2246        Housing                                     Tilia europaea   \n",
              "5478       Highways                                    Vacant Tree Pit   \n",
              "10637      Highways                               Platanus x hispanica   \n",
              "10977      Highways                              Amelanchier lamarckii   \n",
              "11795         Parks                               Platanus x hispanica   \n",
              "11856       Housing                        Prunus unidentified species   \n",
              "12056       Housing                                   Acer platanoides   \n",
              "12936     Education                              Amelanchier lamarckii   \n",
              "13248         Parks                                         Stump Only   \n",
              "16815      Highways                     Acer pseudoplatanus 'Brilliant   \n",
              "18690       Housing  Vacant Tree Pit (planned: Parrotia persica van...   \n",
              "18958         Parks                                      Ulmus procera   \n",
              "19606         Parks                               Platanus x hispanica   \n",
              "20169      Highways                                 Tilia platyphyllos   \n",
              "20226       Housing                         Malus unidentified species   \n",
              "21287       Housing                                     Sambucus nigra   \n",
              "22470      Highways                                 Fraxinus excelsior   \n",
              "23301       Housing                                    Ilex aquifolium   \n",
              "23315         Parks                                 Fraxinus excelsior   \n",
              "\n",
              "      Inspection Date Inspection Due Date  Height In Metres  Spread In Metres  \\\n",
              "66         2019-05-28           2022/2023              12.0               5.0   \n",
              "125        2017-07-19           2020/2021               6.0               2.0   \n",
              "1148       2018-09-28           2021/2022              15.0               6.0   \n",
              "1998       2017-03-21           2019/2020               9.0               6.0   \n",
              "2246       2019-01-29           2021/2022              16.0              12.0   \n",
              "5478              NaT                 NaN               NaN               NaN   \n",
              "10637      2017-08-14           2020/2021              20.0               8.0   \n",
              "10977      2017-08-14           2020/2021               3.0               2.0   \n",
              "11795      2018-06-04           2021/2022              30.0              23.0   \n",
              "11856      2017-01-06           2020/2021               3.0               3.0   \n",
              "12056      2018-04-17           2021/2022               3.0               1.0   \n",
              "12936      2019-10-07           2022/2023               4.0               2.0   \n",
              "13248      2019-01-31           2021/2022               0.0               5.0   \n",
              "16815      2018-05-10           2021/2022               2.0               1.0   \n",
              "18690      2019-01-08           2022/2023               NaN               NaN   \n",
              "18958      2019-01-29           2021/2022               5.0               4.0   \n",
              "19606      2018-03-13           2020/2021              10.0               8.0   \n",
              "20169      2018-10-09           2021/2022               9.0               5.0   \n",
              "20226      2019-01-08           2022/2023               5.0               3.0   \n",
              "21287      2018-06-19           2021/2022               6.0               6.0   \n",
              "22470      2018-07-13           2021/2022              18.0              12.0   \n",
              "23301      2017-06-14           2020/2021               7.0               5.0   \n",
              "23315      2019-05-24           2022/2023              12.0               5.0   \n",
              "\n",
              "       Diameter In Centimetres At Breast Height  Ward Code  \\\n",
              "66                                         20.0  E05000131   \n",
              "125                                        10.0  E05000130   \n",
              "1148                                       38.0  E05000145   \n",
              "1998                                       44.0  E05000132   \n",
              "2246                                       47.0  E05000140   \n",
              "5478                                        NaN  E05000138   \n",
              "10637                                      52.0  E05000139   \n",
              "10977                                       5.0  E05000139   \n",
              "11795                                     165.0  E05000138   \n",
              "11856                                      13.0  E05000137   \n",
              "12056                                       6.0  E05000128   \n",
              "12936                                       8.0  E05000140   \n",
              "13248                                      50.0  E05000128   \n",
              "16815                                       4.0  E05000145   \n",
              "18690                                       NaN  E05000143   \n",
              "18958                                      11.0  E05000134   \n",
              "19606                                      38.0  E05000142   \n",
              "20169                                      42.0  E05000145   \n",
              "20226                                      16.0  E05000143   \n",
              "21287                                      39.0  E05000140   \n",
              "22470                                      48.0  E05000128   \n",
              "23301                                      20.0  E05000137   \n",
              "23315                                      16.0  E05000137   \n",
              "\n",
              "                            Ward Name  Easting  Northing  Longitude  \\\n",
              "66                         Cantelowes   529795    184142  -0.129750   \n",
              "125    Camden Town with Primrose Hill   528900    184020  -0.142698   \n",
              "1148                   West Hampstead   525572    185015  -0.190313   \n",
              "1998                    Fortune Green   525074    185541  -0.197304   \n",
              "2246                          Kilburn   525763    183613  -0.188060   \n",
              "5478        Holborn and Covent Garden   530073    181247  -0.126813   \n",
              "10637                    Kentish Town   529119    185889  -0.138863   \n",
              "10977                    Kentish Town   528920    185694  -0.141802   \n",
              "11795       Holborn and Covent Garden   530572    181701  -0.119460   \n",
              "11856                        Highgate   528661    185556  -0.145585   \n",
              "12056                         Belsize   527015    184315  -0.169763   \n",
              "12936                         Kilburn   525443    183919  -0.192552   \n",
              "13248                         Belsize   527577    184297  -0.161664   \n",
              "16815                  West Hampstead   525593    185050  -0.189987   \n",
              "18690      St Pancras and Somers Town   529216    183103  -0.138479   \n",
              "18958                      Gospel Oak   527523    185233  -0.162101   \n",
              "19606                   Regent's Park   528913    182814  -0.142959   \n",
              "20169                  West Hampstead   525265    184543  -0.194897   \n",
              "20226      St Pancras and Somers Town   529279    183106  -0.137573   \n",
              "21287                         Kilburn   525832    183583  -0.187075   \n",
              "22470                         Belsize   526999    184416  -0.169957   \n",
              "23301                        Highgate   528472    186812  -0.147845   \n",
              "23315                        Highgate   528730    187264  -0.143955   \n",
              "\n",
              "        Latitude                Location  \n",
              "66     51.541266   (51.541266, -0.12975)  \n",
              "125    51.540371  (51.540371, -0.142698)  \n",
              "1148   51.550062  (51.550062, -0.190313)  \n",
              "1998   51.554901  (51.554901, -0.197304)  \n",
              "2246   51.537424   (51.537424, -0.18806)  \n",
              "5478   51.515186  (51.515186, -0.126813)  \n",
              "10637  51.557120   (51.55712, -0.138863)  \n",
              "10977  51.555408  (51.555408, -0.141802)  \n",
              "11795  51.519146   (51.519146, -0.11946)  \n",
              "11856  51.554226  (51.554226, -0.145585)  \n",
              "12056  51.543451  (51.543451, -0.169763)  \n",
              "12936  51.540245  (51.540245, -0.192552)  \n",
              "13248  51.543163  (51.543163, -0.161664)  \n",
              "16815  51.550377  (51.550377, -0.189987)  \n",
              "18690  51.532058  (51.532058, -0.138479)  \n",
              "18958  51.551587  (51.551587, -0.162101)  \n",
              "19606  51.529527  (51.529527, -0.142959)  \n",
              "20169  51.545886  (51.545886, -0.194897)  \n",
              "20226  51.532073  (51.532073, -0.137573)  \n",
              "21287  51.537139  (51.537139, -0.187075)  \n",
              "22470  51.544363  (51.544363, -0.169957)  \n",
              "23301  51.565562  (51.565562, -0.147845)  \n",
              "23315  51.569567  (51.569567, -0.143955)  "
            ]
          },
          "execution_count": 78,
          "metadata": {},
          "output_type": "execute_result"
        }
      ],
      "source": [
        "# Find trees that don't have matching environmental data\n",
        "mask = ~trees[\"Identifier\"].isin(environmental[\"Identifier\"])\n",
        "trees[mask]"
      ]
    },
    {
      "cell_type": "code",
      "execution_count": null,
      "id": "36cabc0b-2d67-4a8d-8d85-6d3d3b40acfb",
      "metadata": {
        "id": "36cabc0b-2d67-4a8d-8d85-6d3d3b40acfb",
        "outputId": "0852f1ec-ed4a-42c1-aa92-ee98e135b9a8"
      },
      "outputs": [
        {
          "data": {
            "text/plain": [
              "(23, 17)"
            ]
          },
          "execution_count": 79,
          "metadata": {},
          "output_type": "execute_result"
        }
      ],
      "source": [
        "# Confirm how many rows we have\n",
        "# TODO\n",
        "trees[mask].shape"
      ]
    },
    {
      "cell_type": "markdown",
      "id": "163e0301-fae2-41cc-a7a7-11a31b9e0499",
      "metadata": {
        "id": "163e0301-fae2-41cc-a7a7-11a31b9e0499"
      },
      "source": [
        "### 8.2 Find Environmental Data that Doesn't have Matching Tree Data\n",
        "<div style=\"background-color:lemonchiffon; border:1px solid; padding:5px; margin:5px; font-weight:bold\"><font color=\"crimson\">\n",
        "TODO: Complete the following code cells\n",
        "    </font></div>"
      ]
    },
    {
      "cell_type": "code",
      "execution_count": null,
      "id": "17727576-c7c3-487a-87d1-d27d326f661c",
      "metadata": {
        "id": "17727576-c7c3-487a-87d1-d27d326f661c",
        "outputId": "d2004558-d9c1-4464-f5e1-23a6c0fb5397"
      },
      "outputs": [
        {
          "data": {
            "text/html": [
              "<div>\n",
              "<style scoped>\n",
              "    .dataframe tbody tr th:only-of-type {\n",
              "        vertical-align: middle;\n",
              "    }\n",
              "\n",
              "    .dataframe tbody tr th {\n",
              "        vertical-align: top;\n",
              "    }\n",
              "\n",
              "    .dataframe thead th {\n",
              "        text-align: right;\n",
              "    }\n",
              "</style>\n",
              "<table border=\"1\" class=\"dataframe\">\n",
              "  <thead>\n",
              "    <tr style=\"text-align: right;\">\n",
              "      <th></th>\n",
              "      <th>Identifier</th>\n",
              "      <th>Maturity</th>\n",
              "      <th>Physiological Condition</th>\n",
              "      <th>Tree Set To Be Removed</th>\n",
              "      <th>Removal Reason</th>\n",
              "      <th>Capital Asset Value For Amenity Trees</th>\n",
              "      <th>Carbon Storage In Kilograms</th>\n",
              "      <th>Gross Carbon Sequestration Per Year In Kilograms</th>\n",
              "      <th>Pollution Removal Per Year In Grams</th>\n",
              "    </tr>\n",
              "  </thead>\n",
              "  <tbody>\n",
              "  </tbody>\n",
              "</table>\n",
              "</div>"
            ],
            "text/plain": [
              "Empty DataFrame\n",
              "Columns: [Identifier, Maturity, Physiological Condition, Tree Set To Be Removed, Removal Reason, Capital Asset Value For Amenity Trees, Carbon Storage In Kilograms, Gross Carbon Sequestration Per Year In Kilograms, Pollution Removal Per Year In Grams]\n",
              "Index: []"
            ]
          },
          "execution_count": 80,
          "metadata": {},
          "output_type": "execute_result"
        }
      ],
      "source": [
        "# Find environmental data that doesn't have matching tree data\n",
        "# TODO\n",
        "mask = ~environmental[\"Identifier\"].isin(trees[\"Identifier\"])\n",
        "environmental[mask]"
      ]
    },
    {
      "cell_type": "markdown",
      "id": "ce4445b4-53db-4d95-82b6-4af1088046bf",
      "metadata": {
        "id": "ce4445b4-53db-4d95-82b6-4af1088046bf"
      },
      "source": [
        "### 8.3 Find Trees that Don't have Matching Common Names Data\n",
        "<div style=\"background-color:lemonchiffon; border:1px solid; padding:5px; margin:5px; font-weight:bold\"><font color=\"crimson\">\n",
        "TODO: Complete the following code cells\n",
        "    </font></div>"
      ]
    },
    {
      "cell_type": "code",
      "execution_count": null,
      "id": "f66f9bfd-6bfc-4faf-946e-d5d8f6cbb4b6",
      "metadata": {
        "id": "f66f9bfd-6bfc-4faf-946e-d5d8f6cbb4b6",
        "outputId": "90430671-0293-42e9-d155-ee323d539822"
      },
      "outputs": [
        {
          "data": {
            "text/html": [
              "<div>\n",
              "<style scoped>\n",
              "    .dataframe tbody tr th:only-of-type {\n",
              "        vertical-align: middle;\n",
              "    }\n",
              "\n",
              "    .dataframe tbody tr th {\n",
              "        vertical-align: top;\n",
              "    }\n",
              "\n",
              "    .dataframe thead th {\n",
              "        text-align: right;\n",
              "    }\n",
              "</style>\n",
              "<table border=\"1\" class=\"dataframe\">\n",
              "  <thead>\n",
              "    <tr style=\"text-align: right;\">\n",
              "      <th></th>\n",
              "      <th>Identifier</th>\n",
              "      <th>Number Of Trees</th>\n",
              "      <th>Site Name</th>\n",
              "      <th>Contract Area</th>\n",
              "      <th>Scientific Name</th>\n",
              "      <th>Inspection Date</th>\n",
              "      <th>Inspection Due Date</th>\n",
              "      <th>Height In Metres</th>\n",
              "      <th>Spread In Metres</th>\n",
              "      <th>Diameter In Centimetres At Breast Height</th>\n",
              "      <th>Ward Code</th>\n",
              "      <th>Ward Name</th>\n",
              "      <th>Easting</th>\n",
              "      <th>Northing</th>\n",
              "      <th>Longitude</th>\n",
              "      <th>Latitude</th>\n",
              "      <th>Location</th>\n",
              "    </tr>\n",
              "  </thead>\n",
              "  <tbody>\n",
              "    <tr>\n",
              "      <th>151</th>\n",
              "      <td>00051832</td>\n",
              "      <td>1.0</td>\n",
              "      <td>ARGYLE WALK</td>\n",
              "      <td>Highways</td>\n",
              "      <td>Sorbus aucuparia 'Streetwise'</td>\n",
              "      <td>2019-02-10</td>\n",
              "      <td>2022/2023</td>\n",
              "      <td>7.0</td>\n",
              "      <td>3.0</td>\n",
              "      <td>12.0</td>\n",
              "      <td>E05000141</td>\n",
              "      <td>King's Cross</td>\n",
              "      <td>530227</td>\n",
              "      <td>182706</td>\n",
              "      <td>-0.124054</td>\n",
              "      <td>51.528257</td>\n",
              "      <td>(51.528257, -0.124054)</td>\n",
              "    </tr>\n",
              "    <tr>\n",
              "      <th>384</th>\n",
              "      <td>00053954</td>\n",
              "      <td>1.0</td>\n",
              "      <td>CHURCHILL ROAD</td>\n",
              "      <td>Highways</td>\n",
              "      <td>Sorbus aucuparia 'Streetwise'</td>\n",
              "      <td>2017-10-07</td>\n",
              "      <td>2020/2021</td>\n",
              "      <td>3.0</td>\n",
              "      <td>2.0</td>\n",
              "      <td>5.0</td>\n",
              "      <td>E05000139</td>\n",
              "      <td>Kentish Town</td>\n",
              "      <td>529007</td>\n",
              "      <td>185975</td>\n",
              "      <td>-0.140440</td>\n",
              "      <td>51.557913</td>\n",
              "      <td>(51.557913, -0.14044)</td>\n",
              "    </tr>\n",
              "    <tr>\n",
              "      <th>495</th>\n",
              "      <td>00047497</td>\n",
              "      <td>1.0</td>\n",
              "      <td>PATSHULL PLACE</td>\n",
              "      <td>Highways</td>\n",
              "      <td>Sorbus aucuparia 'Streetwise'</td>\n",
              "      <td>2017-06-22</td>\n",
              "      <td>2020/2021</td>\n",
              "      <td>5.0</td>\n",
              "      <td>3.0</td>\n",
              "      <td>11.0</td>\n",
              "      <td>E05000131</td>\n",
              "      <td>Cantelowes</td>\n",
              "      <td>529202</td>\n",
              "      <td>184717</td>\n",
              "      <td>-0.138094</td>\n",
              "      <td>51.546569</td>\n",
              "      <td>(51.546569, -0.138094)</td>\n",
              "    </tr>\n",
              "    <tr>\n",
              "      <th>611</th>\n",
              "      <td>00055434</td>\n",
              "      <td>1.0</td>\n",
              "      <td>SHARPLES HALL STREET</td>\n",
              "      <td>Highways</td>\n",
              "      <td>Sorbus aucuparia 'Streetwise'</td>\n",
              "      <td>2019-09-30</td>\n",
              "      <td>2022/2023</td>\n",
              "      <td>2.0</td>\n",
              "      <td>2.0</td>\n",
              "      <td>4.0</td>\n",
              "      <td>E05000130</td>\n",
              "      <td>Camden Town with Primrose Hill</td>\n",
              "      <td>527962</td>\n",
              "      <td>184050</td>\n",
              "      <td>-0.156202</td>\n",
              "      <td>51.540853</td>\n",
              "      <td>(51.540853, -0.156202)</td>\n",
              "    </tr>\n",
              "    <tr>\n",
              "      <th>653</th>\n",
              "      <td>00055289</td>\n",
              "      <td>1.0</td>\n",
              "      <td>QUEEN'S CRESCENT</td>\n",
              "      <td>Highways</td>\n",
              "      <td>Sorbus aucuparia 'Streetwise'</td>\n",
              "      <td>2017-07-08</td>\n",
              "      <td>2020/2021</td>\n",
              "      <td>4.0</td>\n",
              "      <td>1.0</td>\n",
              "      <td>7.0</td>\n",
              "      <td>E05000136</td>\n",
              "      <td>Haverstock</td>\n",
              "      <td>528072</td>\n",
              "      <td>184723</td>\n",
              "      <td>-0.154369</td>\n",
              "      <td>51.546881</td>\n",
              "      <td>(51.546881, -0.154369)</td>\n",
              "    </tr>\n",
              "    <tr>\n",
              "      <th>...</th>\n",
              "      <td>...</td>\n",
              "      <td>...</td>\n",
              "      <td>...</td>\n",
              "      <td>...</td>\n",
              "      <td>...</td>\n",
              "      <td>...</td>\n",
              "      <td>...</td>\n",
              "      <td>...</td>\n",
              "      <td>...</td>\n",
              "      <td>...</td>\n",
              "      <td>...</td>\n",
              "      <td>...</td>\n",
              "      <td>...</td>\n",
              "      <td>...</td>\n",
              "      <td>...</td>\n",
              "      <td>...</td>\n",
              "      <td>...</td>\n",
              "    </tr>\n",
              "    <tr>\n",
              "      <th>21826</th>\n",
              "      <td>00050835</td>\n",
              "      <td>1.0</td>\n",
              "      <td>INGESTRE RD</td>\n",
              "      <td>Highways</td>\n",
              "      <td>Sorbus aucuparia 'Streetwise'</td>\n",
              "      <td>2017-08-18</td>\n",
              "      <td>2020/2021</td>\n",
              "      <td>3.0</td>\n",
              "      <td>1.0</td>\n",
              "      <td>7.0</td>\n",
              "      <td>E05000139</td>\n",
              "      <td>Kentish Town</td>\n",
              "      <td>528962</td>\n",
              "      <td>185826</td>\n",
              "      <td>-0.141137</td>\n",
              "      <td>51.556589</td>\n",
              "      <td>(51.556589, -0.141137)</td>\n",
              "    </tr>\n",
              "    <tr>\n",
              "      <th>22948</th>\n",
              "      <td>00052341</td>\n",
              "      <td>1.0</td>\n",
              "      <td>NEW COMPTON STREET</td>\n",
              "      <td>Highways</td>\n",
              "      <td>Sorbus aucuparia 'Streetwise'</td>\n",
              "      <td>2019-07-08</td>\n",
              "      <td>2022/2023</td>\n",
              "      <td>4.0</td>\n",
              "      <td>3.0</td>\n",
              "      <td>6.0</td>\n",
              "      <td>E05000138</td>\n",
              "      <td>Holborn and Covent Garden</td>\n",
              "      <td>529976</td>\n",
              "      <td>181160</td>\n",
              "      <td>-0.128249</td>\n",
              "      <td>51.514422</td>\n",
              "      <td>(51.514422, -0.128249)</td>\n",
              "    </tr>\n",
              "    <tr>\n",
              "      <th>23266</th>\n",
              "      <td>00048846</td>\n",
              "      <td>1.0</td>\n",
              "      <td>ASMARA ROAD</td>\n",
              "      <td>Highways</td>\n",
              "      <td>Sorbus aucuparia 'Streetwise'</td>\n",
              "      <td>2018-08-28</td>\n",
              "      <td>2021/2022</td>\n",
              "      <td>5.0</td>\n",
              "      <td>3.0</td>\n",
              "      <td>8.0</td>\n",
              "      <td>E05000132</td>\n",
              "      <td>Fortune Green</td>\n",
              "      <td>524568</td>\n",
              "      <td>185347</td>\n",
              "      <td>-0.204661</td>\n",
              "      <td>51.553268</td>\n",
              "      <td>(51.553268, -0.204661)</td>\n",
              "    </tr>\n",
              "    <tr>\n",
              "      <th>23335</th>\n",
              "      <td>00048705</td>\n",
              "      <td>1.0</td>\n",
              "      <td>GOLDINGTON STREET</td>\n",
              "      <td>Highways</td>\n",
              "      <td>Sorbus aucuparia 'Streetwise'</td>\n",
              "      <td>2019-10-23</td>\n",
              "      <td>2022/2023</td>\n",
              "      <td>6.0</td>\n",
              "      <td>2.0</td>\n",
              "      <td>12.0</td>\n",
              "      <td>E05000143</td>\n",
              "      <td>St Pancras and Somers Town</td>\n",
              "      <td>529662</td>\n",
              "      <td>183417</td>\n",
              "      <td>-0.131941</td>\n",
              "      <td>51.534780</td>\n",
              "      <td>(51.53478, -0.131941)</td>\n",
              "    </tr>\n",
              "    <tr>\n",
              "      <th>23372</th>\n",
              "      <td>00031627</td>\n",
              "      <td>1.0</td>\n",
              "      <td>ST. GEORGE THE MARTYR C OF E JMI (E)</td>\n",
              "      <td>Education</td>\n",
              "      <td>Cotoneaster salicifolius</td>\n",
              "      <td>2018-07-23</td>\n",
              "      <td>2021/2022</td>\n",
              "      <td>5.0</td>\n",
              "      <td>5.0</td>\n",
              "      <td>8.0</td>\n",
              "      <td>E05000138</td>\n",
              "      <td>Holborn and Covent Garden</td>\n",
              "      <td>530742</td>\n",
              "      <td>182119</td>\n",
              "      <td>-0.116856</td>\n",
              "      <td>51.522865</td>\n",
              "      <td>(51.522865, -0.116856)</td>\n",
              "    </tr>\n",
              "  </tbody>\n",
              "</table>\n",
              "<p>76 rows × 17 columns</p>\n",
              "</div>"
            ],
            "text/plain": [
              "      Identifier  Number Of Trees                             Site Name  \\\n",
              "151     00051832              1.0                           ARGYLE WALK   \n",
              "384     00053954              1.0                        CHURCHILL ROAD   \n",
              "495     00047497              1.0                        PATSHULL PLACE   \n",
              "611     00055434              1.0                  SHARPLES HALL STREET   \n",
              "653     00055289              1.0                      QUEEN'S CRESCENT   \n",
              "...          ...              ...                                   ...   \n",
              "21826   00050835              1.0                           INGESTRE RD   \n",
              "22948   00052341              1.0                    NEW COMPTON STREET   \n",
              "23266   00048846              1.0                           ASMARA ROAD   \n",
              "23335   00048705              1.0                     GOLDINGTON STREET   \n",
              "23372   00031627              1.0  ST. GEORGE THE MARTYR C OF E JMI (E)   \n",
              "\n",
              "      Contract Area                Scientific Name Inspection Date  \\\n",
              "151        Highways  Sorbus aucuparia 'Streetwise'      2019-02-10   \n",
              "384        Highways  Sorbus aucuparia 'Streetwise'      2017-10-07   \n",
              "495        Highways  Sorbus aucuparia 'Streetwise'      2017-06-22   \n",
              "611        Highways  Sorbus aucuparia 'Streetwise'      2019-09-30   \n",
              "653        Highways  Sorbus aucuparia 'Streetwise'      2017-07-08   \n",
              "...             ...                            ...             ...   \n",
              "21826      Highways  Sorbus aucuparia 'Streetwise'      2017-08-18   \n",
              "22948      Highways  Sorbus aucuparia 'Streetwise'      2019-07-08   \n",
              "23266      Highways  Sorbus aucuparia 'Streetwise'      2018-08-28   \n",
              "23335      Highways  Sorbus aucuparia 'Streetwise'      2019-10-23   \n",
              "23372     Education       Cotoneaster salicifolius      2018-07-23   \n",
              "\n",
              "      Inspection Due Date  Height In Metres  Spread In Metres  \\\n",
              "151             2022/2023               7.0               3.0   \n",
              "384             2020/2021               3.0               2.0   \n",
              "495             2020/2021               5.0               3.0   \n",
              "611             2022/2023               2.0               2.0   \n",
              "653             2020/2021               4.0               1.0   \n",
              "...                   ...               ...               ...   \n",
              "21826           2020/2021               3.0               1.0   \n",
              "22948           2022/2023               4.0               3.0   \n",
              "23266           2021/2022               5.0               3.0   \n",
              "23335           2022/2023               6.0               2.0   \n",
              "23372           2021/2022               5.0               5.0   \n",
              "\n",
              "       Diameter In Centimetres At Breast Height  Ward Code  \\\n",
              "151                                        12.0  E05000141   \n",
              "384                                         5.0  E05000139   \n",
              "495                                        11.0  E05000131   \n",
              "611                                         4.0  E05000130   \n",
              "653                                         7.0  E05000136   \n",
              "...                                         ...        ...   \n",
              "21826                                       7.0  E05000139   \n",
              "22948                                       6.0  E05000138   \n",
              "23266                                       8.0  E05000132   \n",
              "23335                                      12.0  E05000143   \n",
              "23372                                       8.0  E05000138   \n",
              "\n",
              "                            Ward Name  Easting  Northing  Longitude  \\\n",
              "151                      King's Cross   530227    182706  -0.124054   \n",
              "384                      Kentish Town   529007    185975  -0.140440   \n",
              "495                        Cantelowes   529202    184717  -0.138094   \n",
              "611    Camden Town with Primrose Hill   527962    184050  -0.156202   \n",
              "653                        Haverstock   528072    184723  -0.154369   \n",
              "...                               ...      ...       ...        ...   \n",
              "21826                    Kentish Town   528962    185826  -0.141137   \n",
              "22948       Holborn and Covent Garden   529976    181160  -0.128249   \n",
              "23266                   Fortune Green   524568    185347  -0.204661   \n",
              "23335      St Pancras and Somers Town   529662    183417  -0.131941   \n",
              "23372       Holborn and Covent Garden   530742    182119  -0.116856   \n",
              "\n",
              "        Latitude                Location  \n",
              "151    51.528257  (51.528257, -0.124054)  \n",
              "384    51.557913   (51.557913, -0.14044)  \n",
              "495    51.546569  (51.546569, -0.138094)  \n",
              "611    51.540853  (51.540853, -0.156202)  \n",
              "653    51.546881  (51.546881, -0.154369)  \n",
              "...          ...                     ...  \n",
              "21826  51.556589  (51.556589, -0.141137)  \n",
              "22948  51.514422  (51.514422, -0.128249)  \n",
              "23266  51.553268  (51.553268, -0.204661)  \n",
              "23335  51.534780   (51.53478, -0.131941)  \n",
              "23372  51.522865  (51.522865, -0.116856)  \n",
              "\n",
              "[76 rows x 17 columns]"
            ]
          },
          "execution_count": 81,
          "metadata": {},
          "output_type": "execute_result"
        }
      ],
      "source": [
        "# Find trees with scientific names that don't have matching common names data\n",
        "# TODO\n",
        "mask = ~trees[\"Scientific Name\"].isin(names[\"Scientific Name\"])\n",
        "trees[mask]"
      ]
    },
    {
      "cell_type": "code",
      "execution_count": null,
      "id": "183f5951-2c4e-486a-beb9-68abc8be8674",
      "metadata": {
        "id": "183f5951-2c4e-486a-beb9-68abc8be8674",
        "outputId": "d542e1b1-6c6a-414e-cea3-0d63835c5209"
      },
      "outputs": [
        {
          "data": {
            "text/plain": [
              "(76, 17)"
            ]
          },
          "execution_count": 82,
          "metadata": {},
          "output_type": "execute_result"
        }
      ],
      "source": [
        "# Confirm how many rows we have\n",
        "# TODO\n",
        "trees[mask].shape"
      ]
    },
    {
      "cell_type": "markdown",
      "id": "28a9ce1a-e0d6-42b2-b83a-bfb1c1a21f75",
      "metadata": {
        "id": "28a9ce1a-e0d6-42b2-b83a-bfb1c1a21f75"
      },
      "source": [
        "<hr/>\n",
        "\n",
        "### 8.4 Observations\n",
        "\n",
        "<div style=\"background-color:lemonchiffon; border:1px solid; padding:5px; margin:5px; font-weight:bold\"><font color=\"crimson\">\n",
        "TODO: Write down your observation about unmatched data issues.\n",
        "    </font></div>\n"
      ]
    },
    {
      "cell_type": "markdown",
      "id": "2af6cdef-2ef6-4d55-8086-ea994f8c5e4f",
      "metadata": {
        "id": "2af6cdef-2ef6-4d55-8086-ea994f8c5e4f"
      },
      "source": [
        "\n",
        "- We have 23 trees that are not matched in the environmental data\n",
        "- We have 76 trees that are not matched in the common names data\n"
      ]
    },
    {
      "cell_type": "markdown",
      "id": "161b34af-5495-4656-b5ff-5a6e2cd8cd30",
      "metadata": {
        "id": "161b34af-5495-4656-b5ff-5a6e2cd8cd30"
      },
      "source": [
        "\n",
        "<hr/>"
      ]
    },
    {
      "cell_type": "markdown",
      "id": "34c0abcb-56bc-4646-936f-be2cf373b75a",
      "metadata": {
        "id": "34c0abcb-56bc-4646-936f-be2cf373b75a"
      },
      "source": [
        "# END OF NOTEBOOK"
      ]
    }
  ],
  "metadata": {
    "kernelspec": {
      "display_name": "Python 3 (ipykernel)",
      "language": "python",
      "name": "python3"
    },
    "language_info": {
      "codemirror_mode": {
        "name": "ipython",
        "version": 3
      },
      "file_extension": ".py",
      "mimetype": "text/x-python",
      "name": "python",
      "nbconvert_exporter": "python",
      "pygments_lexer": "ipython3",
      "version": "3.9.7"
    },
    "colab": {
      "provenance": [],
      "include_colab_link": true
    }
  },
  "nbformat": 4,
  "nbformat_minor": 5
}